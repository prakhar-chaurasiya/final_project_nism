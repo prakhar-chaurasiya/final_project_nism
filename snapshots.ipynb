{
  "cells": [
    {
      "cell_type": "code",
      "execution_count": null,
      "metadata": {
        "id": "Sk7qDM5meOth"
      },
      "outputs": [],
      "source": [
        "# Compute demand suppy snapshots\n",
        "ofile = \"order/l&tinfra.order\"\n",
        "tfile = \"trade/L&TINFRA.trade\"\n",
        "\n",
        "global DS\n",
        "DS = {\"B\": dict(), \"S\":dict()}\n",
        "\n",
        "def add(side, price, quantity):\n",
        "    if(DS[side].__contains__(price)):\n",
        "       DS[side][price] += quantity\n",
        "    else:\n",
        "        DS[side][price] = quantity\n",
        "\n",
        "def remove(side, price, quantity):\n",
        "    DS[side][price] -= quantity\n",
        "\n",
        "tf = open(tfile, 'r')\n",
        "of = open(ofile, 'r')\n",
        "transaction = tf.readline()\n",
        "tdata = transaction.split(sep = '|')\n",
        "trade_time = int(tdata[3])\n",
        "trade_price = int(tdata[5])\n",
        "trade_qty = int(tdata[6])\n",
        "\n",
        "order = of.readline()\n",
        "odata = order.split(sep = '|')\n",
        "order_time = int(odata[4])\n",
        "order_price = int(odata[5])\n",
        "side = odata[2]\n",
        "action = int(odata[3])\n",
        "order_quantity = int(odata[6])\n",
        "\n",
        "while(order_time < trade_time):\n",
        "    if(action == 1):\n",
        "        add(side, order_price, order_quantity)\n",
        "    elif(action == 3):\n",
        "        remove(side, order_price, order_quantity)\n",
        "    else:\n",
        "        pass\n",
        "    order = of.readline()\n",
        "    odata = order.split(sep = '|')\n",
        "    order_time = int(odata[4])\n",
        "    order_price = int(odata[5])\n",
        "    side = odata[2]\n",
        "    action = int(odata[3])\n",
        "    order_quantity = int(odata[6])\n",
        "    print(DS)\n",
        "\n",
        "\n",
        "\n"
      ]
    }
  ],
  "metadata": {
    "colab": {
      "provenance": []
    },
    "kernelspec": {
      "display_name": "Python 3.11.0 64-bit",
      "language": "python",
      "name": "python3"
    },
    "language_info": {
      "name": "python",
      "version": "3.11.0"
    },
    "vscode": {
      "interpreter": {
        "hash": "fe28ae7d9c9bf9acefcd9b92be1eeb968446cc5f160dc4dd0306016ad4b39d5b"
      }
    }
  },
  "nbformat": 4,
  "nbformat_minor": 0
}
