{
  "nbformat": 4,
  "nbformat_minor": 0,
  "metadata": {
    "colab": {
      "provenance": [],
      "collapsed_sections": [
        "HZPCwG-ikEXs"
      ],
      "mount_file_id": "1CxlgpYjJxAE2ySCeyM7eyZijUzKU9qv-",
      "authorship_tag": "ABX9TyPA8jdVuwSy8ppc8L2gzGqv",
      "include_colab_link": true
    },
    "kernelspec": {
      "name": "python3",
      "display_name": "Python 3"
    },
    "language_info": {
      "name": "python"
    }
  },
  "cells": [
    {
      "cell_type": "markdown",
      "metadata": {
        "id": "view-in-github",
        "colab_type": "text"
      },
      "source": [
        "<a href=\"https://colab.research.google.com/github/prakhar-chaurasiya/final_project_nism/blob/main/order_data.ipynb\" target=\"_parent\"><img src=\"https://colab.research.google.com/assets/colab-badge.svg\" alt=\"Open In Colab\"/></a>"
      ]
    },
    {
      "cell_type": "markdown",
      "source": [
        "to do \n",
        "\n",
        "\n",
        "*   demand and supply\n",
        "*   buy max price and sell min price per second\n",
        "\n"
      ],
      "metadata": {
        "id": "SU58gpVMqgBp"
      }
    },
    {
      "cell_type": "code",
      "execution_count": 59,
      "metadata": {
        "colab": {
          "base_uri": "https://localhost:8080/",
          "height": 424
        },
        "id": "TICuAvvuFGGD",
        "outputId": "b578e4cd-e777-46ee-fb1a-4ab454ff7062"
      },
      "outputs": [
        {
          "output_type": "execute_result",
          "data": {
            "text/plain": [
              "        session           orderid side  action      order_time  price  fquant  \\\n",
              "0            PO  1000000000002582    B       1  84908467825804  27170       1   \n",
              "1            PO  1000000000002729    S       1  84908467825877  28995     100   \n",
              "2            PO  1000000000003157    S       1  84908467826858  29630       6   \n",
              "3            PO  1000000000003255    S       1  84908467827494  30500    1000   \n",
              "4            PO  1000000000003402    S       1  84908467828919  29070     500   \n",
              "...         ...               ...  ...     ...             ...    ...     ...   \n",
              "1056884      RM  1000000001596191    S       3  84910125129363  29500     100   \n",
              "1056885      RM  1000000008423767    S       3  84910125129364  29800      28   \n",
              "1056886      RM  1000000001228775    B       3  84910125129365  28650       1   \n",
              "1056887      RM  1000000009083263    S       3  84910125129366  29400       1   \n",
              "1056888      RM  1000000010788928    B       3  84910125129367  28200       1   \n",
              "\n",
              "         dquant market ioc stoploss  triggerprice                       time  \\\n",
              "0             0      N   N        N             0 2011-01-21 09:00:00.174011   \n",
              "1             0      N   N        N             0 2011-01-21 09:00:00.175125   \n",
              "2             0      N   N        N             0 2011-01-21 09:00:00.190094   \n",
              "3             0      N   N        N             0 2011-01-21 09:00:00.199799   \n",
              "4             0      N   N        N             0 2011-01-21 09:00:00.221542   \n",
              "...         ...    ...  ..      ...           ...                        ...   \n",
              "1056884       0      N   N        N             0 2011-01-21 16:01:28.619431   \n",
              "1056885       0      N   N        N             0 2011-01-21 16:01:28.619446   \n",
              "1056886       0      N   N        N             0 2011-01-21 16:01:28.619461   \n",
              "1056887       0      N   N        N             0 2011-01-21 16:01:28.619476   \n",
              "1056888       0      N   N        N             0 2011-01-21 16:01:28.619492   \n",
              "\n",
              "            sec  \n",
              "0         90000  \n",
              "1         90000  \n",
              "2         90000  \n",
              "3         90000  \n",
              "4         90000  \n",
              "...         ...  \n",
              "1056884  160128  \n",
              "1056885  160128  \n",
              "1056886  160128  \n",
              "1056887  160128  \n",
              "1056888  160128  \n",
              "\n",
              "[1056889 rows x 14 columns]"
            ],
            "text/html": [
              "\n",
              "  <div id=\"df-27f10022-f1d3-40c0-aa25-f96ae5f1fdea\">\n",
              "    <div class=\"colab-df-container\">\n",
              "      <div>\n",
              "<style scoped>\n",
              "    .dataframe tbody tr th:only-of-type {\n",
              "        vertical-align: middle;\n",
              "    }\n",
              "\n",
              "    .dataframe tbody tr th {\n",
              "        vertical-align: top;\n",
              "    }\n",
              "\n",
              "    .dataframe thead th {\n",
              "        text-align: right;\n",
              "    }\n",
              "</style>\n",
              "<table border=\"1\" class=\"dataframe\">\n",
              "  <thead>\n",
              "    <tr style=\"text-align: right;\">\n",
              "      <th></th>\n",
              "      <th>session</th>\n",
              "      <th>orderid</th>\n",
              "      <th>side</th>\n",
              "      <th>action</th>\n",
              "      <th>order_time</th>\n",
              "      <th>price</th>\n",
              "      <th>fquant</th>\n",
              "      <th>dquant</th>\n",
              "      <th>market</th>\n",
              "      <th>ioc</th>\n",
              "      <th>stoploss</th>\n",
              "      <th>triggerprice</th>\n",
              "      <th>time</th>\n",
              "      <th>sec</th>\n",
              "    </tr>\n",
              "  </thead>\n",
              "  <tbody>\n",
              "    <tr>\n",
              "      <th>0</th>\n",
              "      <td>PO</td>\n",
              "      <td>1000000000002582</td>\n",
              "      <td>B</td>\n",
              "      <td>1</td>\n",
              "      <td>84908467825804</td>\n",
              "      <td>27170</td>\n",
              "      <td>1</td>\n",
              "      <td>0</td>\n",
              "      <td>N</td>\n",
              "      <td>N</td>\n",
              "      <td>N</td>\n",
              "      <td>0</td>\n",
              "      <td>2011-01-21 09:00:00.174011</td>\n",
              "      <td>90000</td>\n",
              "    </tr>\n",
              "    <tr>\n",
              "      <th>1</th>\n",
              "      <td>PO</td>\n",
              "      <td>1000000000002729</td>\n",
              "      <td>S</td>\n",
              "      <td>1</td>\n",
              "      <td>84908467825877</td>\n",
              "      <td>28995</td>\n",
              "      <td>100</td>\n",
              "      <td>0</td>\n",
              "      <td>N</td>\n",
              "      <td>N</td>\n",
              "      <td>N</td>\n",
              "      <td>0</td>\n",
              "      <td>2011-01-21 09:00:00.175125</td>\n",
              "      <td>90000</td>\n",
              "    </tr>\n",
              "    <tr>\n",
              "      <th>2</th>\n",
              "      <td>PO</td>\n",
              "      <td>1000000000003157</td>\n",
              "      <td>S</td>\n",
              "      <td>1</td>\n",
              "      <td>84908467826858</td>\n",
              "      <td>29630</td>\n",
              "      <td>6</td>\n",
              "      <td>0</td>\n",
              "      <td>N</td>\n",
              "      <td>N</td>\n",
              "      <td>N</td>\n",
              "      <td>0</td>\n",
              "      <td>2011-01-21 09:00:00.190094</td>\n",
              "      <td>90000</td>\n",
              "    </tr>\n",
              "    <tr>\n",
              "      <th>3</th>\n",
              "      <td>PO</td>\n",
              "      <td>1000000000003255</td>\n",
              "      <td>S</td>\n",
              "      <td>1</td>\n",
              "      <td>84908467827494</td>\n",
              "      <td>30500</td>\n",
              "      <td>1000</td>\n",
              "      <td>0</td>\n",
              "      <td>N</td>\n",
              "      <td>N</td>\n",
              "      <td>N</td>\n",
              "      <td>0</td>\n",
              "      <td>2011-01-21 09:00:00.199799</td>\n",
              "      <td>90000</td>\n",
              "    </tr>\n",
              "    <tr>\n",
              "      <th>4</th>\n",
              "      <td>PO</td>\n",
              "      <td>1000000000003402</td>\n",
              "      <td>S</td>\n",
              "      <td>1</td>\n",
              "      <td>84908467828919</td>\n",
              "      <td>29070</td>\n",
              "      <td>500</td>\n",
              "      <td>0</td>\n",
              "      <td>N</td>\n",
              "      <td>N</td>\n",
              "      <td>N</td>\n",
              "      <td>0</td>\n",
              "      <td>2011-01-21 09:00:00.221542</td>\n",
              "      <td>90000</td>\n",
              "    </tr>\n",
              "    <tr>\n",
              "      <th>...</th>\n",
              "      <td>...</td>\n",
              "      <td>...</td>\n",
              "      <td>...</td>\n",
              "      <td>...</td>\n",
              "      <td>...</td>\n",
              "      <td>...</td>\n",
              "      <td>...</td>\n",
              "      <td>...</td>\n",
              "      <td>...</td>\n",
              "      <td>...</td>\n",
              "      <td>...</td>\n",
              "      <td>...</td>\n",
              "      <td>...</td>\n",
              "      <td>...</td>\n",
              "    </tr>\n",
              "    <tr>\n",
              "      <th>1056884</th>\n",
              "      <td>RM</td>\n",
              "      <td>1000000001596191</td>\n",
              "      <td>S</td>\n",
              "      <td>3</td>\n",
              "      <td>84910125129363</td>\n",
              "      <td>29500</td>\n",
              "      <td>100</td>\n",
              "      <td>0</td>\n",
              "      <td>N</td>\n",
              "      <td>N</td>\n",
              "      <td>N</td>\n",
              "      <td>0</td>\n",
              "      <td>2011-01-21 16:01:28.619431</td>\n",
              "      <td>160128</td>\n",
              "    </tr>\n",
              "    <tr>\n",
              "      <th>1056885</th>\n",
              "      <td>RM</td>\n",
              "      <td>1000000008423767</td>\n",
              "      <td>S</td>\n",
              "      <td>3</td>\n",
              "      <td>84910125129364</td>\n",
              "      <td>29800</td>\n",
              "      <td>28</td>\n",
              "      <td>0</td>\n",
              "      <td>N</td>\n",
              "      <td>N</td>\n",
              "      <td>N</td>\n",
              "      <td>0</td>\n",
              "      <td>2011-01-21 16:01:28.619446</td>\n",
              "      <td>160128</td>\n",
              "    </tr>\n",
              "    <tr>\n",
              "      <th>1056886</th>\n",
              "      <td>RM</td>\n",
              "      <td>1000000001228775</td>\n",
              "      <td>B</td>\n",
              "      <td>3</td>\n",
              "      <td>84910125129365</td>\n",
              "      <td>28650</td>\n",
              "      <td>1</td>\n",
              "      <td>0</td>\n",
              "      <td>N</td>\n",
              "      <td>N</td>\n",
              "      <td>N</td>\n",
              "      <td>0</td>\n",
              "      <td>2011-01-21 16:01:28.619461</td>\n",
              "      <td>160128</td>\n",
              "    </tr>\n",
              "    <tr>\n",
              "      <th>1056887</th>\n",
              "      <td>RM</td>\n",
              "      <td>1000000009083263</td>\n",
              "      <td>S</td>\n",
              "      <td>3</td>\n",
              "      <td>84910125129366</td>\n",
              "      <td>29400</td>\n",
              "      <td>1</td>\n",
              "      <td>0</td>\n",
              "      <td>N</td>\n",
              "      <td>N</td>\n",
              "      <td>N</td>\n",
              "      <td>0</td>\n",
              "      <td>2011-01-21 16:01:28.619476</td>\n",
              "      <td>160128</td>\n",
              "    </tr>\n",
              "    <tr>\n",
              "      <th>1056888</th>\n",
              "      <td>RM</td>\n",
              "      <td>1000000010788928</td>\n",
              "      <td>B</td>\n",
              "      <td>3</td>\n",
              "      <td>84910125129367</td>\n",
              "      <td>28200</td>\n",
              "      <td>1</td>\n",
              "      <td>0</td>\n",
              "      <td>N</td>\n",
              "      <td>N</td>\n",
              "      <td>N</td>\n",
              "      <td>0</td>\n",
              "      <td>2011-01-21 16:01:28.619492</td>\n",
              "      <td>160128</td>\n",
              "    </tr>\n",
              "  </tbody>\n",
              "</table>\n",
              "<p>1056889 rows × 14 columns</p>\n",
              "</div>\n",
              "      <button class=\"colab-df-convert\" onclick=\"convertToInteractive('df-27f10022-f1d3-40c0-aa25-f96ae5f1fdea')\"\n",
              "              title=\"Convert this dataframe to an interactive table.\"\n",
              "              style=\"display:none;\">\n",
              "        \n",
              "  <svg xmlns=\"http://www.w3.org/2000/svg\" height=\"24px\"viewBox=\"0 0 24 24\"\n",
              "       width=\"24px\">\n",
              "    <path d=\"M0 0h24v24H0V0z\" fill=\"none\"/>\n",
              "    <path d=\"M18.56 5.44l.94 2.06.94-2.06 2.06-.94-2.06-.94-.94-2.06-.94 2.06-2.06.94zm-11 1L8.5 8.5l.94-2.06 2.06-.94-2.06-.94L8.5 2.5l-.94 2.06-2.06.94zm10 10l.94 2.06.94-2.06 2.06-.94-2.06-.94-.94-2.06-.94 2.06-2.06.94z\"/><path d=\"M17.41 7.96l-1.37-1.37c-.4-.4-.92-.59-1.43-.59-.52 0-1.04.2-1.43.59L10.3 9.45l-7.72 7.72c-.78.78-.78 2.05 0 2.83L4 21.41c.39.39.9.59 1.41.59.51 0 1.02-.2 1.41-.59l7.78-7.78 2.81-2.81c.8-.78.8-2.07 0-2.86zM5.41 20L4 18.59l7.72-7.72 1.47 1.35L5.41 20z\"/>\n",
              "  </svg>\n",
              "      </button>\n",
              "      \n",
              "  <style>\n",
              "    .colab-df-container {\n",
              "      display:flex;\n",
              "      flex-wrap:wrap;\n",
              "      gap: 12px;\n",
              "    }\n",
              "\n",
              "    .colab-df-convert {\n",
              "      background-color: #E8F0FE;\n",
              "      border: none;\n",
              "      border-radius: 50%;\n",
              "      cursor: pointer;\n",
              "      display: none;\n",
              "      fill: #1967D2;\n",
              "      height: 32px;\n",
              "      padding: 0 0 0 0;\n",
              "      width: 32px;\n",
              "    }\n",
              "\n",
              "    .colab-df-convert:hover {\n",
              "      background-color: #E2EBFA;\n",
              "      box-shadow: 0px 1px 2px rgba(60, 64, 67, 0.3), 0px 1px 3px 1px rgba(60, 64, 67, 0.15);\n",
              "      fill: #174EA6;\n",
              "    }\n",
              "\n",
              "    [theme=dark] .colab-df-convert {\n",
              "      background-color: #3B4455;\n",
              "      fill: #D2E3FC;\n",
              "    }\n",
              "\n",
              "    [theme=dark] .colab-df-convert:hover {\n",
              "      background-color: #434B5C;\n",
              "      box-shadow: 0px 1px 3px 1px rgba(0, 0, 0, 0.15);\n",
              "      filter: drop-shadow(0px 1px 2px rgba(0, 0, 0, 0.3));\n",
              "      fill: #FFFFFF;\n",
              "    }\n",
              "  </style>\n",
              "\n",
              "      <script>\n",
              "        const buttonEl =\n",
              "          document.querySelector('#df-27f10022-f1d3-40c0-aa25-f96ae5f1fdea button.colab-df-convert');\n",
              "        buttonEl.style.display =\n",
              "          google.colab.kernel.accessAllowed ? 'block' : 'none';\n",
              "\n",
              "        async function convertToInteractive(key) {\n",
              "          const element = document.querySelector('#df-27f10022-f1d3-40c0-aa25-f96ae5f1fdea');\n",
              "          const dataTable =\n",
              "            await google.colab.kernel.invokeFunction('convertToInteractive',\n",
              "                                                     [key], {});\n",
              "          if (!dataTable) return;\n",
              "\n",
              "          const docLinkHtml = 'Like what you see? Visit the ' +\n",
              "            '<a target=\"_blank\" href=https://colab.research.google.com/notebooks/data_table.ipynb>data table notebook</a>'\n",
              "            + ' to learn more about interactive tables.';\n",
              "          element.innerHTML = '';\n",
              "          dataTable['output_type'] = 'display_data';\n",
              "          await google.colab.output.renderOutput(dataTable, element);\n",
              "          const docLink = document.createElement('div');\n",
              "          docLink.innerHTML = docLinkHtml;\n",
              "          element.appendChild(docLink);\n",
              "        }\n",
              "      </script>\n",
              "    </div>\n",
              "  </div>\n",
              "  "
            ]
          },
          "metadata": {},
          "execution_count": 59
        }
      ],
      "source": [
        "import pandas as pd\n",
        "import numpy as np\n",
        "from datetime import datetime\n",
        "import tensorflow as tf\n",
        "np.set_printoptions(suppress=True)\n",
        "\n",
        "dlf_file = '/content/drive/MyDrive/Colab Notebooks/FA/HIGHFREQ-DATA/highfreq/dlf.order'\n",
        "order_df = pd.read_csv(dlf_file, sep='|', header=None)\n",
        "order_df.columns =['session', 'orderid', 'side', 'action', 'order_time', 'price', 'fquant', 'dquant', 'market', 'ioc', 'stoploss', 'triggerprice']\n",
        "jiffy = 65536\n",
        "ist = 330*60\n",
        "order_df['time'] = order_df['order_time'].apply(lambda x: datetime.fromtimestamp(x/jiffy))#.strftime('%Y-%m-%d %H:%M:%S'))\n",
        "# order_df['min'] = order_df['order_time'].apply(lambda x: datetime.fromtimestamp(x/jiffy).strftime('%H:%M:%S'))\n",
        "order_df['sec'] = pd.to_datetime(order_df['time']).dt.strftime(\"%H%M%S\").astype('int')\n",
        "order_df"
      ]
    },
    {
      "cell_type": "markdown",
      "source": [
        "order min max price of a second"
      ],
      "metadata": {
        "id": "tunrkhwhjwf0"
      }
    },
    {
      "cell_type": "code",
      "source": [
        "all_prices_np = order_df[['market', 'sec', 'price']].values\n",
        "prices_np = all_prices_np[all_prices_np[:, 0] == 'N'][:, 1:]\n",
        "prices_tf = tf.convert_to_tensor(prices_np, dtype=tf.int32)\n",
        "rows, row_idx = np.unique(prices_np[:, 0], return_inverse=True)\n",
        "ohlc = np.zeros((rows.shape[0], 5), dtype=np.float32)\n",
        "for i, r in enumerate(rows):\n",
        "    p = prices_tf[prices_tf[:, 0]==r][:, 1].numpy()\n",
        "    o = p[0]\n",
        "    h = p.max()\n",
        "    l = p.min()\n",
        "    c = p[-1]\n",
        "    ohlc[i, 0] = r\n",
        "    ohlc[i, 1] = o\n",
        "    ohlc[i, 2] = h\n",
        "    ohlc[i, 3] = l\n",
        "    ohlc[i, 4] = c"
      ],
      "metadata": {
        "id": "TQrai-yhHNd2"
      },
      "execution_count": null,
      "outputs": []
    },
    {
      "cell_type": "code",
      "source": [
        "ohlc"
      ],
      "metadata": {
        "colab": {
          "base_uri": "https://localhost:8080/"
        },
        "id": "OplG0JVsdYBJ",
        "outputId": "431f944c-1830-48d1-ab61-b16d03e59281"
      },
      "execution_count": 56,
      "outputs": [
        {
          "output_type": "execute_result",
          "data": {
            "text/plain": [
              "array([[ 90000,  27170,  31790,  27100,  28400],\n",
              "       [ 90001,  28000,  31500,  26600,  26600],\n",
              "       [ 90002,  30100,  31580,  26400,  29600],\n",
              "       ...,\n",
              "       [155753,  29300,  29300,  29300,  29300],\n",
              "       [155957,  29600,  29600,  29600,  29600],\n",
              "       [160128,  30000,  30000,  28200,  28200]], dtype=int32)"
            ]
          },
          "metadata": {},
          "execution_count": 56
        }
      ]
    },
    {
      "cell_type": "code",
      "source": [
        "# pure numpy takes too much of time to execute so use tensorflow\n",
        "# ohlc1 = np.zeros((rows.shape[0], 5), dtype=np.int32)\n",
        "# for i, r in enumerate(rows):\n",
        "#     p = prices_np[prices_np[:, 0]==r][:, 1]\n",
        "#     o = p[0]\n",
        "#     h = p.max()\n",
        "#     l = p.min()\n",
        "#     c = p[-1]\n",
        "#     ohlc1[i, 0] = r\n",
        "#     ohlc1[i, 1] = o\n",
        "#     ohlc1[i, 2] = h\n",
        "#     ohlc1[i, 3] = l\n",
        "#     ohlc1[i, 4] = c\n",
        "#     print(r)\n"
      ],
      "metadata": {
        "id": "86UcHpandUKt"
      },
      "execution_count": null,
      "outputs": []
    },
    {
      "cell_type": "code",
      "source": [],
      "metadata": {
        "id": "haNBAxmnRz13"
      },
      "execution_count": null,
      "outputs": []
    },
    {
      "cell_type": "code",
      "source": [],
      "metadata": {
        "id": "gvXLZtZQHjUs"
      },
      "execution_count": null,
      "outputs": []
    },
    {
      "cell_type": "markdown",
      "source": [
        "# Rough"
      ],
      "metadata": {
        "id": "HZPCwG-ikEXs"
      }
    },
    {
      "cell_type": "code",
      "source": [
        "order_df['sec'].unique()"
      ],
      "metadata": {
        "colab": {
          "base_uri": "https://localhost:8080/"
        },
        "id": "eI2ZcIiHYX-t",
        "outputId": "b4a13db1-0f8e-469f-9d4a-7f6e14303603"
      },
      "execution_count": 18,
      "outputs": [
        {
          "output_type": "execute_result",
          "data": {
            "text/plain": [
              "array([ 90000,  90001,  90002, ..., 155902, 155957, 160128])"
            ]
          },
          "metadata": {},
          "execution_count": 18
        }
      ]
    },
    {
      "cell_type": "code",
      "source": [
        "all_prices_np = order_df[['market', 'sec', 'price']].values\n",
        "prices_np = all_prices_np[all_prices_np[:, 0] == 'N'][:, 1:]\n",
        "rows, row_idx = np.unique(prices_np[:, 0], return_inverse=True)\n",
        "# ohlc = np.zeros((rows.shape[0], 2), dtype=prices_np.dtype)\n",
        "# for i, (r, id1, id2) in enumerate(zip(rows, np.unique(row_idx), np.unique(row_idx)[1:])):\n",
        "#     ohlc[i, 0] = r\n",
        "#     ohlc[i, 1] = prices_np[id1:id2, :]\n",
        "# ohlc"
      ],
      "metadata": {
        "id": "5iQSQtrnGz3Y"
      },
      "execution_count": 28,
      "outputs": []
    },
    {
      "cell_type": "code",
      "source": [
        "prices_tf = tf.convert_to_tensor(prices_np, dtype=tf.int32)\n",
        "print(prices_tf)"
      ],
      "metadata": {
        "id": "ACADSz1uSJYs"
      },
      "execution_count": null,
      "outputs": []
    }
  ]
}