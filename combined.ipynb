{
  "nbformat": 4,
  "nbformat_minor": 0,
  "metadata": {
    "colab": {
      "provenance": [],
      "collapsed_sections": [
        "BiJX7FEpzTfC"
      ],
      "mount_file_id": "10c7nRerfSjPMAj2jeen5_1XdA5DrnT86",
      "authorship_tag": "ABX9TyNt77HB26g2Ow5fgKBnZ7RN",
      "include_colab_link": true
    },
    "kernelspec": {
      "name": "python3",
      "display_name": "Python 3"
    },
    "language_info": {
      "name": "python"
    },
    "accelerator": "GPU",
    "gpuClass": "standard"
  },
  "cells": [
    {
      "cell_type": "markdown",
      "metadata": {
        "id": "view-in-github",
        "colab_type": "text"
      },
      "source": [
        "<a href=\"https://colab.research.google.com/github/prakhar-chaurasiya/final_project_nism/blob/main/combined.ipynb\" target=\"_parent\"><img src=\"https://colab.research.google.com/assets/colab-badge.svg\" alt=\"Open In Colab\"/></a>"
      ]
    },
    {
      "cell_type": "markdown",
      "source": [],
      "metadata": {
        "id": "c6DasgK6v7Ey"
      }
    },
    {
      "cell_type": "markdown",
      "source": [
        "# order data"
      ],
      "metadata": {
        "id": "gdjjwCnNrWGM"
      }
    },
    {
      "cell_type": "code",
      "source": [
        "import pandas as pd\n",
        "import numpy as np\n",
        "from datetime import datetime\n",
        "import tensorflow as tf\n",
        "np.set_printoptions(suppress=True)\n",
        "stock = 'sbin'\n",
        "\n",
        "order_file = f'/content/drive/MyDrive/Colab Notebooks/FA/HIGHFREQ-DATA/highfreq/{stock}.order'\n",
        "order_df = pd.read_csv(order_file, sep='|', header=None)\n",
        "order_df.columns =['session', 'orderid', 'side', 'action', 'order_time', 'price', 'fquant', 'dquant', 'market', 'ioc', 'stoploss', 'triggerprice']\n",
        "jiffy = 65536\n",
        "ist = 330*60 # this is to be added in local machine (5:30 = 330*60 sec)\n",
        "order_df['time'] = order_df['order_time'].apply(lambda x: datetime.fromtimestamp(x/jiffy))#.strftime('%Y-%m-%d %H:%M:%S'))\n",
        "# order_df['min'] = order_df['order_time'].apply(lambda x: datetime.fromtimestamp(x/jiffy).strftime('%H:%M:%S'))\n",
        "# order_df['sec'] = pd.to_datetime(order_df['time']).dt.strftime(\"%H%M%S\").astype('int')\n",
        "order_df['min'] = pd.to_datetime(order_df['time']).dt.strftime(\"%H%M\").astype('int')\n",
        "order_df['market_num'] = pd.get_dummies(order_df['market'], drop_first=True)"
      ],
      "metadata": {
        "id": "vcRJwM_CrYwz"
      },
      "execution_count": 11,
      "outputs": []
    },
    {
      "cell_type": "code",
      "source": [
        "def normalize_data(x : np.array) -> np.array:\n",
        "  return (x - x.min(axis=0))/(x.max(axis=0) - x.min(axis=0))"
      ],
      "metadata": {
        "id": "o8LoubUXssK6"
      },
      "execution_count": 2,
      "outputs": []
    },
    {
      "cell_type": "code",
      "source": [
        "def standardize_data(x : np.array) -> np.array:\n",
        "  return (x - x.mean(axis=0))/x.std(axis=0)"
      ],
      "metadata": {
        "id": "6GteJmqussNu"
      },
      "execution_count": 3,
      "outputs": []
    },
    {
      "cell_type": "code",
      "source": [
        "timeframe = 'min'\n",
        "allsides = order_df[['side', timeframe, 'price', 'fquant', 'action', 'market_num']].values"
      ],
      "metadata": {
        "id": "s2a-N8S9ssQi"
      },
      "execution_count": 4,
      "outputs": []
    },
    {
      "cell_type": "code",
      "source": [
        "trading_time = []\n",
        "for i in range(9, 16):\n",
        "  if i in range(10, 15):\n",
        "    for j in range(0, 60):\n",
        "      trading_time.append(i*100+j)\n",
        "  elif i == 9:\n",
        "    for j in range(15, 60):\n",
        "      trading_time.append(i*100+j)\n",
        "  else:\n",
        "    for j in range(0, 30):\n",
        "      trading_time.append(i*100+j)"
      ],
      "metadata": {
        "id": "0i2b7BlassTA"
      },
      "execution_count": 5,
      "outputs": []
    },
    {
      "cell_type": "code",
      "source": [
        "trading_time"
      ],
      "metadata": {
        "id": "P3bdebnl0B-f"
      },
      "execution_count": null,
      "outputs": []
    },
    {
      "cell_type": "code",
      "source": [
        "n = len(trading_time)"
      ],
      "metadata": {
        "id": "O8mhYmu4szVE"
      },
      "execution_count": 6,
      "outputs": []
    },
    {
      "cell_type": "markdown",
      "source": [
        "## Buy"
      ],
      "metadata": {
        "id": "Gx2cG4Qnzi_Q"
      }
    },
    {
      "cell_type": "code",
      "source": [
        "buy = allsides[allsides[:, 0] == 'B'][:, 1:]\n",
        "buy_tf = tf.convert_to_tensor(buy, dtype=tf.int32)"
      ],
      "metadata": {
        "id": "ldZhbfICs4ej"
      },
      "execution_count": 6,
      "outputs": []
    },
    {
      "cell_type": "code",
      "source": [
        "buy_train = list()\n",
        "b = 0\n",
        "for i in trading_time:\n",
        "  temp = buy_tf[buy_tf[:, 0]==i][:, 1:]\n",
        "  x = np.zeros((50000, 4))\n",
        "  # print(i) \n",
        "  x[:temp.shape[0]] = standardize_data(temp.numpy())\n",
        "  if i != 915:\n",
        "    b = np.vstack((b, x))\n",
        "    \n",
        "  else:\n",
        "    b = x\n",
        "  buy_train.append(x)\n",
        "b"
      ],
      "metadata": {
        "colab": {
          "base_uri": "https://localhost:8080/"
        },
        "id": "6lv1PM0Ss4hO",
        "outputId": "cb43bf08-6e79-4fd4-b9a2-570683686931"
      },
      "execution_count": 7,
      "outputs": [
        {
          "output_type": "execute_result",
          "data": {
            "text/plain": [
              "array([[-0.06377079, -0.55164953, -1.45981454, -0.20329746],\n",
              "       [-0.0606409 , -0.64082461, -1.45981454, -0.20329746],\n",
              "       [-0.05255536, -0.47258096, -1.45981454, -0.20329746],\n",
              "       ...,\n",
              "       [ 0.        ,  0.        ,  0.        ,  0.        ],\n",
              "       [ 0.        ,  0.        ,  0.        ,  0.        ],\n",
              "       [ 0.        ,  0.        ,  0.        ,  0.        ]])"
            ]
          },
          "metadata": {},
          "execution_count": 7
        }
      ]
    },
    {
      "cell_type": "markdown",
      "source": [
        "### r"
      ],
      "metadata": {
        "id": "BiJX7FEpzTfC"
      }
    },
    {
      "cell_type": "code",
      "source": [
        "b.reshape(-1, 50000, 4)"
      ],
      "metadata": {
        "colab": {
          "base_uri": "https://localhost:8080/"
        },
        "id": "NKzRo2b4uTaM",
        "outputId": "29f13c75-95b7-4d9b-de3b-4f9161e84d61"
      },
      "execution_count": 56,
      "outputs": [
        {
          "output_type": "execute_result",
          "data": {
            "text/plain": [
              "array([[[ 0.17651882, -0.51345483, -2.0278076 , -0.15562812],\n",
              "        [ 0.16347119, -0.51345483, -2.0278076 , -0.15562812],\n",
              "        [ 0.14716164, -0.51345483, -2.0278076 , -0.15562812],\n",
              "        ...,\n",
              "        [ 0.        ,  0.        ,  0.        ,  0.        ],\n",
              "        [ 0.        ,  0.        ,  0.        ,  0.        ],\n",
              "        [ 0.        ,  0.        ,  0.        ,  0.        ]],\n",
              "\n",
              "       [[ 0.10337096,  0.36029564,  0.59228019, -0.1502324 ],\n",
              "        [ 0.13395803, -0.71861854,  0.59228019, -0.1502324 ],\n",
              "        [ 0.11395879, -0.42397531,  0.59228019, -0.1502324 ],\n",
              "        ...,\n",
              "        [ 0.        ,  0.        ,  0.        ,  0.        ],\n",
              "        [ 0.        ,  0.        ,  0.        ,  0.        ],\n",
              "        [ 0.        ,  0.        ,  0.        ,  0.        ]]])"
            ]
          },
          "metadata": {},
          "execution_count": 56
        }
      ]
    },
    {
      "cell_type": "code",
      "source": [
        "c = np.stack((buy_train[0], buy_train[1])).shape\n"
      ],
      "metadata": {
        "colab": {
          "base_uri": "https://localhost:8080/"
        },
        "id": "UCm7ls6bvJkL",
        "outputId": "c420bce1-a97e-4a94-987c-382f4cceaf30"
      },
      "execution_count": 55,
      "outputs": [
        {
          "output_type": "execute_result",
          "data": {
            "text/plain": [
              "(2, 50000, 4)"
            ]
          },
          "metadata": {},
          "execution_count": 55
        }
      ]
    },
    {
      "cell_type": "code",
      "source": [
        "buy_train[-1]"
      ],
      "metadata": {
        "colab": {
          "base_uri": "https://localhost:8080/"
        },
        "id": "pYxZQKanv4CR",
        "outputId": "77d43226-9c19-4078-9d96-ca10ddd728b4"
      },
      "execution_count": 57,
      "outputs": [
        {
          "output_type": "execute_result",
          "data": {
            "text/plain": [
              "array([[ 0.10337096,  0.36029564,  0.59228019, -0.1502324 ],\n",
              "       [ 0.13395803, -0.71861854,  0.59228019, -0.1502324 ],\n",
              "       [ 0.11395879, -0.42397531,  0.59228019, -0.1502324 ],\n",
              "       ...,\n",
              "       [ 0.        ,  0.        ,  0.        ,  0.        ],\n",
              "       [ 0.        ,  0.        ,  0.        ,  0.        ],\n",
              "       [ 0.        ,  0.        ,  0.        ,  0.        ]])"
            ]
          },
          "metadata": {},
          "execution_count": 57
        }
      ]
    },
    {
      "cell_type": "code",
      "source": [
        "for i in buy_train:\n",
        "  b = np.stack"
      ],
      "metadata": {
        "id": "dJ-UocTis3aL"
      },
      "execution_count": null,
      "outputs": []
    },
    {
      "cell_type": "code",
      "source": [
        "len(buy_train)"
      ],
      "metadata": {
        "colab": {
          "base_uri": "https://localhost:8080/"
        },
        "id": "vsVgMlDvsi29",
        "outputId": "4093fdce-f942-43ed-ed97-7c5930e330f1"
      },
      "execution_count": 37,
      "outputs": [
        {
          "output_type": "execute_result",
          "data": {
            "text/plain": [
              "375"
            ]
          },
          "metadata": {},
          "execution_count": 37
        }
      ]
    },
    {
      "cell_type": "code",
      "source": [
        "buy_train = np.asarray(buy_train)\n",
        "buy_train"
      ],
      "metadata": {
        "id": "ovqsiW9us4jr"
      },
      "execution_count": null,
      "outputs": []
    },
    {
      "cell_type": "code",
      "source": [
        "buy_tf[buy_tf[:, 0]==1300][:, 1:]"
      ],
      "metadata": {
        "colab": {
          "base_uri": "https://localhost:8080/"
        },
        "id": "AErk8ZoLlCG0",
        "outputId": "68d48c85-829d-4bd8-a374-9a77bdc75200"
      },
      "execution_count": 47,
      "outputs": [
        {
          "output_type": "execute_result",
          "data": {
            "text/plain": [
              "<tf.Tensor: shape=(25002, 4), dtype=int32, numpy=\n",
              "array([[203905,      3,      1,      0],\n",
              "       [203895,   1206,      3,      0],\n",
              "       [203845,   1159,      3,      0],\n",
              "       ...,\n",
              "       [203780,    204,      3,      0],\n",
              "       [203375,      2,      4,      0],\n",
              "       [203780,    204,      1,      0]], dtype=int32)>"
            ]
          },
          "metadata": {},
          "execution_count": 47
        }
      ]
    },
    {
      "cell_type": "code",
      "source": [
        "z = np.zeros((30000, 4)) \n",
        "z = buy_tf[buy_tf[:, 0]==i][:, 1:]\n",
        "z"
      ],
      "metadata": {
        "colab": {
          "base_uri": "https://localhost:8080/"
        },
        "id": "eUqlJS9vk8ke",
        "outputId": "a679711d-0332-4a43-ba88-08af706d1bb8"
      },
      "execution_count": 25,
      "outputs": [
        {
          "output_type": "execute_result",
          "data": {
            "text/plain": [
              "<tf.Tensor: shape=(2756, 4), dtype=int32, numpy=\n",
              "array([[205345,    131,      1,      0],\n",
              "       [205345,    141,      1,      0],\n",
              "       [205345,     71,      1,      0],\n",
              "       ...,\n",
              "       [205245,     10,      4,      0],\n",
              "       [     0,     20,      1,      1],\n",
              "       [     0,      1,      1,      1]], dtype=int32)>"
            ]
          },
          "metadata": {},
          "execution_count": 25
        }
      ]
    },
    {
      "cell_type": "code",
      "source": [
        "x = np.zeros((30000, 4)) \n",
        "x[:z.shape[0]] = z"
      ],
      "metadata": {
        "id": "wX6ofrmSqy4r"
      },
      "execution_count": 27,
      "outputs": []
    },
    {
      "cell_type": "code",
      "source": [
        "x"
      ],
      "metadata": {
        "colab": {
          "base_uri": "https://localhost:8080/"
        },
        "id": "cBBc_nOjrBfb",
        "outputId": "31cd870b-41d9-4af8-c30a-5b6523a8c976"
      },
      "execution_count": 28,
      "outputs": [
        {
          "output_type": "execute_result",
          "data": {
            "text/plain": [
              "array([[205345.,    131.,      1.,      0.],\n",
              "       [205345.,    141.,      1.,      0.],\n",
              "       [205345.,     71.,      1.,      0.],\n",
              "       ...,\n",
              "       [     0.,      0.,      0.,      0.],\n",
              "       [     0.,      0.,      0.,      0.],\n",
              "       [     0.,      0.,      0.,      0.]])"
            ]
          },
          "metadata": {},
          "execution_count": 28
        }
      ]
    },
    {
      "cell_type": "code",
      "source": [
        "np.pad(z.numpy(), 30000-z.shape[0])"
      ],
      "metadata": {
        "id": "H39ab6jxmb5O"
      },
      "execution_count": null,
      "outputs": []
    },
    {
      "cell_type": "code",
      "source": [
        "buy_train[0].ravel().reshape(-1, 4)"
      ],
      "metadata": {
        "colab": {
          "base_uri": "https://localhost:8080/"
        },
        "id": "z4vfEBxe6lSq",
        "outputId": "69a63942-87ae-4065-9a21-1908ea7b85f8"
      },
      "execution_count": 39,
      "outputs": [
        {
          "output_type": "execute_result",
          "data": {
            "text/plain": [
              "array([[ 0.17651882, -0.51345483, -2.0278076 , -0.15562812],\n",
              "       [ 0.16347119, -0.51345483, -2.0278076 , -0.15562812],\n",
              "       [ 0.14716164, -0.51345483, -2.0278076 , -0.15562812],\n",
              "       ...,\n",
              "       [ 0.18010692, -0.35890328, -0.31955649, -0.15562812],\n",
              "       [ 0.18010692, -0.34981201, -2.0278076 , -0.15562812],\n",
              "       [ 0.17325691, -0.51042441,  0.53456906, -0.15562812]])"
            ]
          },
          "metadata": {},
          "execution_count": 39
        }
      ]
    },
    {
      "cell_type": "code",
      "source": [
        "buy_tf[buy_tf[:, 0]==1500][:, 1:]"
      ],
      "metadata": {
        "id": "-nT0A8wH5Gx4"
      },
      "execution_count": null,
      "outputs": []
    },
    {
      "cell_type": "code",
      "source": [
        "standardize_data(temp.numpy()).tolist()"
      ],
      "metadata": {
        "colab": {
          "base_uri": "https://localhost:8080/"
        },
        "id": "XeoOHNSO5jM4",
        "outputId": "dc03249d-134a-4528-ad9e-6659e24c7679"
      },
      "execution_count": 53,
      "outputs": [
        {
          "output_type": "execute_result",
          "data": {
            "text/plain": [
              "array([[ 0.25780876, -0.38966533, -2.01977826, -0.24160243],\n",
              "       [ 0.25780876, -0.36918983, -2.01977826, -0.24160243],\n",
              "       [ 0.25780876, -0.51251836, -2.01977826, -0.24160243],\n",
              "       ...,\n",
              "       [ 0.25566969, -0.63741893,  0.56809198, -0.24160243],\n",
              "       [-4.13466635, -0.61694343, -2.01977826,  4.13903116],\n",
              "       [-4.13466635, -0.65584689, -2.01977826,  4.13903116]])"
            ]
          },
          "metadata": {},
          "execution_count": 53
        }
      ]
    },
    {
      "cell_type": "code",
      "source": [
        "def data_generator(thislist):\n",
        "  for data in thislist:\n",
        "    yield data"
      ],
      "metadata": {
        "id": "Z-XwPsTc70Cj"
      },
      "execution_count": 58,
      "outputs": []
    },
    {
      "cell_type": "code",
      "source": [],
      "metadata": {
        "id": "sbFRRiSe8XmK"
      },
      "execution_count": null,
      "outputs": []
    },
    {
      "cell_type": "code",
      "source": [
        "next(data_generator(buy_train))"
      ],
      "metadata": {
        "colab": {
          "base_uri": "https://localhost:8080/"
        },
        "id": "9sX06oR88FvD",
        "outputId": "65e7460f-52ec-4222-caab-50d033a81139"
      },
      "execution_count": 61,
      "outputs": [
        {
          "output_type": "execute_result",
          "data": {
            "text/plain": [
              "array([[ 0.17651882, -0.51345483, -2.0278076 , -0.15562812],\n",
              "       [ 0.16347119, -0.51345483, -2.0278076 , -0.15562812],\n",
              "       [ 0.14716164, -0.51345483, -2.0278076 , -0.15562812],\n",
              "       ...,\n",
              "       [ 0.18010692, -0.35890328, -0.31955649, -0.15562812],\n",
              "       [ 0.18010692, -0.34981201, -2.0278076 , -0.15562812],\n",
              "       [ 0.17325691, -0.51042441,  0.53456906, -0.15562812]])"
            ]
          },
          "metadata": {},
          "execution_count": 61
        }
      ]
    },
    {
      "cell_type": "code",
      "source": [
        "def data_generator():\n",
        "    while True:\n",
        "        length = np.random.randint(2, 10) #Variable length sequences\n",
        "        x_train = np.random.random((1, length, 2)) #batch, seq, features\n",
        "        y_train = np.random.random((1,1)) #batch, score\n",
        "        yield x_train, y_train"
      ],
      "metadata": {
        "id": "dXwpB2DX7Bk5"
      },
      "execution_count": null,
      "outputs": []
    },
    {
      "cell_type": "code",
      "source": [
        "tf.stack([temp, buy_tf[buy_tf[:, 0]==1500][:, 1:]], axis=1)"
      ],
      "metadata": {
        "colab": {
          "base_uri": "https://localhost:8080/",
          "height": 323
        },
        "id": "pXkaCsEC4l35",
        "outputId": "66cf08bb-3b60-4052-8ddb-810b2f5ff52e"
      },
      "execution_count": 49,
      "outputs": [
        {
          "output_type": "error",
          "ename": "InvalidArgumentError",
          "evalue": "ignored",
          "traceback": [
            "\u001b[0;31m---------------------------------------------------------------------------\u001b[0m",
            "\u001b[0;31mInvalidArgumentError\u001b[0m                      Traceback (most recent call last)",
            "\u001b[0;32m<ipython-input-49-9557f33f2f3c>\u001b[0m in \u001b[0;36m<module>\u001b[0;34m\u001b[0m\n\u001b[0;32m----> 1\u001b[0;31m \u001b[0mtf\u001b[0m\u001b[0;34m.\u001b[0m\u001b[0mstack\u001b[0m\u001b[0;34m(\u001b[0m\u001b[0;34m[\u001b[0m\u001b[0mtemp\u001b[0m\u001b[0;34m,\u001b[0m \u001b[0mbuy_tf\u001b[0m\u001b[0;34m[\u001b[0m\u001b[0mbuy_tf\u001b[0m\u001b[0;34m[\u001b[0m\u001b[0;34m:\u001b[0m\u001b[0;34m,\u001b[0m \u001b[0;36m0\u001b[0m\u001b[0;34m]\u001b[0m\u001b[0;34m==\u001b[0m\u001b[0;36m1500\u001b[0m\u001b[0;34m]\u001b[0m\u001b[0;34m[\u001b[0m\u001b[0;34m:\u001b[0m\u001b[0;34m,\u001b[0m \u001b[0;36m1\u001b[0m\u001b[0;34m:\u001b[0m\u001b[0;34m]\u001b[0m\u001b[0;34m]\u001b[0m\u001b[0;34m,\u001b[0m \u001b[0maxis\u001b[0m\u001b[0;34m=\u001b[0m\u001b[0;36m1\u001b[0m\u001b[0;34m)\u001b[0m\u001b[0;34m\u001b[0m\u001b[0;34m\u001b[0m\u001b[0m\n\u001b[0m",
            "\u001b[0;32m/usr/local/lib/python3.8/dist-packages/tensorflow/python/util/traceback_utils.py\u001b[0m in \u001b[0;36merror_handler\u001b[0;34m(*args, **kwargs)\u001b[0m\n\u001b[1;32m    151\u001b[0m     \u001b[0;32mexcept\u001b[0m \u001b[0mException\u001b[0m \u001b[0;32mas\u001b[0m \u001b[0me\u001b[0m\u001b[0;34m:\u001b[0m\u001b[0;34m\u001b[0m\u001b[0;34m\u001b[0m\u001b[0m\n\u001b[1;32m    152\u001b[0m       \u001b[0mfiltered_tb\u001b[0m \u001b[0;34m=\u001b[0m \u001b[0m_process_traceback_frames\u001b[0m\u001b[0;34m(\u001b[0m\u001b[0me\u001b[0m\u001b[0;34m.\u001b[0m\u001b[0m__traceback__\u001b[0m\u001b[0;34m)\u001b[0m\u001b[0;34m\u001b[0m\u001b[0;34m\u001b[0m\u001b[0m\n\u001b[0;32m--> 153\u001b[0;31m       \u001b[0;32mraise\u001b[0m \u001b[0me\u001b[0m\u001b[0;34m.\u001b[0m\u001b[0mwith_traceback\u001b[0m\u001b[0;34m(\u001b[0m\u001b[0mfiltered_tb\u001b[0m\u001b[0;34m)\u001b[0m \u001b[0;32mfrom\u001b[0m \u001b[0;32mNone\u001b[0m\u001b[0;34m\u001b[0m\u001b[0;34m\u001b[0m\u001b[0m\n\u001b[0m\u001b[1;32m    154\u001b[0m     \u001b[0;32mfinally\u001b[0m\u001b[0;34m:\u001b[0m\u001b[0;34m\u001b[0m\u001b[0;34m\u001b[0m\u001b[0m\n\u001b[1;32m    155\u001b[0m       \u001b[0;32mdel\u001b[0m \u001b[0mfiltered_tb\u001b[0m\u001b[0;34m\u001b[0m\u001b[0;34m\u001b[0m\u001b[0m\n",
            "\u001b[0;32m/usr/local/lib/python3.8/dist-packages/tensorflow/python/framework/ops.py\u001b[0m in \u001b[0;36mraise_from_not_ok_status\u001b[0;34m(e, name)\u001b[0m\n\u001b[1;32m   7162\u001b[0m \u001b[0;32mdef\u001b[0m \u001b[0mraise_from_not_ok_status\u001b[0m\u001b[0;34m(\u001b[0m\u001b[0me\u001b[0m\u001b[0;34m,\u001b[0m \u001b[0mname\u001b[0m\u001b[0;34m)\u001b[0m\u001b[0;34m:\u001b[0m\u001b[0;34m\u001b[0m\u001b[0;34m\u001b[0m\u001b[0m\n\u001b[1;32m   7163\u001b[0m   \u001b[0me\u001b[0m\u001b[0;34m.\u001b[0m\u001b[0mmessage\u001b[0m \u001b[0;34m+=\u001b[0m \u001b[0;34m(\u001b[0m\u001b[0;34m\" name: \"\u001b[0m \u001b[0;34m+\u001b[0m \u001b[0mname\u001b[0m \u001b[0;32mif\u001b[0m \u001b[0mname\u001b[0m \u001b[0;32mis\u001b[0m \u001b[0;32mnot\u001b[0m \u001b[0;32mNone\u001b[0m \u001b[0;32melse\u001b[0m \u001b[0;34m\"\"\u001b[0m\u001b[0;34m)\u001b[0m\u001b[0;34m\u001b[0m\u001b[0;34m\u001b[0m\u001b[0m\n\u001b[0;32m-> 7164\u001b[0;31m   \u001b[0;32mraise\u001b[0m \u001b[0mcore\u001b[0m\u001b[0;34m.\u001b[0m\u001b[0m_status_to_exception\u001b[0m\u001b[0;34m(\u001b[0m\u001b[0me\u001b[0m\u001b[0;34m)\u001b[0m \u001b[0;32mfrom\u001b[0m \u001b[0;32mNone\u001b[0m  \u001b[0;31m# pylint: disable=protected-access\u001b[0m\u001b[0;34m\u001b[0m\u001b[0;34m\u001b[0m\u001b[0m\n\u001b[0m\u001b[1;32m   7165\u001b[0m \u001b[0;34m\u001b[0m\u001b[0m\n\u001b[1;32m   7166\u001b[0m \u001b[0;34m\u001b[0m\u001b[0m\n",
            "\u001b[0;31mInvalidArgumentError\u001b[0m: Shapes of all inputs must match: values[0].shape = [2756,4] != values[1].shape = [13095,4] [Op:Pack] name: stack"
          ]
        }
      ]
    },
    {
      "cell_type": "code",
      "source": [
        "temp"
      ],
      "metadata": {
        "colab": {
          "base_uri": "https://localhost:8080/"
        },
        "id": "lsaVD6W-4OyR",
        "outputId": "fb642718-2390-4c3b-c368-0bbab668292b"
      },
      "execution_count": 46,
      "outputs": [
        {
          "output_type": "execute_result",
          "data": {
            "text/plain": [
              "<tf.Tensor: shape=(2756, 4), dtype=int32, numpy=\n",
              "array([[205345,    131,      1,      0],\n",
              "       [205345,    141,      1,      0],\n",
              "       [205345,     71,      1,      0],\n",
              "       ...,\n",
              "       [205245,     10,      4,      0],\n",
              "       [     0,     20,      1,      1],\n",
              "       [     0,      1,      1,      1]], dtype=int32)>"
            ]
          },
          "metadata": {},
          "execution_count": 46
        }
      ]
    },
    {
      "cell_type": "code",
      "source": [
        "a = [0]\n",
        "b = [0, 1, 1]\n",
        "c = [0, 1] \n",
        "np.array([a, b, c])"
      ],
      "metadata": {
        "colab": {
          "base_uri": "https://localhost:8080/"
        },
        "id": "DEMRGKHH3bEg",
        "outputId": "3ffb8aec-91e9-4de6-ca73-d8967faada71"
      },
      "execution_count": 41,
      "outputs": [
        {
          "output_type": "stream",
          "name": "stderr",
          "text": [
            "<ipython-input-41-136b13c9110d>:4: VisibleDeprecationWarning: Creating an ndarray from ragged nested sequences (which is a list-or-tuple of lists-or-tuples-or ndarrays with different lengths or shapes) is deprecated. If you meant to do this, you must specify 'dtype=object' when creating the ndarray.\n",
            "  np.array([a, b, c])\n"
          ]
        },
        {
          "output_type": "execute_result",
          "data": {
            "text/plain": [
              "array([list([0]), list([0, 1, 1]), list([0, 1])], dtype=object)"
            ]
          },
          "metadata": {},
          "execution_count": 41
        }
      ]
    },
    {
      "cell_type": "code",
      "source": [
        "buy_train.ravel()"
      ],
      "metadata": {
        "id": "2Pg_Qejh2lbz"
      },
      "execution_count": null,
      "outputs": []
    },
    {
      "cell_type": "markdown",
      "source": [
        "## Sell"
      ],
      "metadata": {
        "id": "EafswJ0VzZoj"
      }
    },
    {
      "cell_type": "code",
      "source": [
        "list(map(lambda x: x.shape[0], buy_train))"
      ],
      "metadata": {
        "id": "Ry_J82Qbs4mV"
      },
      "execution_count": null,
      "outputs": []
    },
    {
      "cell_type": "code",
      "source": [
        "sell = allsides[allsides[:, 0] == 'S'][:, 1:]\n",
        "sell_tf = tf.convert_to_tensor(sell, dtype=tf.int32)"
      ],
      "metadata": {
        "id": "oDVhRLrvtQSc"
      },
      "execution_count": 8,
      "outputs": []
    },
    {
      "cell_type": "code",
      "source": [
        "# sell_train = list()\n",
        "# for i in trading_time:\n",
        "#   temp = sell_tf[sell_tf[:, 0]==i][:, 1:]\n",
        "#   sell_train.append(standardize_data(temp.numpy()))\n",
        "# sell_train"
      ],
      "metadata": {
        "id": "VgEI53c2tVsk"
      },
      "execution_count": null,
      "outputs": []
    },
    {
      "cell_type": "code",
      "source": [
        "sell_train = list()\n",
        "s = 0\n",
        "for i in trading_time:\n",
        "  temp = sell_tf[sell_tf[:, 0]==i][:, 1:]\n",
        "  x = np.zeros((50000, 4))\n",
        "  # print(i) \n",
        "  x[:temp.shape[0]] = standardize_data(temp.numpy())\n",
        "  if i != 915:\n",
        "    s = np.vstack((s, x))\n",
        "  else:\n",
        "    s = x\n",
        "  sell_train.append(x)\n",
        "s"
      ],
      "metadata": {
        "colab": {
          "base_uri": "https://localhost:8080/"
        },
        "id": "6D3wcgBRwYa5",
        "outputId": "1e22ccad-dce5-4a0e-cdaa-cf613d1e96b8"
      },
      "execution_count": 9,
      "outputs": [
        {
          "output_type": "execute_result",
          "data": {
            "text/plain": [
              "array([[-0.04892266, -0.99540861, -1.40304264, -0.11168795],\n",
              "       [-0.05089866, -1.11888468, -1.40304264, -0.11168795],\n",
              "       [-0.050734  , -1.11888468, -1.40304264, -0.11168795],\n",
              "       ...,\n",
              "       [ 0.        ,  0.        ,  0.        ,  0.        ],\n",
              "       [ 0.        ,  0.        ,  0.        ,  0.        ],\n",
              "       [ 0.        ,  0.        ,  0.        ,  0.        ]])"
            ]
          },
          "metadata": {},
          "execution_count": 9
        }
      ]
    },
    {
      "cell_type": "code",
      "source": [
        "s.reshape(-1, 120000, 4)"
      ],
      "metadata": {
        "colab": {
          "base_uri": "https://localhost:8080/"
        },
        "id": "fvtrmjpixq_a",
        "outputId": "04f91a03-19ce-4a92-d734-9872f5539f0f"
      },
      "execution_count": 65,
      "outputs": [
        {
          "output_type": "execute_result",
          "data": {
            "text/plain": [
              "array([[[ 0.04689235,  9.63639659, -2.51229002, -0.07842909],\n",
              "        [ 0.10963571, -1.16594148, -2.51229002, -0.07842909],\n",
              "        [ 0.23324014, -0.43101503, -2.51229002, -0.07842909],\n",
              "        ...,\n",
              "        [ 0.        ,  0.        ,  0.        ,  0.        ],\n",
              "        [ 0.        ,  0.        ,  0.        ,  0.        ],\n",
              "        [ 0.        ,  0.        ,  0.        ,  0.        ]],\n",
              "\n",
              "       [[ 0.02979878,  0.33861328,  0.45730565, -0.06905813],\n",
              "        [ 0.00884499,  0.33861328,  0.45730565, -0.06905813],\n",
              "        [-0.00820216,  0.33861328, -2.55036751, -0.06905813],\n",
              "        ...,\n",
              "        [ 0.        ,  0.        ,  0.        ,  0.        ],\n",
              "        [ 0.        ,  0.        ,  0.        ,  0.        ],\n",
              "        [ 0.        ,  0.        ,  0.        ,  0.        ]],\n",
              "\n",
              "       [[ 0.08961482, -0.89758395, -0.53390864, -0.08614737],\n",
              "        [ 0.08875583, -0.92653074,  0.4579784 , -0.08614737],\n",
              "        [ 0.08761051, -0.80350686, -0.53390864, -0.08614737],\n",
              "        ...,\n",
              "        [ 0.        ,  0.        ,  0.        ,  0.        ],\n",
              "        [ 0.        ,  0.        ,  0.        ,  0.        ],\n",
              "        [ 0.        ,  0.        ,  0.        ,  0.        ]],\n",
              "\n",
              "       ...,\n",
              "\n",
              "       [[ 0.20186226, -0.67478171, -1.9333619 , -0.20958133],\n",
              "        [ 0.2017412 , -0.67478171,  0.5742837 , -0.20958133],\n",
              "        [ 0.20827853, -0.27994002,  0.5742837 , -0.20958133],\n",
              "        ...,\n",
              "        [ 0.        ,  0.        ,  0.        ,  0.        ],\n",
              "        [ 0.        ,  0.        ,  0.        ,  0.        ],\n",
              "        [ 0.        ,  0.        ,  0.        ,  0.        ]],\n",
              "\n",
              "       [[ 0.31809168,  0.11441402, -1.37850714, -0.31872404],\n",
              "        [ 0.31422922,  0.11441402,  0.83550275, -0.31872404],\n",
              "        [ 0.31439715,  0.11441402,  0.83550275, -0.31872404],\n",
              "        ...,\n",
              "        [ 0.        ,  0.        ,  0.        ,  0.        ],\n",
              "        [ 0.        ,  0.        ,  0.        ,  0.        ],\n",
              "        [ 0.        ,  0.        ,  0.        ,  0.        ]],\n",
              "\n",
              "       [[ 0.39730757, -0.32609913, -1.21912565, -0.4065671 ],\n",
              "        [ 0.40008986,  0.35574734,  0.96468951, -0.4065671 ],\n",
              "        [ 0.40433284, -0.3232581 , -1.21912565, -0.4065671 ],\n",
              "        ...,\n",
              "        [ 0.        ,  0.        ,  0.        ,  0.        ],\n",
              "        [ 0.        ,  0.        ,  0.        ,  0.        ],\n",
              "        [ 0.        ,  0.        ,  0.        ,  0.        ]]])"
            ]
          },
          "metadata": {},
          "execution_count": 65
        }
      ]
    },
    {
      "cell_type": "code",
      "source": [
        "sell_train = np.asarray(sell_train)\n",
        "sell_train"
      ],
      "metadata": {
        "id": "IN1yZZqytVvW"
      },
      "execution_count": null,
      "outputs": []
    },
    {
      "cell_type": "code",
      "source": [
        "list(map(lambda x: x.shape[0], sell_train))"
      ],
      "metadata": {
        "id": "oJyVmq3ztVx_"
      },
      "execution_count": null,
      "outputs": []
    },
    {
      "cell_type": "markdown",
      "source": [
        "# trade data"
      ],
      "metadata": {
        "id": "-v0m8fhurZbr"
      }
    },
    {
      "cell_type": "code",
      "source": [
        "trade_file = f'/content/drive/MyDrive/Colab Notebooks/FA/HIGHFREQ-DATA/trade_data/{stock.upper()}.trade'\n",
        "trade_df = pd.read_csv(trade_file, sep='|', header=None)\n",
        "trade_df.columns =['record', 'segment', 'trade_no', \n",
        "                    'trade_time', 'series', 'trade_price', \n",
        "                    'trade_qty', 'buy_order_no', 'buy_algo', \n",
        "                    'client', 'sell_order_no', 'sell_algo']\n",
        "jiffy = 65536\n",
        "ist = 330*60 # this is to be added in local machine (5:30 = 330*60 sec)\n",
        "trade_df['time'] = trade_df['trade_time'].apply(lambda x: datetime.fromtimestamp(x/jiffy))#.strftime('%Y-%m-%d %H:%M:%S'))\n",
        "# trade_df['min'] = trade_df['trade_time'].apply(lambda x: datetime.fromtimestamp(x/jiffy-ist).strftime('%H:%M:%S'))\n",
        "# trade_df['sec'] = pd.to_datetime(trade_df['time']).dt.strftime('%H%M%S').astype('int')\n",
        "trade_df['trade_price'] = trade_df['trade_price']/100 \n",
        "trade_df['min'] = pd.to_datetime(trade_df['time']).dt.strftime('%H%M').astype('int')\n",
        "trade_df['price_*_qty'] = trade_df['trade_qty'] * trade_df['trade_price']"
      ],
      "metadata": {
        "id": "0UyhDthgrb0T"
      },
      "execution_count": 12,
      "outputs": []
    },
    {
      "cell_type": "code",
      "source": [
        "timeframe = 'min'\n",
        "trade_np = trade_df[[timeframe, 'price_*_qty', 'trade_qty']].values\n",
        "rows, row_idx = np.unique(trade_np[:, 0], return_index=True)\n",
        "wpvtt = np.zeros((rows.shape[0], 4), dtype=np.float32)\n",
        "for i, (r, id1, id2) in enumerate(zip(rows, row_idx, row_idx[1:])):\n",
        "    wpvtt[i, 0] = r\n",
        "    wpvtt[i, 1] = trade_np[id1:id2, 1:2].T.sum()/trade_np[id1:id2, 2:].T.sum()\n",
        "    wpvtt[i, 2] = trade_np[id1:id2, 2:].T.sum()\n",
        "    wpvtt[i, 3] = trade_np[id1:id2, 2:].shape[0]\n",
        "\n",
        "temp = trade_df.groupby(timeframe).get_group(trade_df[timeframe].unique()[-1])[['trade_qty', 'price_*_qty']].sum()\n",
        "wpvtt[-1, 0] = trade_df[timeframe].unique()[-1]\n",
        "wpvtt[-1, 1] = temp[1]/temp[0]\n",
        "wpvtt[-1, 2] = temp[0]\n",
        "wpvtt[-1, 3] = trade_df.groupby(timeframe).get_group(trade_df[timeframe].unique()[-1])[['trade_qty', 'price_*_qty']].shape[0]\n",
        "wpvtt"
      ],
      "metadata": {
        "colab": {
          "base_uri": "https://localhost:8080/"
        },
        "id": "3nm9Qh4Mt8TD",
        "outputId": "b95415bb-6d8e-4e52-f24b-2c8dd4054f22"
      },
      "execution_count": 13,
      "outputs": [
        {
          "output_type": "execute_result",
          "data": {
            "text/plain": [
              "array([[   907.     ,    298.8    , 126298.     ,    668.     ],\n",
              "       [   915.     ,    299.26654, 605338.     ,   2473.     ],\n",
              "       [   916.     ,    299.48035, 246229.     ,   1057.     ],\n",
              "       ...,\n",
              "       [  1556.     ,    302.55   ,    526.     ,      4.     ],\n",
              "       [  1557.     ,    302.55   ,    420.     ,      3.     ],\n",
              "       [  1559.     ,    302.55   ,     66.     ,      2.     ]],\n",
              "      dtype=float32)"
            ]
          },
          "metadata": {},
          "execution_count": 13
        }
      ]
    },
    {
      "cell_type": "code",
      "source": [
        "trade_train = list()\n",
        "for i in trading_time:\n",
        "  trade_train.append(wpvtt[wpvtt[:, 0] == i][:, 1][0])\n",
        "# trade_train "
      ],
      "metadata": {
        "id": "r9-wYyTHt8WD"
      },
      "execution_count": 14,
      "outputs": []
    },
    {
      "cell_type": "code",
      "source": [
        "trade_train = np.array(trade_train)"
      ],
      "metadata": {
        "id": "XAATReXKt8yW"
      },
      "execution_count": 15,
      "outputs": []
    },
    {
      "cell_type": "code",
      "source": [
        "trade_train.reshape(375, 1, 1)"
      ],
      "metadata": {
        "colab": {
          "base_uri": "https://localhost:8080/"
        },
        "id": "64aLrFaI1mqH",
        "outputId": "37ac3c37-6658-472e-f28e-8c63ab81aa92"
      },
      "execution_count": 71,
      "outputs": [
        {
          "output_type": "execute_result",
          "data": {
            "text/plain": [
              "array([[[2018.2084]],\n",
              "\n",
              "       [[2027.2004]],\n",
              "\n",
              "       [[2027.149 ]],\n",
              "\n",
              "       [[2026.2079]],\n",
              "\n",
              "       [[2025.0115]],\n",
              "\n",
              "       [[2022.4629]],\n",
              "\n",
              "       [[2020.1365]],\n",
              "\n",
              "       [[2021.5073]],\n",
              "\n",
              "       [[2021.222 ]],\n",
              "\n",
              "       [[2021.9636]],\n",
              "\n",
              "       [[2018.3273]],\n",
              "\n",
              "       [[2015.7954]],\n",
              "\n",
              "       [[2014.8093]],\n",
              "\n",
              "       [[2013.4652]],\n",
              "\n",
              "       [[2010.4727]],\n",
              "\n",
              "       [[2006.6628]],\n",
              "\n",
              "       [[2008.6715]],\n",
              "\n",
              "       [[2008.1741]],\n",
              "\n",
              "       [[2007.2856]],\n",
              "\n",
              "       [[2007.1791]],\n",
              "\n",
              "       [[2007.4149]],\n",
              "\n",
              "       [[2007.6713]],\n",
              "\n",
              "       [[2006.5397]],\n",
              "\n",
              "       [[2007.0222]],\n",
              "\n",
              "       [[2006.0593]],\n",
              "\n",
              "       [[2004.9751]],\n",
              "\n",
              "       [[2003.7891]],\n",
              "\n",
              "       [[2002.6346]],\n",
              "\n",
              "       [[2003.9152]],\n",
              "\n",
              "       [[2005.8441]],\n",
              "\n",
              "       [[2006.1698]],\n",
              "\n",
              "       [[2005.7234]],\n",
              "\n",
              "       [[2007.2202]],\n",
              "\n",
              "       [[2008.3558]],\n",
              "\n",
              "       [[2009.01  ]],\n",
              "\n",
              "       [[2010.0619]],\n",
              "\n",
              "       [[2011.8916]],\n",
              "\n",
              "       [[2012.2404]],\n",
              "\n",
              "       [[2011.7916]],\n",
              "\n",
              "       [[2010.5087]],\n",
              "\n",
              "       [[2011.2734]],\n",
              "\n",
              "       [[2012.6517]],\n",
              "\n",
              "       [[2012.7734]],\n",
              "\n",
              "       [[2012.918 ]],\n",
              "\n",
              "       [[2014.52  ]],\n",
              "\n",
              "       [[2013.4359]],\n",
              "\n",
              "       [[2014.3058]],\n",
              "\n",
              "       [[2015.1656]],\n",
              "\n",
              "       [[2015.7526]],\n",
              "\n",
              "       [[2015.6779]],\n",
              "\n",
              "       [[2015.1392]],\n",
              "\n",
              "       [[2013.4514]],\n",
              "\n",
              "       [[2013.3589]],\n",
              "\n",
              "       [[2014.3494]],\n",
              "\n",
              "       [[2014.2604]],\n",
              "\n",
              "       [[2016.2059]],\n",
              "\n",
              "       [[2018.1924]],\n",
              "\n",
              "       [[2018.2686]],\n",
              "\n",
              "       [[2017.1091]],\n",
              "\n",
              "       [[2017.1464]],\n",
              "\n",
              "       [[2017.6746]],\n",
              "\n",
              "       [[2018.2155]],\n",
              "\n",
              "       [[2018.6083]],\n",
              "\n",
              "       [[2020.1481]],\n",
              "\n",
              "       [[2020.1272]],\n",
              "\n",
              "       [[2019.0061]],\n",
              "\n",
              "       [[2019.5981]],\n",
              "\n",
              "       [[2019.6576]],\n",
              "\n",
              "       [[2020.1416]],\n",
              "\n",
              "       [[2019.9172]],\n",
              "\n",
              "       [[2019.8167]],\n",
              "\n",
              "       [[2020.2085]],\n",
              "\n",
              "       [[2020.0594]],\n",
              "\n",
              "       [[2019.925 ]],\n",
              "\n",
              "       [[2020.1665]],\n",
              "\n",
              "       [[2020.0585]],\n",
              "\n",
              "       [[2020.5868]],\n",
              "\n",
              "       [[2019.5106]],\n",
              "\n",
              "       [[2019.8717]],\n",
              "\n",
              "       [[2020.0933]],\n",
              "\n",
              "       [[2019.8578]],\n",
              "\n",
              "       [[2020.5908]],\n",
              "\n",
              "       [[2020.5638]],\n",
              "\n",
              "       [[2021.102 ]],\n",
              "\n",
              "       [[2021.6053]],\n",
              "\n",
              "       [[2023.7921]],\n",
              "\n",
              "       [[2023.8821]],\n",
              "\n",
              "       [[2024.0957]],\n",
              "\n",
              "       [[2025.0336]],\n",
              "\n",
              "       [[2024.9935]],\n",
              "\n",
              "       [[2025.1259]],\n",
              "\n",
              "       [[2025.9498]],\n",
              "\n",
              "       [[2026.3966]],\n",
              "\n",
              "       [[2025.4005]],\n",
              "\n",
              "       [[2025.5972]],\n",
              "\n",
              "       [[2025.8821]],\n",
              "\n",
              "       [[2025.6396]],\n",
              "\n",
              "       [[2025.5416]],\n",
              "\n",
              "       [[2025.993 ]],\n",
              "\n",
              "       [[2025.1962]],\n",
              "\n",
              "       [[2022.7225]],\n",
              "\n",
              "       [[2021.5642]],\n",
              "\n",
              "       [[2021.6221]],\n",
              "\n",
              "       [[2020.5194]],\n",
              "\n",
              "       [[2020.1019]],\n",
              "\n",
              "       [[2020.8965]],\n",
              "\n",
              "       [[2020.5481]],\n",
              "\n",
              "       [[2020.9502]],\n",
              "\n",
              "       [[2021.1909]],\n",
              "\n",
              "       [[2021.4515]],\n",
              "\n",
              "       [[2022.0476]],\n",
              "\n",
              "       [[2022.6917]],\n",
              "\n",
              "       [[2023.1552]],\n",
              "\n",
              "       [[2024.1974]],\n",
              "\n",
              "       [[2025.5449]],\n",
              "\n",
              "       [[2027.0616]],\n",
              "\n",
              "       [[2027.9796]],\n",
              "\n",
              "       [[2026.1036]],\n",
              "\n",
              "       [[2025.6844]],\n",
              "\n",
              "       [[2026.1248]],\n",
              "\n",
              "       [[2026.1716]],\n",
              "\n",
              "       [[2024.9247]],\n",
              "\n",
              "       [[2022.9673]],\n",
              "\n",
              "       [[2023.87  ]],\n",
              "\n",
              "       [[2024.5178]],\n",
              "\n",
              "       [[2024.7072]],\n",
              "\n",
              "       [[2024.7538]],\n",
              "\n",
              "       [[2024.6516]],\n",
              "\n",
              "       [[2024.9995]],\n",
              "\n",
              "       [[2025.291 ]],\n",
              "\n",
              "       [[2025.199 ]],\n",
              "\n",
              "       [[2024.5325]],\n",
              "\n",
              "       [[2024.9615]],\n",
              "\n",
              "       [[2025.8262]],\n",
              "\n",
              "       [[2026.4631]],\n",
              "\n",
              "       [[2026.8018]],\n",
              "\n",
              "       [[2026.977 ]],\n",
              "\n",
              "       [[2028.3622]],\n",
              "\n",
              "       [[2028.6045]],\n",
              "\n",
              "       [[2026.5311]],\n",
              "\n",
              "       [[2026.502 ]],\n",
              "\n",
              "       [[2025.7202]],\n",
              "\n",
              "       [[2027.259 ]],\n",
              "\n",
              "       [[2027.4989]],\n",
              "\n",
              "       [[2027.8423]],\n",
              "\n",
              "       [[2028.5527]],\n",
              "\n",
              "       [[2028.5732]],\n",
              "\n",
              "       [[2028.4591]],\n",
              "\n",
              "       [[2028.2062]],\n",
              "\n",
              "       [[2028.2706]],\n",
              "\n",
              "       [[2027.6488]],\n",
              "\n",
              "       [[2025.7701]],\n",
              "\n",
              "       [[2025.3667]],\n",
              "\n",
              "       [[2025.2789]],\n",
              "\n",
              "       [[2025.8274]],\n",
              "\n",
              "       [[2025.6721]],\n",
              "\n",
              "       [[2025.729 ]],\n",
              "\n",
              "       [[2026.2946]],\n",
              "\n",
              "       [[2027.2471]],\n",
              "\n",
              "       [[2027.4681]],\n",
              "\n",
              "       [[2028.2435]],\n",
              "\n",
              "       [[2028.351 ]],\n",
              "\n",
              "       [[2028.396 ]],\n",
              "\n",
              "       [[2028.2765]],\n",
              "\n",
              "       [[2028.5386]],\n",
              "\n",
              "       [[2027.9037]],\n",
              "\n",
              "       [[2027.3402]],\n",
              "\n",
              "       [[2026.9869]],\n",
              "\n",
              "       [[2027.271 ]],\n",
              "\n",
              "       [[2027.3762]],\n",
              "\n",
              "       [[2027.6035]],\n",
              "\n",
              "       [[2027.2223]],\n",
              "\n",
              "       [[2026.3286]],\n",
              "\n",
              "       [[2025.5111]],\n",
              "\n",
              "       [[2025.5208]],\n",
              "\n",
              "       [[2025.3932]],\n",
              "\n",
              "       [[2023.4375]],\n",
              "\n",
              "       [[2024.5986]],\n",
              "\n",
              "       [[2024.1233]],\n",
              "\n",
              "       [[2024.9763]],\n",
              "\n",
              "       [[2025.5469]],\n",
              "\n",
              "       [[2025.8267]],\n",
              "\n",
              "       [[2026.0132]],\n",
              "\n",
              "       [[2026.2311]],\n",
              "\n",
              "       [[2025.4213]],\n",
              "\n",
              "       [[2025.1819]],\n",
              "\n",
              "       [[2024.0426]],\n",
              "\n",
              "       [[2023.079 ]],\n",
              "\n",
              "       [[2022.1844]],\n",
              "\n",
              "       [[2023.0219]],\n",
              "\n",
              "       [[2024.5612]],\n",
              "\n",
              "       [[2024.5585]],\n",
              "\n",
              "       [[2024.405 ]],\n",
              "\n",
              "       [[2024.0018]],\n",
              "\n",
              "       [[2022.9526]],\n",
              "\n",
              "       [[2022.1416]],\n",
              "\n",
              "       [[2022.4951]],\n",
              "\n",
              "       [[2024.9512]],\n",
              "\n",
              "       [[2026.363 ]],\n",
              "\n",
              "       [[2026.3589]],\n",
              "\n",
              "       [[2027.2391]],\n",
              "\n",
              "       [[2027.7457]],\n",
              "\n",
              "       [[2027.2668]],\n",
              "\n",
              "       [[2027.5706]],\n",
              "\n",
              "       [[2026.4834]],\n",
              "\n",
              "       [[2027.7755]],\n",
              "\n",
              "       [[2027.8485]],\n",
              "\n",
              "       [[2027.9487]],\n",
              "\n",
              "       [[2027.8622]],\n",
              "\n",
              "       [[2027.8267]],\n",
              "\n",
              "       [[2027.6409]],\n",
              "\n",
              "       [[2027.4585]],\n",
              "\n",
              "       [[2026.309 ]],\n",
              "\n",
              "       [[2026.5682]],\n",
              "\n",
              "       [[2026.707 ]],\n",
              "\n",
              "       [[2027.4148]],\n",
              "\n",
              "       [[2027.7297]],\n",
              "\n",
              "       [[2029.8135]],\n",
              "\n",
              "       [[2030.0748]],\n",
              "\n",
              "       [[2032.3684]],\n",
              "\n",
              "       [[2035.1553]],\n",
              "\n",
              "       [[2036.421 ]],\n",
              "\n",
              "       [[2037.9854]],\n",
              "\n",
              "       [[2038.0464]],\n",
              "\n",
              "       [[2038.7816]],\n",
              "\n",
              "       [[2039.125 ]],\n",
              "\n",
              "       [[2037.9525]],\n",
              "\n",
              "       [[2038.0554]],\n",
              "\n",
              "       [[2038.8541]],\n",
              "\n",
              "       [[2041.3978]],\n",
              "\n",
              "       [[2044.1278]],\n",
              "\n",
              "       [[2043.5663]],\n",
              "\n",
              "       [[2046.3816]],\n",
              "\n",
              "       [[2046.316 ]],\n",
              "\n",
              "       [[2045.5969]],\n",
              "\n",
              "       [[2043.9453]],\n",
              "\n",
              "       [[2044.1545]],\n",
              "\n",
              "       [[2044.1508]],\n",
              "\n",
              "       [[2045.6157]],\n",
              "\n",
              "       [[2048.8281]],\n",
              "\n",
              "       [[2048.863 ]],\n",
              "\n",
              "       [[2049.6023]],\n",
              "\n",
              "       [[2048.643 ]],\n",
              "\n",
              "       [[2048.2932]],\n",
              "\n",
              "       [[2048.2285]],\n",
              "\n",
              "       [[2047.7886]],\n",
              "\n",
              "       [[2046.6978]],\n",
              "\n",
              "       [[2045.461 ]],\n",
              "\n",
              "       [[2045.2979]],\n",
              "\n",
              "       [[2045.0938]],\n",
              "\n",
              "       [[2045.7357]],\n",
              "\n",
              "       [[2047.2312]],\n",
              "\n",
              "       [[2047.8994]],\n",
              "\n",
              "       [[2048.7036]],\n",
              "\n",
              "       [[2047.8903]],\n",
              "\n",
              "       [[2047.8647]],\n",
              "\n",
              "       [[2049.5918]],\n",
              "\n",
              "       [[2048.079 ]],\n",
              "\n",
              "       [[2045.8804]],\n",
              "\n",
              "       [[2045.5686]],\n",
              "\n",
              "       [[2047.284 ]],\n",
              "\n",
              "       [[2047.7942]],\n",
              "\n",
              "       [[2047.743 ]],\n",
              "\n",
              "       [[2047.7275]],\n",
              "\n",
              "       [[2047.8672]],\n",
              "\n",
              "       [[2047.5367]],\n",
              "\n",
              "       [[2047.8379]],\n",
              "\n",
              "       [[2047.7532]],\n",
              "\n",
              "       [[2047.8995]],\n",
              "\n",
              "       [[2050.647 ]],\n",
              "\n",
              "       [[2052.0466]],\n",
              "\n",
              "       [[2052.773 ]],\n",
              "\n",
              "       [[2053.532 ]],\n",
              "\n",
              "       [[2053.9128]],\n",
              "\n",
              "       [[2054.0647]],\n",
              "\n",
              "       [[2054.4343]],\n",
              "\n",
              "       [[2054.1023]],\n",
              "\n",
              "       [[2049.9287]],\n",
              "\n",
              "       [[2051.2112]],\n",
              "\n",
              "       [[2050.9502]],\n",
              "\n",
              "       [[2050.5298]],\n",
              "\n",
              "       [[2048.2222]],\n",
              "\n",
              "       [[2047.6543]],\n",
              "\n",
              "       [[2044.5883]],\n",
              "\n",
              "       [[2045.4098]],\n",
              "\n",
              "       [[2047.0897]],\n",
              "\n",
              "       [[2048.3171]],\n",
              "\n",
              "       [[2049.4202]],\n",
              "\n",
              "       [[2049.6584]],\n",
              "\n",
              "       [[2050.7197]],\n",
              "\n",
              "       [[2050.7148]],\n",
              "\n",
              "       [[2049.4263]],\n",
              "\n",
              "       [[2049.0808]],\n",
              "\n",
              "       [[2047.8557]],\n",
              "\n",
              "       [[2047.6667]],\n",
              "\n",
              "       [[2047.4056]],\n",
              "\n",
              "       [[2048.878 ]],\n",
              "\n",
              "       [[2049.2578]],\n",
              "\n",
              "       [[2049.761 ]],\n",
              "\n",
              "       [[2049.8765]],\n",
              "\n",
              "       [[2049.9526]],\n",
              "\n",
              "       [[2049.8386]],\n",
              "\n",
              "       [[2049.635 ]],\n",
              "\n",
              "       [[2051.1145]],\n",
              "\n",
              "       [[2050.8662]],\n",
              "\n",
              "       [[2050.3816]],\n",
              "\n",
              "       [[2050.1768]],\n",
              "\n",
              "       [[2049.9502]],\n",
              "\n",
              "       [[2049.818 ]],\n",
              "\n",
              "       [[2048.9414]],\n",
              "\n",
              "       [[2049.2598]],\n",
              "\n",
              "       [[2047.528 ]],\n",
              "\n",
              "       [[2047.2665]],\n",
              "\n",
              "       [[2048.884 ]],\n",
              "\n",
              "       [[2049.5771]],\n",
              "\n",
              "       [[2049.7986]],\n",
              "\n",
              "       [[2049.381 ]],\n",
              "\n",
              "       [[2048.3079]],\n",
              "\n",
              "       [[2047.244 ]],\n",
              "\n",
              "       [[2047.11  ]],\n",
              "\n",
              "       [[2046.8047]],\n",
              "\n",
              "       [[2046.7793]],\n",
              "\n",
              "       [[2046.2628]],\n",
              "\n",
              "       [[2045.7426]],\n",
              "\n",
              "       [[2044.55  ]],\n",
              "\n",
              "       [[2045.3259]],\n",
              "\n",
              "       [[2046.1151]],\n",
              "\n",
              "       [[2048.2817]],\n",
              "\n",
              "       [[2049.8242]],\n",
              "\n",
              "       [[2049.007 ]],\n",
              "\n",
              "       [[2049.317 ]],\n",
              "\n",
              "       [[2049.3728]],\n",
              "\n",
              "       [[2049.    ]],\n",
              "\n",
              "       [[2049.5059]],\n",
              "\n",
              "       [[2050.26  ]],\n",
              "\n",
              "       [[2051.555 ]],\n",
              "\n",
              "       [[2051.2466]],\n",
              "\n",
              "       [[2049.4082]],\n",
              "\n",
              "       [[2050.2273]],\n",
              "\n",
              "       [[2050.3987]],\n",
              "\n",
              "       [[2049.2605]],\n",
              "\n",
              "       [[2048.8481]],\n",
              "\n",
              "       [[2048.929 ]],\n",
              "\n",
              "       [[2049.4434]],\n",
              "\n",
              "       [[2049.364 ]],\n",
              "\n",
              "       [[2049.7732]],\n",
              "\n",
              "       [[2050.035 ]],\n",
              "\n",
              "       [[2051.2214]],\n",
              "\n",
              "       [[2051.153 ]],\n",
              "\n",
              "       [[2051.596 ]],\n",
              "\n",
              "       [[2051.1658]],\n",
              "\n",
              "       [[2052.0793]],\n",
              "\n",
              "       [[2052.894 ]],\n",
              "\n",
              "       [[2053.6807]],\n",
              "\n",
              "       [[2053.5151]],\n",
              "\n",
              "       [[2052.2104]],\n",
              "\n",
              "       [[2053.8057]],\n",
              "\n",
              "       [[2055.5386]],\n",
              "\n",
              "       [[2055.599 ]],\n",
              "\n",
              "       [[2055.6472]],\n",
              "\n",
              "       [[2056.4622]],\n",
              "\n",
              "       [[2057.0437]],\n",
              "\n",
              "       [[2055.46  ]],\n",
              "\n",
              "       [[2056.3445]],\n",
              "\n",
              "       [[2056.8625]],\n",
              "\n",
              "       [[2056.6382]],\n",
              "\n",
              "       [[2057.0518]],\n",
              "\n",
              "       [[2056.2847]],\n",
              "\n",
              "       [[2056.2637]],\n",
              "\n",
              "       [[2056.177 ]],\n",
              "\n",
              "       [[2055.131 ]],\n",
              "\n",
              "       [[2053.7703]],\n",
              "\n",
              "       [[2053.6814]],\n",
              "\n",
              "       [[2053.8462]],\n",
              "\n",
              "       [[2053.7583]]], dtype=float32)"
            ]
          },
          "metadata": {},
          "execution_count": 71
        }
      ]
    },
    {
      "cell_type": "markdown",
      "source": [
        "# model"
      ],
      "metadata": {
        "id": "3OMcZ74hrcMD"
      }
    },
    {
      "cell_type": "code",
      "source": [
        "import tensorflow as tf\n",
        "from tensorflow import keras\n",
        "from keras import Model, Input\n",
        "from keras.models import Sequential\n",
        "from keras.layers import Dense, Dropout, LSTM, Flatten, Reshape, TimeDistributed, \\\n",
        "Conv2D, MaxPooling2D, Conv1D, MaxPooling1D, concatenate\n",
        "from tensorflow.keras.optimizers import Adam"
      ],
      "metadata": {
        "id": "2e4dWGXWrdkF"
      },
      "execution_count": 16,
      "outputs": []
    },
    {
      "cell_type": "code",
      "source": [
        "# model_cnn_lstm = Sequential()\n",
        "# model_cnn_lstm.add(Conv1D(128, 3, activation='relu', input_shape=(timestamp, features)))\n",
        "# model_cnn_lstm.add(MaxPooling1D(pool_size=2))\n",
        "# model_cnn_lstm.add(Dropout(0.2))\n",
        "# model_cnn_lstm.add(Conv1D(128, 3, activation='relu', input_shape=(timestamp, features)))\n",
        "# model_cnn_lstm.add(MaxPooling1D(pool_size=2))\n",
        "# model_cnn_lstm.add(Dropout(0.2))\n",
        "# model_cnn_lstm.add(LSTM(units = 64, return_sequences = True))\n",
        "# model_cnn_lstm.add(Dropout(0.2))\n",
        "# model_cnn_lstm.add(LSTM(units = 64, return_sequences = False))\n",
        "# model_cnn_lstm.add(Dropout(0.2))\n",
        "# model_cnn_lstm.add(Dense(64, activation=tf.keras.activations.tanh))\n",
        "# model_cnn_lstm.add(Dropout(0.2))\n",
        "# model_cnn_lstm.add(Dense((covar_shape*covar_shape)))\n",
        "# model_cnn_lstm.add(Reshape((covar_shape, covar_shape)))\n",
        "# model_cnn_lstm.summary()\n",
        "\n",
        "# model_cnn_lstm.compile(optimizer='adam', loss='mse', metrics=['mae'])"
      ],
      "metadata": {
        "id": "brc4ziT6uKkH"
      },
      "execution_count": null,
      "outputs": []
    },
    {
      "cell_type": "code",
      "source": [
        "inputA = Input(shape=(50000, 4), name='buy')\n",
        "inputB = Input(shape=(50000, 4), name='sell')\n",
        "\n",
        "buy = Conv1D(64, 3, activation=\"relu\")(inputA)\n",
        "buy = MaxPooling1D(pool_size=2)(buy)\n",
        "buy = Conv1D(64, 3, activation=\"relu\")(buy)\n",
        "buy = MaxPooling1D(pool_size=2)(buy)\n",
        "buy = Conv1D(64, 3, activation=\"relu\")(buy)\n",
        "buy = MaxPooling1D(pool_size=2)(buy)\n",
        "buy = Model(inputs=inputA, outputs=buy)\n",
        "\n",
        "sell = Conv1D(64, 3, activation=\"relu\")(inputB)\n",
        "sell = MaxPooling1D(pool_size=2)(sell)\n",
        "sell = Conv1D(64, 3, activation=\"relu\")(sell)\n",
        "sell = MaxPooling1D(pool_size=2)(sell)\n",
        "sell = Conv1D(64, 3, activation=\"relu\")(sell)\n",
        "sell = MaxPooling1D(pool_size=2)(sell)\n",
        "sell = Model(inputs=inputB, outputs=sell)\n",
        "\n",
        "combined = concatenate([buy.output, sell.output])\n",
        "\n",
        "final = LSTM(128, return_sequences=True)(combined)\n",
        "final = LSTM(128, return_sequences=True)(final)\n",
        "final = LSTM(128, return_sequences=False)(final)\n",
        "final = Dense(128, activation=tf.keras.activations.tanh)(final)\n",
        "final = Dense(1, activation=\"linear\", name='final')(final)\n",
        "\n",
        "model = Model(inputs=[buy.input, sell.input], outputs=final)"
      ],
      "metadata": {
        "id": "omwPNMMquijz"
      },
      "execution_count": 26,
      "outputs": []
    },
    {
      "cell_type": "code",
      "source": [
        "model.summary()"
      ],
      "metadata": {
        "colab": {
          "base_uri": "https://localhost:8080/"
        },
        "id": "O78JZuYuuKm2",
        "outputId": "ac9200a5-8115-474d-e443-1f977d751c7e"
      },
      "execution_count": 27,
      "outputs": [
        {
          "output_type": "stream",
          "name": "stdout",
          "text": [
            "Model: \"model_11\"\n",
            "__________________________________________________________________________________________________\n",
            " Layer (type)                   Output Shape         Param #     Connected to                     \n",
            "==================================================================================================\n",
            " buy (InputLayer)               [(None, 50000, 4)]   0           []                               \n",
            "                                                                                                  \n",
            " sell (InputLayer)              [(None, 50000, 4)]   0           []                               \n",
            "                                                                                                  \n",
            " conv1d_12 (Conv1D)             (None, 49998, 64)    832         ['buy[0][0]']                    \n",
            "                                                                                                  \n",
            " conv1d_15 (Conv1D)             (None, 49998, 64)    832         ['sell[0][0]']                   \n",
            "                                                                                                  \n",
            " max_pooling1d_12 (MaxPooling1D  (None, 24999, 64)   0           ['conv1d_12[0][0]']              \n",
            " )                                                                                                \n",
            "                                                                                                  \n",
            " max_pooling1d_15 (MaxPooling1D  (None, 24999, 64)   0           ['conv1d_15[0][0]']              \n",
            " )                                                                                                \n",
            "                                                                                                  \n",
            " conv1d_13 (Conv1D)             (None, 24997, 64)    12352       ['max_pooling1d_12[0][0]']       \n",
            "                                                                                                  \n",
            " conv1d_16 (Conv1D)             (None, 24997, 64)    12352       ['max_pooling1d_15[0][0]']       \n",
            "                                                                                                  \n",
            " max_pooling1d_13 (MaxPooling1D  (None, 12498, 64)   0           ['conv1d_13[0][0]']              \n",
            " )                                                                                                \n",
            "                                                                                                  \n",
            " max_pooling1d_16 (MaxPooling1D  (None, 12498, 64)   0           ['conv1d_16[0][0]']              \n",
            " )                                                                                                \n",
            "                                                                                                  \n",
            " conv1d_14 (Conv1D)             (None, 12496, 64)    12352       ['max_pooling1d_13[0][0]']       \n",
            "                                                                                                  \n",
            " conv1d_17 (Conv1D)             (None, 12496, 64)    12352       ['max_pooling1d_16[0][0]']       \n",
            "                                                                                                  \n",
            " max_pooling1d_14 (MaxPooling1D  (None, 6248, 64)    0           ['conv1d_14[0][0]']              \n",
            " )                                                                                                \n",
            "                                                                                                  \n",
            " max_pooling1d_17 (MaxPooling1D  (None, 6248, 64)    0           ['conv1d_17[0][0]']              \n",
            " )                                                                                                \n",
            "                                                                                                  \n",
            " concatenate_3 (Concatenate)    (None, 6248, 128)    0           ['max_pooling1d_14[0][0]',       \n",
            "                                                                  'max_pooling1d_17[0][0]']       \n",
            "                                                                                                  \n",
            " lstm_9 (LSTM)                  (None, 6248, 128)    131584      ['concatenate_3[0][0]']          \n",
            "                                                                                                  \n",
            " lstm_10 (LSTM)                 (None, 6248, 128)    131584      ['lstm_9[0][0]']                 \n",
            "                                                                                                  \n",
            " lstm_11 (LSTM)                 (None, 128)          131584      ['lstm_10[0][0]']                \n",
            "                                                                                                  \n",
            " dense_5 (Dense)                (None, 128)          16512       ['lstm_11[0][0]']                \n",
            "                                                                                                  \n",
            " final (Dense)                  (None, 1)            129         ['dense_5[0][0]']                \n",
            "                                                                                                  \n",
            "==================================================================================================\n",
            "Total params: 462,465\n",
            "Trainable params: 462,465\n",
            "Non-trainable params: 0\n",
            "__________________________________________________________________________________________________\n"
          ]
        }
      ]
    },
    {
      "cell_type": "code",
      "source": [
        "keras.utils.plot_model(model, \"multi_input_and_output_model.png\", show_shapes=True)"
      ],
      "metadata": {
        "colab": {
          "base_uri": "https://localhost:8080/",
          "height": 1000
        },
        "id": "Q4d_8PQluKqG",
        "outputId": "411aa2ce-d792-4772-9267-9b7da7adfb77"
      },
      "execution_count": 28,
      "outputs": [
        {
          "output_type": "execute_result",
          "data": {
            "image/png": "[encoded data removed]",
            "text/plain": [
              "<IPython.core.display.Image object>"
            ]
          },
          "metadata": {},
          "execution_count": 28
        }
      ]
    },
    {
      "cell_type": "code",
      "source": [
        "opt = Adam(learning_rate=1e-3, decay=1e-3 / 200)\n",
        "model.compile(loss=\"mean_absolute_percentage_error\", optimizer=opt)"
      ],
      "metadata": {
        "id": "-fJfXWzW1EOY"
      },
      "execution_count": 29,
      "outputs": []
    },
    {
      "cell_type": "code",
      "source": [
        "history = model.fit({\"buy\": b.reshape(-1, 50000, 4), \"sell\": s.reshape(-1, 50000, 4)}, {\"final\": trade_train}, epochs=10)"
      ],
      "metadata": {
        "colab": {
          "base_uri": "https://localhost:8080/"
        },
        "id": "y-co6pGKuKud",
        "outputId": "cd3dbeb4-49bd-4df1-94be-3b0dae47d1f2"
      },
      "execution_count": 30,
      "outputs": [
        {
          "output_type": "stream",
          "name": "stdout",
          "text": [
            "Epoch 1/10\n",
            "12/12 [==============================] - 17s 1s/step - loss: 98.7672\n",
            "Epoch 2/10\n",
            "12/12 [==============================] - 12s 961ms/step - loss: 95.4193\n",
            "Epoch 3/10\n",
            "12/12 [==============================] - 11s 953ms/step - loss: 94.4647\n",
            "Epoch 4/10\n",
            "12/12 [==============================] - 11s 946ms/step - loss: 93.8685\n",
            "Epoch 5/10\n",
            "12/12 [==============================] - 11s 946ms/step - loss: 93.2816\n",
            "Epoch 6/10\n",
            "12/12 [==============================] - 11s 944ms/step - loss: 92.7115\n",
            "Epoch 7/10\n",
            "12/12 [==============================] - 11s 954ms/step - loss: 92.1509\n",
            "Epoch 8/10\n",
            "12/12 [==============================] - 12s 956ms/step - loss: 91.5963\n",
            "Epoch 9/10\n",
            "12/12 [==============================] - 12s 958ms/step - loss: 91.0461\n",
            "Epoch 10/10\n",
            "12/12 [==============================] - 13s 1s/step - loss: 90.5233\n"
          ]
        }
      ]
    },
    {
      "cell_type": "code",
      "source": [],
      "metadata": {
        "id": "3EuvPobw6kCz"
      },
      "execution_count": null,
      "outputs": []
    },
    {
      "cell_type": "code",
      "source": [
        "tf.convert_to_tensor(buy_train[0])"
      ],
      "metadata": {
        "colab": {
          "base_uri": "https://localhost:8080/"
        },
        "id": "DNEI02Pm17So",
        "outputId": "af358b92-9b17-472a-8ebe-45ce2eb0401b"
      },
      "execution_count": 66,
      "outputs": [
        {
          "output_type": "execute_result",
          "data": {
            "text/plain": [
              "<tf.Tensor: shape=(15858, 4), dtype=float64, numpy=\n",
              "array([[ 0.17651882, -0.51345483, -2.0278076 , -0.15562812],\n",
              "       [ 0.16347119, -0.51345483, -2.0278076 , -0.15562812],\n",
              "       [ 0.14716164, -0.51345483, -2.0278076 , -0.15562812],\n",
              "       ...,\n",
              "       [ 0.18010692, -0.35890328, -0.31955649, -0.15562812],\n",
              "       [ 0.18010692, -0.34981201, -2.0278076 , -0.15562812],\n",
              "       [ 0.17325691, -0.51042441,  0.53456906, -0.15562812]])>"
            ]
          },
          "metadata": {},
          "execution_count": 66
        }
      ]
    },
    {
      "cell_type": "code",
      "source": [],
      "metadata": {
        "id": "UTqp1NGX99ih"
      },
      "execution_count": null,
      "outputs": []
    }
  ]
}