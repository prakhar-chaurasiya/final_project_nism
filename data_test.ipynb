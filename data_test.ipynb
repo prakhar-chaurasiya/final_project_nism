{
  "nbformat": 4,
  "nbformat_minor": 0,
  "metadata": {
    "colab": {
      "provenance": [],
      "collapsed_sections": [
        "BiJX7FEpzTfC",
        "S2VTH62WGQAJ",
        "ncp2fV1bGl21",
        "KnrBxkaKNc_N",
        "GWppsaHwNiR1"
      ],
      "mount_file_id": "1DGJzqhSOAhPKWHP_IGXW0otzBA6iHASY",
      "authorship_tag": "ABX9TyOCILrOt4H043CiPNnBc5UK",
      "include_colab_link": true
    },
    "kernelspec": {
      "name": "python3",
      "display_name": "Python 3"
    },
    "language_info": {
      "name": "python"
    },
    "gpuClass": "standard"
  },
  "cells": [
    {
      "cell_type": "markdown",
      "metadata": {
        "id": "view-in-github",
        "colab_type": "text"
      },
      "source": [
        "<a href=\"https://colab.research.google.com/github/prakhar-chaurasiya/final_project_nism/blob/main/data_test.ipynb\" target=\"_parent\"><img src=\"https://colab.research.google.com/assets/colab-badge.svg\" alt=\"Open In Colab\"/></a>"
      ]
    },
    {
      "cell_type": "markdown",
      "source": [],
      "metadata": {
        "id": "c6DasgK6v7Ey"
      }
    },
    {
      "cell_type": "markdown",
      "source": [
        "# order data"
      ],
      "metadata": {
        "id": "gdjjwCnNrWGM"
      }
    },
    {
      "cell_type": "code",
      "source": [
        "import pandas as pd\n",
        "import numpy as np\n",
        "from datetime import datetime\n",
        "import tensorflow as tf\n",
        "np.set_printoptions(suppress=True)\n",
        "stock = 'reliance'\n",
        "\n",
        "order_file = f'/content/drive/MyDrive/Colab Notebooks/FA/HIGHFREQ-DATA/highfreq/{stock}.order'\n",
        "order_df = pd.read_csv(order_file, sep='|', header=None)\n",
        "order_df.columns =['session', 'orderid', 'side', 'action', 'order_time', 'price', 'fquant', 'dquant', 'market', 'ioc', 'stoploss', 'triggerprice']\n",
        "jiffy = 65536\n",
        "ist = 330*60 # this is to be added in local machine (5:30 = 330*60 sec)\n",
        "# order_df['time'] = order_df['order_time'].apply(lambda x: datetime.fromtimestamp(x/jiffy))#.strftime('%Y-%m-%d %H:%M:%S'))\n",
        "# order_df['time'] = list(map(lambda x: datetime.fromtimestamp(x/jiffy), order_df['order_time'].values))\n",
        "order_df['time'] = pd.Series(list(map(datetime.fromtimestamp, (order_df['order_time']/jiffy).values)))\n",
        "# order_df['min'] = order_df['order_time'].apply(lambda x: datetime.fromtimestamp(x/jiffy).strftime('%H:%M:%S'))\n",
        "# order_df['sec'] = pd.to_datetime(order_df['time']).dt.strftime(\"%H%M%S\").astype('int')\n",
        "order_df['min'] = pd.to_datetime(order_df['time']).dt.strftime(\"%H%M\").astype('int')\n",
        "order_df['market_num'] = pd.get_dummies(order_df['market'], drop_first=True)\n",
        "\n",
        "def normalize_data(x : np.array) -> np.array:\n",
        "  return (x - x.min(axis=0))/(x.max(axis=0) - x.min(axis=0))\n",
        "\n",
        "def standardize_data(x : np.array) -> np.array:\n",
        "  return (x - x.mean(axis=0))/x.std(axis=0)\n",
        "\n",
        "timeframe = 'min'\n",
        "allsides = order_df[['side', timeframe, 'price', 'fquant', 'action', 'market_num']].values\n",
        "\n",
        "trading_time = []\n",
        "for i in range(9, 16):\n",
        "  if i in range(10, 15):\n",
        "    for j in range(0, 60):\n",
        "      trading_time.append(i*100+j)\n",
        "  elif i == 9:\n",
        "    for j in range(15, 60):\n",
        "      trading_time.append(i*100+j)\n",
        "  else:\n",
        "    for j in range(0, 30):\n",
        "      trading_time.append(i*100+j)"
      ],
      "metadata": {
        "id": "vcRJwM_CrYwz"
      },
      "execution_count": null,
      "outputs": []
    },
    {
      "cell_type": "code",
      "source": [
        "order_df"
      ],
      "metadata": {
        "colab": {
          "base_uri": "https://localhost:8080/",
          "height": 468
        },
        "id": "HphNO4FXADEw",
        "outputId": "42f086ce-1a28-4a11-b6d2-61b8a14235dc"
      },
      "execution_count": null,
      "outputs": [
        {
          "output_type": "execute_result",
          "data": {
            "text/plain": [
              "        session           orderid side  action      order_time   price  \\\n",
              "0            PO  1000000000002582    B       1  84908467825804  271.70   \n",
              "1            PO  1000000000002729    S       1  84908467825877  289.95   \n",
              "2            PO  1000000000003157    S       1  84908467826858  296.30   \n",
              "3            PO  1000000000003255    S       1  84908467827494  305.00   \n",
              "4            PO  1000000000003402    S       1  84908467828919  290.70   \n",
              "...         ...               ...  ...     ...             ...     ...   \n",
              "1056884      RM  1000000001596191    S       3  84910125129363  295.00   \n",
              "1056885      RM  1000000008423767    S       3  84910125129364  298.00   \n",
              "1056886      RM  1000000001228775    B       3  84910125129365  286.50   \n",
              "1056887      RM  1000000009083263    S       3  84910125129366  294.00   \n",
              "1056888      RM  1000000010788928    B       3  84910125129367  282.00   \n",
              "\n",
              "         fquant  dquant market ioc stoploss  triggerprice  \\\n",
              "0             1       0      N   N        N             0   \n",
              "1           100       0      N   N        N             0   \n",
              "2             6       0      N   N        N             0   \n",
              "3          1000       0      N   N        N             0   \n",
              "4           500       0      N   N        N             0   \n",
              "...         ...     ...    ...  ..      ...           ...   \n",
              "1056884     100       0      N   N        N             0   \n",
              "1056885      28       0      N   N        N             0   \n",
              "1056886       1       0      N   N        N             0   \n",
              "1056887       1       0      N   N        N             0   \n",
              "1056888       1       0      N   N        N             0   \n",
              "\n",
              "                              time   min  \n",
              "0       2011-01-21 09:00:00.174011   900  \n",
              "1       2011-01-21 09:00:00.175125   900  \n",
              "2       2011-01-21 09:00:00.190094   900  \n",
              "3       2011-01-21 09:00:00.199799   900  \n",
              "4       2011-01-21 09:00:00.221542   900  \n",
              "...                            ...   ...  \n",
              "1056884 2011-01-21 16:01:28.619431  1601  \n",
              "1056885 2011-01-21 16:01:28.619446  1601  \n",
              "1056886 2011-01-21 16:01:28.619461  1601  \n",
              "1056887 2011-01-21 16:01:28.619476  1601  \n",
              "1056888 2011-01-21 16:01:28.619492  1601  \n",
              "\n",
              "[1056889 rows x 14 columns]"
            ],
            "text/html": [
              "\n",
              "  <div id=\"df-27dd3ed5-68de-45b8-bee5-252655352273\">\n",
              "    <div class=\"colab-df-container\">\n",
              "      <div>\n",
              "<style scoped>\n",
              "    .dataframe tbody tr th:only-of-type {\n",
              "        vertical-align: middle;\n",
              "    }\n",
              "\n",
              "    .dataframe tbody tr th {\n",
              "        vertical-align: top;\n",
              "    }\n",
              "\n",
              "    .dataframe thead th {\n",
              "        text-align: right;\n",
              "    }\n",
              "</style>\n",
              "<table border=\"1\" class=\"dataframe\">\n",
              "  <thead>\n",
              "    <tr style=\"text-align: right;\">\n",
              "      <th></th>\n",
              "      <th>session</th>\n",
              "      <th>orderid</th>\n",
              "      <th>side</th>\n",
              "      <th>action</th>\n",
              "      <th>order_time</th>\n",
              "      <th>price</th>\n",
              "      <th>fquant</th>\n",
              "      <th>dquant</th>\n",
              "      <th>market</th>\n",
              "      <th>ioc</th>\n",
              "      <th>stoploss</th>\n",
              "      <th>triggerprice</th>\n",
              "      <th>time</th>\n",
              "      <th>min</th>\n",
              "    </tr>\n",
              "  </thead>\n",
              "  <tbody>\n",
              "    <tr>\n",
              "      <th>0</th>\n",
              "      <td>PO</td>\n",
              "      <td>1000000000002582</td>\n",
              "      <td>B</td>\n",
              "      <td>1</td>\n",
              "      <td>84908467825804</td>\n",
              "      <td>271.70</td>\n",
              "      <td>1</td>\n",
              "      <td>0</td>\n",
              "      <td>N</td>\n",
              "      <td>N</td>\n",
              "      <td>N</td>\n",
              "      <td>0</td>\n",
              "      <td>2011-01-21 09:00:00.174011</td>\n",
              "      <td>900</td>\n",
              "    </tr>\n",
              "    <tr>\n",
              "      <th>1</th>\n",
              "      <td>PO</td>\n",
              "      <td>1000000000002729</td>\n",
              "      <td>S</td>\n",
              "      <td>1</td>\n",
              "      <td>84908467825877</td>\n",
              "      <td>289.95</td>\n",
              "      <td>100</td>\n",
              "      <td>0</td>\n",
              "      <td>N</td>\n",
              "      <td>N</td>\n",
              "      <td>N</td>\n",
              "      <td>0</td>\n",
              "      <td>2011-01-21 09:00:00.175125</td>\n",
              "      <td>900</td>\n",
              "    </tr>\n",
              "    <tr>\n",
              "      <th>2</th>\n",
              "      <td>PO</td>\n",
              "      <td>1000000000003157</td>\n",
              "      <td>S</td>\n",
              "      <td>1</td>\n",
              "      <td>84908467826858</td>\n",
              "      <td>296.30</td>\n",
              "      <td>6</td>\n",
              "      <td>0</td>\n",
              "      <td>N</td>\n",
              "      <td>N</td>\n",
              "      <td>N</td>\n",
              "      <td>0</td>\n",
              "      <td>2011-01-21 09:00:00.190094</td>\n",
              "      <td>900</td>\n",
              "    </tr>\n",
              "    <tr>\n",
              "      <th>3</th>\n",
              "      <td>PO</td>\n",
              "      <td>1000000000003255</td>\n",
              "      <td>S</td>\n",
              "      <td>1</td>\n",
              "      <td>84908467827494</td>\n",
              "      <td>305.00</td>\n",
              "      <td>1000</td>\n",
              "      <td>0</td>\n",
              "      <td>N</td>\n",
              "      <td>N</td>\n",
              "      <td>N</td>\n",
              "      <td>0</td>\n",
              "      <td>2011-01-21 09:00:00.199799</td>\n",
              "      <td>900</td>\n",
              "    </tr>\n",
              "    <tr>\n",
              "      <th>4</th>\n",
              "      <td>PO</td>\n",
              "      <td>1000000000003402</td>\n",
              "      <td>S</td>\n",
              "      <td>1</td>\n",
              "      <td>84908467828919</td>\n",
              "      <td>290.70</td>\n",
              "      <td>500</td>\n",
              "      <td>0</td>\n",
              "      <td>N</td>\n",
              "      <td>N</td>\n",
              "      <td>N</td>\n",
              "      <td>0</td>\n",
              "      <td>2011-01-21 09:00:00.221542</td>\n",
              "      <td>900</td>\n",
              "    </tr>\n",
              "    <tr>\n",
              "      <th>...</th>\n",
              "      <td>...</td>\n",
              "      <td>...</td>\n",
              "      <td>...</td>\n",
              "      <td>...</td>\n",
              "      <td>...</td>\n",
              "      <td>...</td>\n",
              "      <td>...</td>\n",
              "      <td>...</td>\n",
              "      <td>...</td>\n",
              "      <td>...</td>\n",
              "      <td>...</td>\n",
              "      <td>...</td>\n",
              "      <td>...</td>\n",
              "      <td>...</td>\n",
              "    </tr>\n",
              "    <tr>\n",
              "      <th>1056884</th>\n",
              "      <td>RM</td>\n",
              "      <td>1000000001596191</td>\n",
              "      <td>S</td>\n",
              "      <td>3</td>\n",
              "      <td>84910125129363</td>\n",
              "      <td>295.00</td>\n",
              "      <td>100</td>\n",
              "      <td>0</td>\n",
              "      <td>N</td>\n",
              "      <td>N</td>\n",
              "      <td>N</td>\n",
              "      <td>0</td>\n",
              "      <td>2011-01-21 16:01:28.619431</td>\n",
              "      <td>1601</td>\n",
              "    </tr>\n",
              "    <tr>\n",
              "      <th>1056885</th>\n",
              "      <td>RM</td>\n",
              "      <td>1000000008423767</td>\n",
              "      <td>S</td>\n",
              "      <td>3</td>\n",
              "      <td>84910125129364</td>\n",
              "      <td>298.00</td>\n",
              "      <td>28</td>\n",
              "      <td>0</td>\n",
              "      <td>N</td>\n",
              "      <td>N</td>\n",
              "      <td>N</td>\n",
              "      <td>0</td>\n",
              "      <td>2011-01-21 16:01:28.619446</td>\n",
              "      <td>1601</td>\n",
              "    </tr>\n",
              "    <tr>\n",
              "      <th>1056886</th>\n",
              "      <td>RM</td>\n",
              "      <td>1000000001228775</td>\n",
              "      <td>B</td>\n",
              "      <td>3</td>\n",
              "      <td>84910125129365</td>\n",
              "      <td>286.50</td>\n",
              "      <td>1</td>\n",
              "      <td>0</td>\n",
              "      <td>N</td>\n",
              "      <td>N</td>\n",
              "      <td>N</td>\n",
              "      <td>0</td>\n",
              "      <td>2011-01-21 16:01:28.619461</td>\n",
              "      <td>1601</td>\n",
              "    </tr>\n",
              "    <tr>\n",
              "      <th>1056887</th>\n",
              "      <td>RM</td>\n",
              "      <td>1000000009083263</td>\n",
              "      <td>S</td>\n",
              "      <td>3</td>\n",
              "      <td>84910125129366</td>\n",
              "      <td>294.00</td>\n",
              "      <td>1</td>\n",
              "      <td>0</td>\n",
              "      <td>N</td>\n",
              "      <td>N</td>\n",
              "      <td>N</td>\n",
              "      <td>0</td>\n",
              "      <td>2011-01-21 16:01:28.619476</td>\n",
              "      <td>1601</td>\n",
              "    </tr>\n",
              "    <tr>\n",
              "      <th>1056888</th>\n",
              "      <td>RM</td>\n",
              "      <td>1000000010788928</td>\n",
              "      <td>B</td>\n",
              "      <td>3</td>\n",
              "      <td>84910125129367</td>\n",
              "      <td>282.00</td>\n",
              "      <td>1</td>\n",
              "      <td>0</td>\n",
              "      <td>N</td>\n",
              "      <td>N</td>\n",
              "      <td>N</td>\n",
              "      <td>0</td>\n",
              "      <td>2011-01-21 16:01:28.619492</td>\n",
              "      <td>1601</td>\n",
              "    </tr>\n",
              "  </tbody>\n",
              "</table>\n",
              "<p>1056889 rows × 14 columns</p>\n",
              "</div>\n",
              "      <button class=\"colab-df-convert\" onclick=\"convertToInteractive('df-27dd3ed5-68de-45b8-bee5-252655352273')\"\n",
              "              title=\"Convert this dataframe to an interactive table.\"\n",
              "              style=\"display:none;\">\n",
              "        \n",
              "  <svg xmlns=\"http://www.w3.org/2000/svg\" height=\"24px\"viewBox=\"0 0 24 24\"\n",
              "       width=\"24px\">\n",
              "    <path d=\"M0 0h24v24H0V0z\" fill=\"none\"/>\n",
              "    <path d=\"M18.56 5.44l.94 2.06.94-2.06 2.06-.94-2.06-.94-.94-2.06-.94 2.06-2.06.94zm-11 1L8.5 8.5l.94-2.06 2.06-.94-2.06-.94L8.5 2.5l-.94 2.06-2.06.94zm10 10l.94 2.06.94-2.06 2.06-.94-2.06-.94-.94-2.06-.94 2.06-2.06.94z\"/><path d=\"M17.41 7.96l-1.37-1.37c-.4-.4-.92-.59-1.43-.59-.52 0-1.04.2-1.43.59L10.3 9.45l-7.72 7.72c-.78.78-.78 2.05 0 2.83L4 21.41c.39.39.9.59 1.41.59.51 0 1.02-.2 1.41-.59l7.78-7.78 2.81-2.81c.8-.78.8-2.07 0-2.86zM5.41 20L4 18.59l7.72-7.72 1.47 1.35L5.41 20z\"/>\n",
              "  </svg>\n",
              "      </button>\n",
              "      \n",
              "  <style>\n",
              "    .colab-df-container {\n",
              "      display:flex;\n",
              "      flex-wrap:wrap;\n",
              "      gap: 12px;\n",
              "    }\n",
              "\n",
              "    .colab-df-convert {\n",
              "      background-color: #E8F0FE;\n",
              "      border: none;\n",
              "      border-radius: 50%;\n",
              "      cursor: pointer;\n",
              "      display: none;\n",
              "      fill: #1967D2;\n",
              "      height: 32px;\n",
              "      padding: 0 0 0 0;\n",
              "      width: 32px;\n",
              "    }\n",
              "\n",
              "    .colab-df-convert:hover {\n",
              "      background-color: #E2EBFA;\n",
              "      box-shadow: 0px 1px 2px rgba(60, 64, 67, 0.3), 0px 1px 3px 1px rgba(60, 64, 67, 0.15);\n",
              "      fill: #174EA6;\n",
              "    }\n",
              "\n",
              "    [theme=dark] .colab-df-convert {\n",
              "      background-color: #3B4455;\n",
              "      fill: #D2E3FC;\n",
              "    }\n",
              "\n",
              "    [theme=dark] .colab-df-convert:hover {\n",
              "      background-color: #434B5C;\n",
              "      box-shadow: 0px 1px 3px 1px rgba(0, 0, 0, 0.15);\n",
              "      filter: drop-shadow(0px 1px 2px rgba(0, 0, 0, 0.3));\n",
              "      fill: #FFFFFF;\n",
              "    }\n",
              "  </style>\n",
              "\n",
              "      <script>\n",
              "        const buttonEl =\n",
              "          document.querySelector('#df-27dd3ed5-68de-45b8-bee5-252655352273 button.colab-df-convert');\n",
              "        buttonEl.style.display =\n",
              "          google.colab.kernel.accessAllowed ? 'block' : 'none';\n",
              "\n",
              "        async function convertToInteractive(key) {\n",
              "          const element = document.querySelector('#df-27dd3ed5-68de-45b8-bee5-252655352273');\n",
              "          const dataTable =\n",
              "            await google.colab.kernel.invokeFunction('convertToInteractive',\n",
              "                                                     [key], {});\n",
              "          if (!dataTable) return;\n",
              "\n",
              "          const docLinkHtml = 'Like what you see? Visit the ' +\n",
              "            '<a target=\"_blank\" href=https://colab.research.google.com/notebooks/data_table.ipynb>data table notebook</a>'\n",
              "            + ' to learn more about interactive tables.';\n",
              "          element.innerHTML = '';\n",
              "          dataTable['output_type'] = 'display_data';\n",
              "          await google.colab.output.renderOutput(dataTable, element);\n",
              "          const docLink = document.createElement('div');\n",
              "          docLink.innerHTML = docLinkHtml;\n",
              "          element.appendChild(docLink);\n",
              "        }\n",
              "      </script>\n",
              "    </div>\n",
              "  </div>\n",
              "  "
            ]
          },
          "metadata": {},
          "execution_count": 114
        }
      ]
    },
    {
      "cell_type": "code",
      "source": [
        "datetime(2011, 1, 21)"
      ],
      "metadata": {
        "colab": {
          "base_uri": "https://localhost:8080/"
        },
        "id": "XzjKoRtd_Ojf",
        "outputId": "59738fe3-00d6-4e81-bfea-81b2041e2eb3"
      },
      "execution_count": null,
      "outputs": [
        {
          "output_type": "execute_result",
          "data": {
            "text/plain": [
              "datetime.datetime(2011, 1, 21, 0, 0)"
            ]
          },
          "metadata": {},
          "execution_count": 106
        }
      ]
    },
    {
      "cell_type": "code",
      "source": [
        "t = datetime(2011, 1, 21) - datetime(1980, 1, 1)\n",
        "t"
      ],
      "metadata": {
        "colab": {
          "base_uri": "https://localhost:8080/"
        },
        "id": "8u-Xdr01_AQ_",
        "outputId": "02e9eeca-85cb-462f-80e7-5b52ef8bb021"
      },
      "execution_count": null,
      "outputs": [
        {
          "output_type": "execute_result",
          "data": {
            "text/plain": [
              "datetime.timedelta(days=11343)"
            ]
          },
          "metadata": {},
          "execution_count": 117
        }
      ]
    },
    {
      "cell_type": "code",
      "source": [
        "import datetime as dt\n",
        "dt.datetime(1980, 1, 1) + dt.timedelta(seconds=84908467825804/65536)"
      ],
      "metadata": {
        "colab": {
          "base_uri": "https://localhost:8080/"
        },
        "id": "n74qdSsY_yuX",
        "outputId": "561f5418-4c42-4b9d-d22f-5ca1caa2963f"
      },
      "execution_count": null,
      "outputs": [
        {
          "output_type": "execute_result",
          "data": {
            "text/plain": [
              "datetime.datetime(2021, 1, 20, 9, 0, 0, 174011)"
            ]
          },
          "metadata": {},
          "execution_count": 118
        }
      ]
    },
    {
      "cell_type": "code",
      "source": [
        "pd.Series(list(map(datetime.fromtimestamp, (order_df['order_time']/jiffy).values)))"
      ],
      "metadata": {
        "colab": {
          "base_uri": "https://localhost:8080/"
        },
        "id": "4Jr0uVFfWrE4",
        "outputId": "c5dda72a-6c49-48d1-d9c5-923f28622758"
      },
      "execution_count": null,
      "outputs": [
        {
          "output_type": "execute_result",
          "data": {
            "text/plain": [
              "0          2011-01-21 09:00:00.152328\n",
              "1          2011-01-21 09:00:00.153076\n",
              "2          2011-01-21 09:00:00.153885\n",
              "3          2011-01-21 09:00:00.154297\n",
              "4          2011-01-21 09:00:00.154449\n",
              "                      ...            \n",
              "10620648   2011-01-21 16:01:28.617157\n",
              "10620649   2011-01-21 16:01:28.617172\n",
              "10620650   2011-01-21 16:01:28.617188\n",
              "10620651   2011-01-21 16:01:28.617203\n",
              "10620652   2011-01-21 16:01:28.617218\n",
              "Length: 10620653, dtype: datetime64[ns]"
            ]
          },
          "metadata": {},
          "execution_count": 27
        }
      ]
    },
    {
      "cell_type": "code",
      "source": [
        "order_df.shape[0]"
      ],
      "metadata": {
        "colab": {
          "base_uri": "https://localhost:8080/"
        },
        "id": "8h25juy_OKbp",
        "outputId": "418efba7-fa29-43ff-ec88-460fcebb0e39"
      },
      "execution_count": null,
      "outputs": [
        {
          "output_type": "execute_result",
          "data": {
            "text/plain": [
              "10620653"
            ]
          },
          "metadata": {},
          "execution_count": 7
        }
      ]
    },
    {
      "cell_type": "code",
      "source": [
        "order_df.groupby('market').get_group('Y').shape[0]"
      ],
      "metadata": {
        "colab": {
          "base_uri": "https://localhost:8080/"
        },
        "id": "6TYWl8yeNhQg",
        "outputId": "2281a022-8b72-4518-c7f5-3d239eb3f34c"
      },
      "execution_count": null,
      "outputs": [
        {
          "output_type": "execute_result",
          "data": {
            "text/plain": [
              "81861"
            ]
          },
          "metadata": {},
          "execution_count": 16
        }
      ]
    },
    {
      "cell_type": "code",
      "source": [
        "list(map(str.lower, [\"BAJAJ-AUTO\", \"BAJAJFINSV\", \"DLF\", \"HDFCBANK\", \"ICICIBANK\", \"INFY\", \"JSWSTEEL\", \"L&TINFRA\",\"RELIANCE\", \"SBIN\", \"SUNPHARMA\", \"TCS\", \"TATAMOTORS\"]))"
      ],
      "metadata": {
        "colab": {
          "base_uri": "https://localhost:8080/"
        },
        "id": "UP4co1hPWY1J",
        "outputId": "5f24c1e1-aea9-4597-a76f-6ee7928dace7"
      },
      "execution_count": null,
      "outputs": [
        {
          "output_type": "execute_result",
          "data": {
            "text/plain": [
              "['bajaj-auto',\n",
              " 'bajajfinsv',\n",
              " 'dlf',\n",
              " 'hdfcbank',\n",
              " 'icicibank',\n",
              " 'infy',\n",
              " 'jswsteel',\n",
              " 'l&tinfra',\n",
              " 'reliance',\n",
              " 'sbin',\n",
              " 'sunpharma',\n",
              " 'tcs',\n",
              " 'tatamotors']"
            ]
          },
          "metadata": {},
          "execution_count": 24
        }
      ]
    },
    {
      "cell_type": "code",
      "source": [
        "import pandas as pd\n",
        "import numpy as np\n",
        "from datetime import datetime\n",
        "import tensorflow as tf\n",
        "np.set_printoptions(suppress=True)\n",
        "\n",
        "stocks = ['bajaj-auto',\n",
        " 'bajajfinsv',\n",
        " 'dlf',\n",
        " 'hdfcbank',\n",
        " 'icicibank',\n",
        " 'infy',\n",
        " 'jswsteel',\n",
        " 'l&tinfra',\n",
        " 'reliance',\n",
        " 'sbin',\n",
        " 'sunpharma',\n",
        " 'tcs',\n",
        " 'tatamotors']\n",
        " \n",
        "def order(stock):\n",
        "  order_file = f'/content/drive/MyDrive/Colab Notebooks/FA/HIGHFREQ-DATA/highfreq/{stock}.order'\n",
        "  order_df = pd.read_csv(order_file, sep='|', header=None)\n",
        "  order_df.columns =['session', 'orderid', 'side', 'action', 'order_time', 'price', 'fquant', 'dquant', 'market', 'ioc', 'stoploss', 'triggerprice']\n",
        "  return order_df\n",
        "\n",
        "def trade(stock):\n",
        "  trade_file = f'/content/drive/MyDrive/Colab Notebooks/FA/HIGHFREQ-DATA/trade_data/{stock.upper()}.trade'\n",
        "  trade_df = pd.read_csv(trade_file, sep='|', header=None)\n",
        "  trade_df.columns =['record', 'segment', 'trade_no', \n",
        "                      'trade_time', 'series', 'trade_price', \n",
        "                      'trade_qty', 'buy_order_no', 'buy_algo', \n",
        "                      'client', 'sell_order_no', 'sell_algo']\n",
        "  return trade_df"
      ],
      "metadata": {
        "id": "q9iTrFViV3Kq"
      },
      "execution_count": null,
      "outputs": []
    },
    {
      "cell_type": "code",
      "source": [
        "def stats(stock, order_df, trades_df):\n",
        "  print(f'{stock.upper()}:')\n",
        "  \n",
        "  total_orders = order_df.shape[0]\n",
        "  print(f'Total orders: {total_orders}')\n",
        "  print()\n",
        "\n",
        "  total_trades = trade_df.shape[0]\n",
        "  print(f'Total trades: {total_trades}')\n",
        "  print(f'% trades: {total_trades/total_orders*100:.3f}%')\n",
        "  print()\n",
        "\n",
        "  market_orders = order_df.groupby('market').get_group('Y').shape[0]\n",
        "  print(f'Total market orders: {market_orders}')\n",
        "  print(f'% market orders: {market_orders/total_orders*100:.3f}%')\n",
        "  print()\n",
        "\n",
        "  new_orders = order_df.groupby('action').get_group(1).shape[0]\n",
        "  print(f'Total new orders: {new_orders}')\n",
        "  print(f'% new orders: {new_orders/total_orders*100:.3f}%')\n",
        "  print()\n",
        "  \n",
        "  modified_orders = order_df.groupby('action').get_group(4).shape[0]\n",
        "  print(f'Total modified orders: {modified_orders}')\n",
        "  print(f'% modified orders: {modified_orders/total_orders*100:.3f}%')\n",
        "  print()\n",
        "\n",
        "  deleted_orders = order_df.groupby('action').get_group(3).shape[0]\n",
        "  print(f'Total deleted orders: {deleted_orders}')\n",
        "  print(f'% deleted orders: {deleted_orders/total_orders*100:.3f}%')\n",
        "  print()\n",
        "\n",
        "  buy = order_df.groupby('side').get_group('B').shape[0]\n",
        "  print(f'Total buy orders: {buy}')\n",
        "  print(f'% buy orders: {buy/total_orders*100:.3f}%')\n",
        "  print()\n",
        "\n",
        "  sell = order_df.groupby('side').get_group('S').shape[0]\n",
        "  print(f'Total sell orders: {sell}')\n",
        "  print(f'% sell orders: {sell/total_orders*100:.3f}%')\n",
        "  print('---------------------------------------')\n",
        "  print()"
      ],
      "metadata": {
        "id": "cc4iViXzQVg5"
      },
      "execution_count": null,
      "outputs": []
    },
    {
      "cell_type": "code",
      "source": [
        "for stock in stocks:\n",
        "  order_df = order(stock)\n",
        "  trade_df = trade(stock)\n",
        "  stats(stock, order_df, trade_df)"
      ],
      "metadata": {
        "colab": {
          "base_uri": "https://localhost:8080/"
        },
        "id": "fyC9HtY7X0ew",
        "outputId": "800b0599-3102-4290-e515-e7639eb90fb2"
      },
      "execution_count": null,
      "outputs": [
        {
          "output_type": "stream",
          "name": "stdout",
          "text": [
            "BAJAJ-AUTO:\n",
            "Total orders: 1567569\n",
            "\n",
            "Total trades: 34622\n",
            "% trades: 2.209%\n",
            "\n",
            "Total market orders: 7330\n",
            "% market orders: 0.468%\n",
            "\n",
            "Total new orders: 276067\n",
            "% new orders: 17.611%\n",
            "\n",
            "Total modified orders: 1053713\n",
            "% modified orders: 67.220%\n",
            "\n",
            "Total deleted orders: 237789\n",
            "% deleted orders: 15.169%\n",
            "\n",
            "Total buy orders: 587582\n",
            "% buy orders: 37.484%\n",
            "\n",
            "Total sell orders: 979987\n",
            "% sell orders: 62.516%\n",
            "---------------------------------------\n",
            "\n",
            "BAJAJFINSV:\n",
            "Total orders: 4573985\n",
            "\n",
            "Total trades: 72645\n",
            "% trades: 1.588%\n",
            "\n",
            "Total market orders: 17376\n",
            "% market orders: 0.380%\n",
            "\n",
            "Total new orders: 733310\n",
            "% new orders: 16.032%\n",
            "\n",
            "Total modified orders: 3188225\n",
            "% modified orders: 69.703%\n",
            "\n",
            "Total deleted orders: 652450\n",
            "% deleted orders: 14.264%\n",
            "\n",
            "Total buy orders: 2461640\n",
            "% buy orders: 53.818%\n",
            "\n",
            "Total sell orders: 2112345\n",
            "% sell orders: 46.182%\n",
            "---------------------------------------\n",
            "\n",
            "DLF:\n",
            "Total orders: 1056889\n",
            "\n",
            "Total trades: 100822\n",
            "% trades: 9.540%\n",
            "\n",
            "Total market orders: 24093\n",
            "% market orders: 2.280%\n",
            "\n",
            "Total new orders: 296166\n",
            "% new orders: 28.022%\n",
            "\n",
            "Total modified orders: 568562\n",
            "% modified orders: 53.796%\n",
            "\n",
            "Total deleted orders: 192161\n",
            "% deleted orders: 18.182%\n",
            "\n",
            "Total buy orders: 524394\n",
            "% buy orders: 49.617%\n",
            "\n",
            "Total sell orders: 532495\n",
            "% sell orders: 50.383%\n",
            "---------------------------------------\n",
            "\n",
            "HDFCBANK:\n",
            "Total orders: 4385594\n",
            "\n",
            "Total trades: 137443\n",
            "% trades: 3.134%\n",
            "\n",
            "Total market orders: 29327\n",
            "% market orders: 0.669%\n",
            "\n",
            "Total new orders: 511075\n",
            "% new orders: 11.653%\n",
            "\n",
            "Total modified orders: 3494090\n",
            "% modified orders: 79.672%\n",
            "\n",
            "Total deleted orders: 380429\n",
            "% deleted orders: 8.675%\n",
            "\n",
            "Total buy orders: 2244772\n",
            "% buy orders: 51.185%\n",
            "\n",
            "Total sell orders: 2140822\n",
            "% sell orders: 48.815%\n",
            "---------------------------------------\n",
            "\n",
            "ICICIBANK:\n",
            "Total orders: 3660853\n",
            "\n",
            "Total trades: 203783\n",
            "% trades: 5.567%\n",
            "\n",
            "Total market orders: 31766\n",
            "% market orders: 0.868%\n",
            "\n",
            "Total new orders: 608876\n",
            "% new orders: 16.632%\n",
            "\n",
            "Total modified orders: 2615005\n",
            "% modified orders: 71.432%\n",
            "\n",
            "Total deleted orders: 436972\n",
            "% deleted orders: 11.936%\n",
            "\n",
            "Total buy orders: 1960520\n",
            "% buy orders: 53.554%\n",
            "\n",
            "Total sell orders: 1700333\n",
            "% sell orders: 46.446%\n",
            "---------------------------------------\n",
            "\n",
            "INFY:\n",
            "Total orders: 3740182\n",
            "\n",
            "Total trades: 195330\n",
            "% trades: 5.222%\n",
            "\n",
            "Total market orders: 32508\n",
            "% market orders: 0.869%\n",
            "\n",
            "Total new orders: 513708\n",
            "% new orders: 13.735%\n",
            "\n",
            "Total modified orders: 2891366\n",
            "% modified orders: 77.305%\n",
            "\n",
            "Total deleted orders: 335108\n",
            "% deleted orders: 8.960%\n",
            "\n",
            "Total buy orders: 1676917\n",
            "% buy orders: 44.835%\n",
            "\n",
            "Total sell orders: 2063265\n",
            "% sell orders: 55.165%\n",
            "---------------------------------------\n",
            "\n",
            "JSWSTEEL:\n",
            "Total orders: 892080\n",
            "\n",
            "Total trades: 49112\n",
            "% trades: 5.505%\n",
            "\n",
            "Total market orders: 11616\n",
            "% market orders: 1.302%\n",
            "\n",
            "Total new orders: 223863\n",
            "% new orders: 25.094%\n",
            "\n",
            "Total modified orders: 495414\n",
            "% modified orders: 55.535%\n",
            "\n",
            "Total deleted orders: 172803\n",
            "% deleted orders: 19.371%\n",
            "\n",
            "Total buy orders: 435159\n",
            "% buy orders: 48.780%\n",
            "\n",
            "Total sell orders: 456921\n",
            "% sell orders: 51.220%\n",
            "---------------------------------------\n",
            "\n",
            "L&TINFRA:\n",
            "Total orders: 164\n",
            "\n",
            "Total trades: 32\n",
            "% trades: 19.512%\n",
            "\n",
            "Total market orders: 2\n",
            "% market orders: 1.220%\n",
            "\n",
            "Total new orders: 93\n",
            "% new orders: 56.707%\n",
            "\n",
            "Total modified orders: 58\n",
            "% modified orders: 35.366%\n",
            "\n",
            "Total deleted orders: 13\n",
            "% deleted orders: 7.927%\n",
            "\n",
            "Total buy orders: 89\n",
            "% buy orders: 54.268%\n",
            "\n",
            "Total sell orders: 75\n",
            "% sell orders: 45.732%\n",
            "---------------------------------------\n",
            "\n",
            "RELIANCE:\n",
            "Total orders: 10620653\n",
            "\n",
            "Total trades: 456106\n",
            "% trades: 4.295%\n",
            "\n",
            "Total market orders: 81861\n",
            "% market orders: 0.771%\n",
            "\n",
            "Total new orders: 1386231\n",
            "% new orders: 13.052%\n",
            "\n",
            "Total modified orders: 8252153\n",
            "% modified orders: 77.699%\n",
            "\n",
            "Total deleted orders: 982269\n",
            "% deleted orders: 9.249%\n",
            "\n",
            "Total buy orders: 4766319\n",
            "% buy orders: 44.878%\n",
            "\n",
            "Total sell orders: 5854334\n",
            "% sell orders: 55.122%\n",
            "---------------------------------------\n",
            "\n",
            "SBIN:\n",
            "Total orders: 2872895\n",
            "\n",
            "Total trades: 215477\n",
            "% trades: 7.500%\n",
            "\n",
            "Total market orders: 50546\n",
            "% market orders: 1.759%\n",
            "\n",
            "Total new orders: 602623\n",
            "% new orders: 20.976%\n",
            "\n",
            "Total modified orders: 1884068\n",
            "% modified orders: 65.581%\n",
            "\n",
            "Total deleted orders: 386204\n",
            "% deleted orders: 13.443%\n",
            "\n",
            "Total buy orders: 1623118\n",
            "% buy orders: 56.498%\n",
            "\n",
            "Total sell orders: 1249777\n",
            "% sell orders: 43.502%\n",
            "---------------------------------------\n",
            "\n",
            "SUNPHARMA:\n",
            "Total orders: 1242302\n",
            "\n",
            "Total trades: 72355\n",
            "% trades: 5.824%\n",
            "\n",
            "Total market orders: 17044\n",
            "% market orders: 1.372%\n",
            "\n",
            "Total new orders: 266501\n",
            "% new orders: 21.452%\n",
            "\n",
            "Total modified orders: 788856\n",
            "% modified orders: 63.500%\n",
            "\n",
            "Total deleted orders: 186945\n",
            "% deleted orders: 15.048%\n",
            "\n",
            "Total buy orders: 561495\n",
            "% buy orders: 45.198%\n",
            "\n",
            "Total sell orders: 680807\n",
            "% sell orders: 54.802%\n",
            "---------------------------------------\n",
            "\n",
            "TCS:\n",
            "Total orders: 3370310\n",
            "\n",
            "Total trades: 169490\n",
            "% trades: 5.029%\n",
            "\n",
            "Total market orders: 28497\n",
            "% market orders: 0.846%\n",
            "\n",
            "Total new orders: 530388\n",
            "% new orders: 15.737%\n",
            "\n",
            "Total modified orders: 2450532\n",
            "% modified orders: 72.709%\n",
            "\n",
            "Total deleted orders: 389390\n",
            "% deleted orders: 11.554%\n",
            "\n",
            "Total buy orders: 1428288\n",
            "% buy orders: 42.379%\n",
            "\n",
            "Total sell orders: 1942022\n",
            "% sell orders: 57.621%\n",
            "---------------------------------------\n",
            "\n",
            "TATAMOTORS:\n",
            "Total orders: 6178843\n",
            "\n",
            "Total trades: 828086\n",
            "% trades: 13.402%\n",
            "\n",
            "Total market orders: 279000\n",
            "% market orders: 4.515%\n",
            "\n",
            "Total new orders: 1638836\n",
            "% new orders: 26.523%\n",
            "\n",
            "Total modified orders: 3740415\n",
            "% modified orders: 60.536%\n",
            "\n",
            "Total deleted orders: 799592\n",
            "% deleted orders: 12.941%\n",
            "\n",
            "Total buy orders: 3148144\n",
            "% buy orders: 50.950%\n",
            "\n",
            "Total sell orders: 3030699\n",
            "% sell orders: 49.050%\n",
            "---------------------------------------\n",
            "\n"
          ]
        }
      ]
    },
    {
      "cell_type": "code",
      "source": [
        "stock = 'dlf'\n",
        "order_df = order(stock)\n",
        "# trade_df = trade(stock)\n",
        "order_df['time'] = pd.Series(list(map(datetime.fromtimestamp, (order_df['order_time']/jiffy).values)))\n",
        "order_df['min'] = pd.to_datetime(order_df['time']).dt.strftime(\"%H%M\").astype('int')\n",
        "# order_df['market_num'] = pd.get_dummies(order_df['market'], drop_first=True)\n",
        "order_df['price'] = order_df['price']/100 "
      ],
      "metadata": {
        "id": "gPLbWuOHpetC"
      },
      "execution_count": null,
      "outputs": []
    },
    {
      "cell_type": "code",
      "source": [
        "LO = order_df.groupby('market').get_group('N')\n",
        "_915 = LO.groupby('min').get_group(915)\n",
        "B_915 = _915.groupby('side').get_group('B')\n",
        "S_915 = _915.groupby('side').get_group('S')"
      ],
      "metadata": {
        "id": "lVraKRpOqDzj"
      },
      "execution_count": null,
      "outputs": []
    },
    {
      "cell_type": "code",
      "source": [
        "tp = 290.06876"
      ],
      "metadata": {
        "id": "w18b73_Gv75C"
      },
      "execution_count": null,
      "outputs": []
    },
    {
      "cell_type": "code",
      "source": [
        "B_915_g = B_915.groupby('price')\n",
        "bid = {}\n",
        "for i in B_915_g.groups:\n",
        "  if i < tp: \n",
        "    bid[i] = B_915_g.get_group(i)['fquant'].sum()"
      ],
      "metadata": {
        "id": "7uH4cmrcrcax"
      },
      "execution_count": null,
      "outputs": []
    },
    {
      "cell_type": "code",
      "source": [
        "S_915.groupby('price').groups\n",
        "S_915_g = S_915.groupby('price')\n",
        "ask = {}\n",
        "for i in S_915_g.groups:\n",
        "  if i > tp:\n",
        "    ask[i] = S_915_g.get_group(i)['fquant'].sum()"
      ],
      "metadata": {
        "id": "2yiSiw_FrdQQ"
      },
      "execution_count": null,
      "outputs": []
    },
    {
      "cell_type": "markdown",
      "source": [
        "291.08145 trade price at 91500"
      ],
      "metadata": {
        "id": "S1hz2DbKv2xK"
      }
    },
    {
      "cell_type": "code",
      "source": [
        "bid"
      ],
      "metadata": {
        "id": "MqLqnuThuhOi"
      },
      "execution_count": null,
      "outputs": []
    },
    {
      "cell_type": "code",
      "source": [
        "ask"
      ],
      "metadata": {
        "id": "AU3y6FhbvIQp"
      },
      "execution_count": null,
      "outputs": []
    },
    {
      "cell_type": "code",
      "source": [
        "import matplotlib.pyplot as plt\n",
        "plt.figure(figsize=(8,8), dpi=150)\n",
        "plt.plot(list(bid.keys()), list(bid.values()), label='Bid')\n",
        "plt.plot(list(ask.keys()), list(ask.values()), label='Ask')\n",
        "plt.title('Snapshot of order book of DLF at 9:15')\n",
        "plt.xlabel('Price')\n",
        "plt.ylabel('Quantity')\n",
        "plt.legend()\n",
        "plt.show()"
      ],
      "metadata": {
        "colab": {
          "base_uri": "https://localhost:8080/",
          "height": 1000
        },
        "id": "vV2krki4wvfi",
        "outputId": "942ea03c-1044-4b40-954d-b7ae4d0614dc"
      },
      "execution_count": null,
      "outputs": [
        {
          "output_type": "display_data",
          "data": {
            "text/plain": [
              "<Figure size 1200x1200 with 1 Axes>"
            ],
            "image/png": "[encoded data removed]"
          },
          "metadata": {
            "needs_background": "light"
          }
        }
      ]
    },
    {
      "cell_type": "code",
      "source": [
        "list(bid.values())"
      ],
      "metadata": {
        "id": "Ot8T6txFxM56"
      },
      "execution_count": null,
      "outputs": []
    },
    {
      "cell_type": "code",
      "source": [
        "trade_df = trade(stock)\n",
        "trade_df"
      ],
      "metadata": {
        "colab": {
          "base_uri": "https://localhost:8080/",
          "height": 468
        },
        "id": "aFt3_PsfvRmi",
        "outputId": "2e5351e8-606e-4c1c-a864-45f18631ab88"
      },
      "execution_count": null,
      "outputs": [
        {
          "output_type": "execute_result",
          "data": {
            "text/plain": [
              "       record segment          trade_no      trade_time series  trade_price  \\\n",
              "0          PO    CASH  2021012000009187  84908499166667     EQ        29105   \n",
              "1          PO    CASH  2021012000009188  84908499166668     EQ        29105   \n",
              "2          PO    CASH  2021012000009189  84908499166669     EQ        29105   \n",
              "3          PO    CASH  2021012000009190  84908499166670     EQ        29105   \n",
              "4          PO    CASH  2021012000009191  84908499166671     EQ        29105   \n",
              "...       ...     ...               ...             ...    ...          ...   \n",
              "100817     RM    CASH  2021012004504238  84910090545595     EQ        29045   \n",
              "100818     RM    CASH  2021012004504262  84910092577977     EQ        29045   \n",
              "100819     RM    CASH  2021012004504279  84910092944059     EQ        29045   \n",
              "100820     RM    CASH  2021012004504453  84910101941838     EQ        29045   \n",
              "100821     RM    CASH  2021012004504529  84910108073511     EQ        29045   \n",
              "\n",
              "        trade_qty      buy_order_no  buy_algo  client     sell_order_no  \\\n",
              "0              50  1000000000110793         1       3  1000000000142464   \n",
              "1             100  1000000000107670         1       3  1000000000142464   \n",
              "2               9  1000000000090727         1       3  1000000000142464   \n",
              "3               9  1000000000090730         1       3  1000000000142464   \n",
              "4             140  1000000000067699         1       3  1000000000142464   \n",
              "...           ...               ...       ...     ...               ...   \n",
              "100817        200  1000000016682060         1       3  1000000016678737   \n",
              "100818        200  1000000016682123         1       3  1000000016678737   \n",
              "100819          7  1000000016682135         1       2  1000000016678737   \n",
              "100820         34  1000000016682442         1       3  1000000016678737   \n",
              "100821         10  1000000016682579         1       3  1000000016678737   \n",
              "\n",
              "        sell_algo  \n",
              "0               1  \n",
              "1               1  \n",
              "2               1  \n",
              "3               1  \n",
              "4               1  \n",
              "...           ...  \n",
              "100817          1  \n",
              "100818          1  \n",
              "100819          1  \n",
              "100820          1  \n",
              "100821          1  \n",
              "\n",
              "[100822 rows x 12 columns]"
            ],
            "text/html": [
              "\n",
              "  <div id=\"df-00909ec4-aed2-4231-bc3b-34ed16f935d0\">\n",
              "    <div class=\"colab-df-container\">\n",
              "      <div>\n",
              "<style scoped>\n",
              "    .dataframe tbody tr th:only-of-type {\n",
              "        vertical-align: middle;\n",
              "    }\n",
              "\n",
              "    .dataframe tbody tr th {\n",
              "        vertical-align: top;\n",
              "    }\n",
              "\n",
              "    .dataframe thead th {\n",
              "        text-align: right;\n",
              "    }\n",
              "</style>\n",
              "<table border=\"1\" class=\"dataframe\">\n",
              "  <thead>\n",
              "    <tr style=\"text-align: right;\">\n",
              "      <th></th>\n",
              "      <th>record</th>\n",
              "      <th>segment</th>\n",
              "      <th>trade_no</th>\n",
              "      <th>trade_time</th>\n",
              "      <th>series</th>\n",
              "      <th>trade_price</th>\n",
              "      <th>trade_qty</th>\n",
              "      <th>buy_order_no</th>\n",
              "      <th>buy_algo</th>\n",
              "      <th>client</th>\n",
              "      <th>sell_order_no</th>\n",
              "      <th>sell_algo</th>\n",
              "    </tr>\n",
              "  </thead>\n",
              "  <tbody>\n",
              "    <tr>\n",
              "      <th>0</th>\n",
              "      <td>PO</td>\n",
              "      <td>CASH</td>\n",
              "      <td>2021012000009187</td>\n",
              "      <td>84908499166667</td>\n",
              "      <td>EQ</td>\n",
              "      <td>29105</td>\n",
              "      <td>50</td>\n",
              "      <td>1000000000110793</td>\n",
              "      <td>1</td>\n",
              "      <td>3</td>\n",
              "      <td>1000000000142464</td>\n",
              "      <td>1</td>\n",
              "    </tr>\n",
              "    <tr>\n",
              "      <th>1</th>\n",
              "      <td>PO</td>\n",
              "      <td>CASH</td>\n",
              "      <td>2021012000009188</td>\n",
              "      <td>84908499166668</td>\n",
              "      <td>EQ</td>\n",
              "      <td>29105</td>\n",
              "      <td>100</td>\n",
              "      <td>1000000000107670</td>\n",
              "      <td>1</td>\n",
              "      <td>3</td>\n",
              "      <td>1000000000142464</td>\n",
              "      <td>1</td>\n",
              "    </tr>\n",
              "    <tr>\n",
              "      <th>2</th>\n",
              "      <td>PO</td>\n",
              "      <td>CASH</td>\n",
              "      <td>2021012000009189</td>\n",
              "      <td>84908499166669</td>\n",
              "      <td>EQ</td>\n",
              "      <td>29105</td>\n",
              "      <td>9</td>\n",
              "      <td>1000000000090727</td>\n",
              "      <td>1</td>\n",
              "      <td>3</td>\n",
              "      <td>1000000000142464</td>\n",
              "      <td>1</td>\n",
              "    </tr>\n",
              "    <tr>\n",
              "      <th>3</th>\n",
              "      <td>PO</td>\n",
              "      <td>CASH</td>\n",
              "      <td>2021012000009190</td>\n",
              "      <td>84908499166670</td>\n",
              "      <td>EQ</td>\n",
              "      <td>29105</td>\n",
              "      <td>9</td>\n",
              "      <td>1000000000090730</td>\n",
              "      <td>1</td>\n",
              "      <td>3</td>\n",
              "      <td>1000000000142464</td>\n",
              "      <td>1</td>\n",
              "    </tr>\n",
              "    <tr>\n",
              "      <th>4</th>\n",
              "      <td>PO</td>\n",
              "      <td>CASH</td>\n",
              "      <td>2021012000009191</td>\n",
              "      <td>84908499166671</td>\n",
              "      <td>EQ</td>\n",
              "      <td>29105</td>\n",
              "      <td>140</td>\n",
              "      <td>1000000000067699</td>\n",
              "      <td>1</td>\n",
              "      <td>3</td>\n",
              "      <td>1000000000142464</td>\n",
              "      <td>1</td>\n",
              "    </tr>\n",
              "    <tr>\n",
              "      <th>...</th>\n",
              "      <td>...</td>\n",
              "      <td>...</td>\n",
              "      <td>...</td>\n",
              "      <td>...</td>\n",
              "      <td>...</td>\n",
              "      <td>...</td>\n",
              "      <td>...</td>\n",
              "      <td>...</td>\n",
              "      <td>...</td>\n",
              "      <td>...</td>\n",
              "      <td>...</td>\n",
              "      <td>...</td>\n",
              "    </tr>\n",
              "    <tr>\n",
              "      <th>100817</th>\n",
              "      <td>RM</td>\n",
              "      <td>CASH</td>\n",
              "      <td>2021012004504238</td>\n",
              "      <td>84910090545595</td>\n",
              "      <td>EQ</td>\n",
              "      <td>29045</td>\n",
              "      <td>200</td>\n",
              "      <td>1000000016682060</td>\n",
              "      <td>1</td>\n",
              "      <td>3</td>\n",
              "      <td>1000000016678737</td>\n",
              "      <td>1</td>\n",
              "    </tr>\n",
              "    <tr>\n",
              "      <th>100818</th>\n",
              "      <td>RM</td>\n",
              "      <td>CASH</td>\n",
              "      <td>2021012004504262</td>\n",
              "      <td>84910092577977</td>\n",
              "      <td>EQ</td>\n",
              "      <td>29045</td>\n",
              "      <td>200</td>\n",
              "      <td>1000000016682123</td>\n",
              "      <td>1</td>\n",
              "      <td>3</td>\n",
              "      <td>1000000016678737</td>\n",
              "      <td>1</td>\n",
              "    </tr>\n",
              "    <tr>\n",
              "      <th>100819</th>\n",
              "      <td>RM</td>\n",
              "      <td>CASH</td>\n",
              "      <td>2021012004504279</td>\n",
              "      <td>84910092944059</td>\n",
              "      <td>EQ</td>\n",
              "      <td>29045</td>\n",
              "      <td>7</td>\n",
              "      <td>1000000016682135</td>\n",
              "      <td>1</td>\n",
              "      <td>2</td>\n",
              "      <td>1000000016678737</td>\n",
              "      <td>1</td>\n",
              "    </tr>\n",
              "    <tr>\n",
              "      <th>100820</th>\n",
              "      <td>RM</td>\n",
              "      <td>CASH</td>\n",
              "      <td>2021012004504453</td>\n",
              "      <td>84910101941838</td>\n",
              "      <td>EQ</td>\n",
              "      <td>29045</td>\n",
              "      <td>34</td>\n",
              "      <td>1000000016682442</td>\n",
              "      <td>1</td>\n",
              "      <td>3</td>\n",
              "      <td>1000000016678737</td>\n",
              "      <td>1</td>\n",
              "    </tr>\n",
              "    <tr>\n",
              "      <th>100821</th>\n",
              "      <td>RM</td>\n",
              "      <td>CASH</td>\n",
              "      <td>2021012004504529</td>\n",
              "      <td>84910108073511</td>\n",
              "      <td>EQ</td>\n",
              "      <td>29045</td>\n",
              "      <td>10</td>\n",
              "      <td>1000000016682579</td>\n",
              "      <td>1</td>\n",
              "      <td>3</td>\n",
              "      <td>1000000016678737</td>\n",
              "      <td>1</td>\n",
              "    </tr>\n",
              "  </tbody>\n",
              "</table>\n",
              "<p>100822 rows × 12 columns</p>\n",
              "</div>\n",
              "      <button class=\"colab-df-convert\" onclick=\"convertToInteractive('df-00909ec4-aed2-4231-bc3b-34ed16f935d0')\"\n",
              "              title=\"Convert this dataframe to an interactive table.\"\n",
              "              style=\"display:none;\">\n",
              "        \n",
              "  <svg xmlns=\"http://www.w3.org/2000/svg\" height=\"24px\"viewBox=\"0 0 24 24\"\n",
              "       width=\"24px\">\n",
              "    <path d=\"M0 0h24v24H0V0z\" fill=\"none\"/>\n",
              "    <path d=\"M18.56 5.44l.94 2.06.94-2.06 2.06-.94-2.06-.94-.94-2.06-.94 2.06-2.06.94zm-11 1L8.5 8.5l.94-2.06 2.06-.94-2.06-.94L8.5 2.5l-.94 2.06-2.06.94zm10 10l.94 2.06.94-2.06 2.06-.94-2.06-.94-.94-2.06-.94 2.06-2.06.94z\"/><path d=\"M17.41 7.96l-1.37-1.37c-.4-.4-.92-.59-1.43-.59-.52 0-1.04.2-1.43.59L10.3 9.45l-7.72 7.72c-.78.78-.78 2.05 0 2.83L4 21.41c.39.39.9.59 1.41.59.51 0 1.02-.2 1.41-.59l7.78-7.78 2.81-2.81c.8-.78.8-2.07 0-2.86zM5.41 20L4 18.59l7.72-7.72 1.47 1.35L5.41 20z\"/>\n",
              "  </svg>\n",
              "      </button>\n",
              "      \n",
              "  <style>\n",
              "    .colab-df-container {\n",
              "      display:flex;\n",
              "      flex-wrap:wrap;\n",
              "      gap: 12px;\n",
              "    }\n",
              "\n",
              "    .colab-df-convert {\n",
              "      background-color: #E8F0FE;\n",
              "      border: none;\n",
              "      border-radius: 50%;\n",
              "      cursor: pointer;\n",
              "      display: none;\n",
              "      fill: #1967D2;\n",
              "      height: 32px;\n",
              "      padding: 0 0 0 0;\n",
              "      width: 32px;\n",
              "    }\n",
              "\n",
              "    .colab-df-convert:hover {\n",
              "      background-color: #E2EBFA;\n",
              "      box-shadow: 0px 1px 2px rgba(60, 64, 67, 0.3), 0px 1px 3px 1px rgba(60, 64, 67, 0.15);\n",
              "      fill: #174EA6;\n",
              "    }\n",
              "\n",
              "    [theme=dark] .colab-df-convert {\n",
              "      background-color: #3B4455;\n",
              "      fill: #D2E3FC;\n",
              "    }\n",
              "\n",
              "    [theme=dark] .colab-df-convert:hover {\n",
              "      background-color: #434B5C;\n",
              "      box-shadow: 0px 1px 3px 1px rgba(0, 0, 0, 0.15);\n",
              "      filter: drop-shadow(0px 1px 2px rgba(0, 0, 0, 0.3));\n",
              "      fill: #FFFFFF;\n",
              "    }\n",
              "  </style>\n",
              "\n",
              "      <script>\n",
              "        const buttonEl =\n",
              "          document.querySelector('#df-00909ec4-aed2-4231-bc3b-34ed16f935d0 button.colab-df-convert');\n",
              "        buttonEl.style.display =\n",
              "          google.colab.kernel.accessAllowed ? 'block' : 'none';\n",
              "\n",
              "        async function convertToInteractive(key) {\n",
              "          const element = document.querySelector('#df-00909ec4-aed2-4231-bc3b-34ed16f935d0');\n",
              "          const dataTable =\n",
              "            await google.colab.kernel.invokeFunction('convertToInteractive',\n",
              "                                                     [key], {});\n",
              "          if (!dataTable) return;\n",
              "\n",
              "          const docLinkHtml = 'Like what you see? Visit the ' +\n",
              "            '<a target=\"_blank\" href=https://colab.research.google.com/notebooks/data_table.ipynb>data table notebook</a>'\n",
              "            + ' to learn more about interactive tables.';\n",
              "          element.innerHTML = '';\n",
              "          dataTable['output_type'] = 'display_data';\n",
              "          await google.colab.output.renderOutput(dataTable, element);\n",
              "          const docLink = document.createElement('div');\n",
              "          docLink.innerHTML = docLinkHtml;\n",
              "          element.appendChild(docLink);\n",
              "        }\n",
              "      </script>\n",
              "    </div>\n",
              "  </div>\n",
              "  "
            ]
          },
          "metadata": {},
          "execution_count": 74
        }
      ]
    },
    {
      "cell_type": "code",
      "source": [],
      "metadata": {
        "id": "15CEVfRQrdVX"
      },
      "execution_count": null,
      "outputs": []
    },
    {
      "cell_type": "markdown",
      "source": [
        "STATS\n",
        "\n",
        "BAJAJ-AUTO:\n",
        "---------------------------------------\n",
        "Total orders: 1567569\n",
        "\n",
        "Total trades: 34622\n",
        "% trades: 2.209%\n",
        "\n",
        "Total market orders: 7330\n",
        "% market orders: 0.468%\n",
        "\n",
        "Total new orders: 276067\n",
        "% new orders: 17.611%\n",
        "\n",
        "Total modified orders: 1053713\n",
        "% modified orders: 67.220%\n",
        "\n",
        "Total deleted orders: 237789\n",
        "% deleted orders: 15.169%\n",
        "\n",
        "Total buy orders: 587582\n",
        "% buy orders: 37.484%\n",
        "\n",
        "Total sell orders: 979987\n",
        "% sell orders: 62.516%\n",
        "\n",
        "---------------------------------------\n",
        "\n",
        "BAJAJFINSV:\n",
        "---------------------------------------\n",
        "Total orders: 4573985\n",
        "\n",
        "Total trades: 72645\n",
        "% trades: 1.588%\n",
        "\n",
        "Total market orders: 17376\n",
        "% market orders: 0.380%\n",
        "\n",
        "Total new orders: 733310\n",
        "% new orders: 16.032%\n",
        "\n",
        "Total modified orders: 3188225\n",
        "% modified orders: 69.703%\n",
        "\n",
        "Total deleted orders: 652450\n",
        "% deleted orders: 14.264%\n",
        "\n",
        "Total buy orders: 2461640\n",
        "% buy orders: 53.818%\n",
        "\n",
        "Total sell orders: 2112345\n",
        "% sell orders: 46.182%\n",
        "\n",
        "---------------------------------------\n",
        "\n",
        "DLF:\n",
        "---------------------------------------\n",
        "Total orders: 1056889\n",
        "\n",
        "Total trades: 100822\n",
        "% trades: 9.540%\n",
        "\n",
        "Total market orders: 24093\n",
        "% market orders: 2.280%\n",
        "\n",
        "Total new orders: 296166\n",
        "% new orders: 28.022%\n",
        "\n",
        "Total modified orders: 568562\n",
        "% modified orders: 53.796%\n",
        "\n",
        "Total deleted orders: 192161\n",
        "% deleted orders: 18.182%\n",
        "\n",
        "Total buy orders: 524394\n",
        "% buy orders: 49.617%\n",
        "\n",
        "Total sell orders: 532495\n",
        "% sell orders: 50.383%\n",
        "\n",
        "---------------------------------------\n",
        "\n",
        "HDFCBANK:\n",
        "---------------------------------------\n",
        "Total orders: 4385594\n",
        "\n",
        "Total trades: 137443\n",
        "% trades: 3.134%\n",
        "\n",
        "Total market orders: 29327\n",
        "% market orders: 0.669%\n",
        "\n",
        "Total new orders: 511075\n",
        "% new orders: 11.653%\n",
        "\n",
        "Total modified orders: 3494090\n",
        "% modified orders: 79.672%\n",
        "\n",
        "Total deleted orders: 380429\n",
        "% deleted orders: 8.675%\n",
        "\n",
        "Total buy orders: 2244772\n",
        "% buy orders: 51.185%\n",
        "\n",
        "Total sell orders: 2140822\n",
        "% sell orders: 48.815%\n",
        "\n",
        "---------------------------------------\n",
        "\n",
        "ICICIBANK:\n",
        "---------------------------------------\n",
        "Total orders: 3660853\n",
        "\n",
        "Total trades: 203783\n",
        "% trades: 5.567%\n",
        "\n",
        "Total market orders: 31766\n",
        "% market orders: 0.868%\n",
        "\n",
        "Total new orders: 608876\n",
        "% new orders: 16.632%\n",
        "\n",
        "Total modified orders: 2615005\n",
        "% modified orders: 71.432%\n",
        "\n",
        "Total deleted orders: 436972\n",
        "% deleted orders: 11.936%\n",
        "\n",
        "Total buy orders: 1960520\n",
        "% buy orders: 53.554%\n",
        "\n",
        "Total sell orders: 1700333\n",
        "% sell orders: 46.446%\n",
        "\n",
        "---------------------------------------\n",
        "\n",
        "INFY:\n",
        "---------------------------------------\n",
        "Total orders: 3740182\n",
        "\n",
        "Total trades: 195330\n",
        "% trades: 5.222%\n",
        "\n",
        "Total market orders: 32508\n",
        "% market orders: 0.869%\n",
        "\n",
        "Total new orders: 513708\n",
        "% new orders: 13.735%\n",
        "\n",
        "Total modified orders: 2891366\n",
        "% modified orders: 77.305%\n",
        "\n",
        "Total deleted orders: 335108\n",
        "% deleted orders: 8.960%\n",
        "\n",
        "Total buy orders: 1676917\n",
        "% buy orders: 44.835%\n",
        "\n",
        "Total sell orders: 2063265\n",
        "% sell orders: 55.165%\n",
        "---------------------------------------\n",
        "\n",
        "JSWSTEEL:\n",
        "---------------------------------------\n",
        "Total orders: 892080\n",
        "\n",
        "Total trades: 49112\n",
        "% trades: 5.505%\n",
        "\n",
        "Total market orders: 11616\n",
        "% market orders: 1.302%\n",
        "\n",
        "Total new orders: 223863\n",
        "% new orders: 25.094%\n",
        "\n",
        "Total modified orders: 495414\n",
        "% modified orders: 55.535%\n",
        "\n",
        "Total deleted orders: 172803\n",
        "% deleted orders: 19.371%\n",
        "\n",
        "Total buy orders: 435159\n",
        "% buy orders: 48.780%\n",
        "\n",
        "Total sell orders: 456921\n",
        "% sell orders: 51.220%\n",
        "\n",
        "---------------------------------------\n",
        "\n",
        "L&TINFRA:\n",
        "---------------------------------------\n",
        "Total orders: 164\n",
        "\n",
        "Total trades: 32\n",
        "% trades: 19.512%\n",
        "\n",
        "Total market orders: 2\n",
        "% market orders: 1.220%\n",
        "\n",
        "Total new orders: 93\n",
        "% new orders: 56.707%\n",
        "\n",
        "Total modified orders: 58\n",
        "% modified orders: 35.366%\n",
        "\n",
        "Total deleted orders: 13\n",
        "% deleted orders: 7.927%\n",
        "\n",
        "Total buy orders: 89\n",
        "% buy orders: 54.268%\n",
        "\n",
        "Total sell orders: 75\n",
        "% sell orders: 45.732%\n",
        "\n",
        "---------------------------------------\n",
        "\n",
        "RELIANCE:\n",
        "---------------------------------------\n",
        "Total orders: 10620653\n",
        "\n",
        "Total trades: 456106\n",
        "% trades: 4.295%\n",
        "\n",
        "Total market orders: 81861\n",
        "% market orders: 0.771%\n",
        "\n",
        "Total new orders: 1386231\n",
        "% new orders: 13.052%\n",
        "\n",
        "Total modified orders: 8252153\n",
        "% modified orders: 77.699%\n",
        "\n",
        "Total deleted orders: 982269\n",
        "% deleted orders: 9.249%\n",
        "\n",
        "Total buy orders: 4766319\n",
        "% buy orders: 44.878%\n",
        "\n",
        "Total sell orders: 5854334\n",
        "% sell orders: 55.122%\n",
        "\n",
        "---------------------------------------\n",
        "\n",
        "SBIN:\n",
        "---------------------------------------\n",
        "Total orders: 2872895\n",
        "\n",
        "Total trades: 215477\n",
        "% trades: 7.500%\n",
        "\n",
        "Total market orders: 50546\n",
        "% market orders: 1.759%\n",
        "\n",
        "Total new orders: 602623\n",
        "% new orders: 20.976%\n",
        "\n",
        "Total modified orders: 1884068\n",
        "% modified orders: 65.581%\n",
        "\n",
        "Total deleted orders: 386204\n",
        "% deleted orders: 13.443%\n",
        "\n",
        "Total buy orders: 1623118\n",
        "% buy orders: 56.498%\n",
        "\n",
        "Total sell orders: 1249777\n",
        "% sell orders: 43.502%\n",
        "\n",
        "---------------------------------------\n",
        "\n",
        "SUNPHARMA:\n",
        "---------------------------------------\n",
        "Total orders: 1242302\n",
        "\n",
        "Total trades: 72355\n",
        "% trades: 5.824%\n",
        "\n",
        "Total market orders: 17044\n",
        "% market orders: 1.372%\n",
        "\n",
        "Total new orders: 266501\n",
        "% new orders: 21.452%\n",
        "\n",
        "Total modified orders: 788856\n",
        "% modified orders: 63.500%\n",
        "\n",
        "Total deleted orders: 186945\n",
        "% deleted orders: 15.048%\n",
        "\n",
        "Total buy orders: 561495\n",
        "% buy orders: 45.198%\n",
        "\n",
        "Total sell orders: 680807\n",
        "% sell orders: 54.802%\n",
        "\n",
        "---------------------------------------\n",
        "\n",
        "TCS:\n",
        "---------------------------------------\n",
        "Total orders: 3370310\n",
        "\n",
        "Total trades: 169490\n",
        "% trades: 5.029%\n",
        "\n",
        "Total market orders: 28497\n",
        "% market orders: 0.846%\n",
        "\n",
        "Total new orders: 530388\n",
        "% new orders: 15.737%\n",
        "\n",
        "Total modified orders: 2450532\n",
        "% modified orders: 72.709%\n",
        "\n",
        "Total deleted orders: 389390\n",
        "% deleted orders: 11.554%\n",
        "\n",
        "Total buy orders: 1428288\n",
        "% buy orders: 42.379%\n",
        "\n",
        "Total sell orders: 1942022\n",
        "% sell orders: 57.621%\n",
        "\n",
        "---------------------------------------\n",
        "\n",
        "TATAMOTORS:\n",
        "---------------------------------------\n",
        "Total orders: 6178843\n",
        "\n",
        "Total trades: 828086\n",
        "% trades: 13.402%\n",
        "\n",
        "Total market orders: 279000\n",
        "% market orders: 4.515%\n",
        "\n",
        "Total new orders: 1638836\n",
        "% new orders: 26.523%\n",
        "\n",
        "Total modified orders: 3740415\n",
        "% modified orders: 60.536%\n",
        "\n",
        "Total deleted orders: 799592\n",
        "% deleted orders: 12.941%\n",
        "\n",
        "Total buy orders: 3148144\n",
        "% buy orders: 50.950%\n",
        "\n",
        "Total sell orders: 3030699\n",
        "% sell orders: 49.050%\n",
        "\n",
        "---------------------------------------"
      ],
      "metadata": {
        "id": "4P-tVwY7Zu3g"
      }
    },
    {
      "cell_type": "code",
      "source": [
        "stats(stock, order_df, trade_df)"
      ],
      "metadata": {
        "colab": {
          "base_uri": "https://localhost:8080/"
        },
        "id": "ycboTZuFSojA",
        "outputId": "ee9b2582-6a2a-413c-cb8e-57f7a1d2f309"
      },
      "execution_count": null,
      "outputs": [
        {
          "output_type": "stream",
          "name": "stdout",
          "text": [
            "RELIANCE:\n",
            "Total orders: 10620653\n",
            "Total market orders: 81861\n",
            "% market orders: 0.008%\n",
            "Total new orders: 1386231\n",
            "% new orders: 0.131\n",
            "Total modified orders: 8252153\n",
            "% modified orders: 0.777%\n",
            "Total deleted orders: 982269\n",
            "% deleted orders: 0.092%\n",
            "Total buy orders: 4766319\n",
            "% buy orders: 0.449%\n",
            "Total sell orders: 5854334\n",
            "% sell orders:       0.551%\n",
            "---------------------------------------\n",
            "\n"
          ]
        }
      ]
    },
    {
      "cell_type": "code",
      "source": [
        "stock = 'tcs'\n",
        "\n",
        "trade_df = trade(stock)"
      ],
      "metadata": {
        "id": "4pZ5cCSE_4g-"
      },
      "execution_count": null,
      "outputs": []
    },
    {
      "cell_type": "code",
      "source": [],
      "metadata": {
        "id": "lgGJnP3K_4jN"
      },
      "execution_count": null,
      "outputs": []
    },
    {
      "cell_type": "code",
      "source": [],
      "metadata": {
        "id": "mtuhIw3h_4lu"
      },
      "execution_count": null,
      "outputs": []
    },
    {
      "cell_type": "code",
      "source": [],
      "metadata": {
        "id": "bWlD7KQz_4oF"
      },
      "execution_count": null,
      "outputs": []
    },
    {
      "cell_type": "code",
      "source": [],
      "metadata": {
        "id": "-hQgt8xu_4ql"
      },
      "execution_count": null,
      "outputs": []
    },
    {
      "cell_type": "code",
      "source": [],
      "metadata": {
        "id": "t4lIq9h9_4s9"
      },
      "execution_count": null,
      "outputs": []
    },
    {
      "cell_type": "code",
      "source": [],
      "metadata": {
        "id": "VhNmM2ZC_4vk"
      },
      "execution_count": null,
      "outputs": []
    },
    {
      "cell_type": "code",
      "source": [],
      "metadata": {
        "id": "MoDi70Ik_4yF"
      },
      "execution_count": null,
      "outputs": []
    },
    {
      "cell_type": "code",
      "source": [],
      "metadata": {
        "id": "-8qZMlOU_40s"
      },
      "execution_count": null,
      "outputs": []
    },
    {
      "cell_type": "code",
      "source": [],
      "metadata": {
        "id": "hl-x8_eg_42-"
      },
      "execution_count": null,
      "outputs": []
    },
    {
      "cell_type": "code",
      "source": [
        "81861/10620653*100 # market orders in total trades"
      ],
      "metadata": {
        "colab": {
          "base_uri": "https://localhost:8080/"
        },
        "id": "PVPfxS4WPJbR",
        "outputId": "62ec18f0-e576-4622-ca19-d3627cfa5c8a"
      },
      "execution_count": null,
      "outputs": [
        {
          "output_type": "execute_result",
          "data": {
            "text/plain": [
              "0.7707718160079234"
            ]
          },
          "metadata": {},
          "execution_count": 17
        }
      ]
    },
    {
      "cell_type": "code",
      "source": [
        "8252153/10620653*100 # orders modified"
      ],
      "metadata": {
        "colab": {
          "base_uri": "https://localhost:8080/"
        },
        "id": "tQ_UgAHeOR4R",
        "outputId": "516e5a66-da0b-4227-c0e4-5bf9517d04d3"
      },
      "execution_count": null,
      "outputs": [
        {
          "output_type": "execute_result",
          "data": {
            "text/plain": [
              "77.69911134466025"
            ]
          },
          "metadata": {},
          "execution_count": 10
        }
      ]
    },
    {
      "cell_type": "code",
      "source": [
        "982269/10620653*100 # orders deleted"
      ],
      "metadata": {
        "id": "orEoN7abOxvB"
      },
      "execution_count": null,
      "outputs": []
    },
    {
      "cell_type": "code",
      "source": [
        "456106/10620653*100 # trade to orders ratio"
      ],
      "metadata": {
        "colab": {
          "base_uri": "https://localhost:8080/"
        },
        "id": "yubs5gziOdgw",
        "outputId": "2524825f-2c31-49dc-93a7-828b112bf184"
      },
      "execution_count": null,
      "outputs": [
        {
          "output_type": "execute_result",
          "data": {
            "text/plain": [
              "4.29451936712366"
            ]
          },
          "metadata": {},
          "execution_count": 14
        }
      ]
    },
    {
      "cell_type": "code",
      "source": [],
      "metadata": {
        "id": "clJD6IJiOwjB"
      },
      "execution_count": null,
      "outputs": []
    },
    {
      "cell_type": "markdown",
      "source": [
        "## Buy"
      ],
      "metadata": {
        "id": "Gx2cG4Qnzi_Q"
      }
    },
    {
      "cell_type": "code",
      "source": [
        "buy = allsides[allsides[:, 0] == 'B'][:, 1:]\n",
        "buy_tf = tf.convert_to_tensor(buy, dtype=tf.int32)\n",
        "\n",
        "buy_train = list()\n",
        "b = 0\n",
        "for i in trading_time:\n",
        "  temp = buy_tf[buy_tf[:, 0]==i][:, 1:]\n",
        "  x = np.zeros((50000, 4))\n",
        "  # print(i) \n",
        "  x[:temp.shape[0]] = standardize_data(temp.numpy())\n",
        "  if i != 915:\n",
        "    b = np.vstack((b, x))\n",
        "    \n",
        "  else:\n",
        "    b = x\n",
        "  buy_train.append(x)\n",
        "b"
      ],
      "metadata": {
        "colab": {
          "base_uri": "https://localhost:8080/"
        },
        "id": "6lv1PM0Ss4hO",
        "outputId": "2e46c07b-4f63-4d92-afac-133541e9f313"
      },
      "execution_count": null,
      "outputs": [
        {
          "output_type": "execute_result",
          "data": {
            "text/plain": [
              "array([[-0.06377079, -0.55164953, -1.45981454, -0.20329746],\n",
              "       [-0.0606409 , -0.64082461, -1.45981454, -0.20329746],\n",
              "       [-0.05255536, -0.47258096, -1.45981454, -0.20329746],\n",
              "       ...,\n",
              "       [ 0.        ,  0.        ,  0.        ,  0.        ],\n",
              "       [ 0.        ,  0.        ,  0.        ,  0.        ],\n",
              "       [ 0.        ,  0.        ,  0.        ,  0.        ]])"
            ]
          },
          "metadata": {},
          "execution_count": 7
        }
      ]
    },
    {
      "cell_type": "markdown",
      "source": [
        "### r"
      ],
      "metadata": {
        "id": "BiJX7FEpzTfC"
      }
    },
    {
      "cell_type": "code",
      "source": [
        "b.reshape(-1, 50000, 4)"
      ],
      "metadata": {
        "colab": {
          "base_uri": "https://localhost:8080/"
        },
        "id": "NKzRo2b4uTaM",
        "outputId": "29f13c75-95b7-4d9b-de3b-4f9161e84d61"
      },
      "execution_count": null,
      "outputs": [
        {
          "output_type": "execute_result",
          "data": {
            "text/plain": [
              "array([[[ 0.17651882, -0.51345483, -2.0278076 , -0.15562812],\n",
              "        [ 0.16347119, -0.51345483, -2.0278076 , -0.15562812],\n",
              "        [ 0.14716164, -0.51345483, -2.0278076 , -0.15562812],\n",
              "        ...,\n",
              "        [ 0.        ,  0.        ,  0.        ,  0.        ],\n",
              "        [ 0.        ,  0.        ,  0.        ,  0.        ],\n",
              "        [ 0.        ,  0.        ,  0.        ,  0.        ]],\n",
              "\n",
              "       [[ 0.10337096,  0.36029564,  0.59228019, -0.1502324 ],\n",
              "        [ 0.13395803, -0.71861854,  0.59228019, -0.1502324 ],\n",
              "        [ 0.11395879, -0.42397531,  0.59228019, -0.1502324 ],\n",
              "        ...,\n",
              "        [ 0.        ,  0.        ,  0.        ,  0.        ],\n",
              "        [ 0.        ,  0.        ,  0.        ,  0.        ],\n",
              "        [ 0.        ,  0.        ,  0.        ,  0.        ]]])"
            ]
          },
          "metadata": {},
          "execution_count": 56
        }
      ]
    },
    {
      "cell_type": "code",
      "source": [
        "c = np.stack((buy_train[0], buy_train[1])).shape\n"
      ],
      "metadata": {
        "colab": {
          "base_uri": "https://localhost:8080/"
        },
        "id": "UCm7ls6bvJkL",
        "outputId": "c420bce1-a97e-4a94-987c-382f4cceaf30"
      },
      "execution_count": null,
      "outputs": [
        {
          "output_type": "execute_result",
          "data": {
            "text/plain": [
              "(2, 50000, 4)"
            ]
          },
          "metadata": {},
          "execution_count": 55
        }
      ]
    },
    {
      "cell_type": "code",
      "source": [
        "buy_train[-1]"
      ],
      "metadata": {
        "colab": {
          "base_uri": "https://localhost:8080/"
        },
        "id": "pYxZQKanv4CR",
        "outputId": "77d43226-9c19-4078-9d96-ca10ddd728b4"
      },
      "execution_count": null,
      "outputs": [
        {
          "output_type": "execute_result",
          "data": {
            "text/plain": [
              "array([[ 0.10337096,  0.36029564,  0.59228019, -0.1502324 ],\n",
              "       [ 0.13395803, -0.71861854,  0.59228019, -0.1502324 ],\n",
              "       [ 0.11395879, -0.42397531,  0.59228019, -0.1502324 ],\n",
              "       ...,\n",
              "       [ 0.        ,  0.        ,  0.        ,  0.        ],\n",
              "       [ 0.        ,  0.        ,  0.        ,  0.        ],\n",
              "       [ 0.        ,  0.        ,  0.        ,  0.        ]])"
            ]
          },
          "metadata": {},
          "execution_count": 57
        }
      ]
    },
    {
      "cell_type": "code",
      "source": [
        "for i in buy_train:\n",
        "  b = np.stack"
      ],
      "metadata": {
        "id": "dJ-UocTis3aL"
      },
      "execution_count": null,
      "outputs": []
    },
    {
      "cell_type": "code",
      "source": [
        "len(buy_train)"
      ],
      "metadata": {
        "colab": {
          "base_uri": "https://localhost:8080/"
        },
        "id": "vsVgMlDvsi29",
        "outputId": "4093fdce-f942-43ed-ed97-7c5930e330f1"
      },
      "execution_count": null,
      "outputs": [
        {
          "output_type": "execute_result",
          "data": {
            "text/plain": [
              "375"
            ]
          },
          "metadata": {},
          "execution_count": 37
        }
      ]
    },
    {
      "cell_type": "code",
      "source": [
        "buy_train = np.asarray(buy_train)\n",
        "buy_train"
      ],
      "metadata": {
        "id": "ovqsiW9us4jr"
      },
      "execution_count": null,
      "outputs": []
    },
    {
      "cell_type": "code",
      "source": [
        "buy_tf[buy_tf[:, 0]==1300][:, 1:]"
      ],
      "metadata": {
        "colab": {
          "base_uri": "https://localhost:8080/"
        },
        "id": "AErk8ZoLlCG0",
        "outputId": "68d48c85-829d-4bd8-a374-9a77bdc75200"
      },
      "execution_count": null,
      "outputs": [
        {
          "output_type": "execute_result",
          "data": {
            "text/plain": [
              "<tf.Tensor: shape=(25002, 4), dtype=int32, numpy=\n",
              "array([[203905,      3,      1,      0],\n",
              "       [203895,   1206,      3,      0],\n",
              "       [203845,   1159,      3,      0],\n",
              "       ...,\n",
              "       [203780,    204,      3,      0],\n",
              "       [203375,      2,      4,      0],\n",
              "       [203780,    204,      1,      0]], dtype=int32)>"
            ]
          },
          "metadata": {},
          "execution_count": 47
        }
      ]
    },
    {
      "cell_type": "code",
      "source": [
        "z = np.zeros((30000, 4)) \n",
        "z = buy_tf[buy_tf[:, 0]==i][:, 1:]\n",
        "z"
      ],
      "metadata": {
        "colab": {
          "base_uri": "https://localhost:8080/"
        },
        "id": "eUqlJS9vk8ke",
        "outputId": "a679711d-0332-4a43-ba88-08af706d1bb8"
      },
      "execution_count": null,
      "outputs": [
        {
          "output_type": "execute_result",
          "data": {
            "text/plain": [
              "<tf.Tensor: shape=(2756, 4), dtype=int32, numpy=\n",
              "array([[205345,    131,      1,      0],\n",
              "       [205345,    141,      1,      0],\n",
              "       [205345,     71,      1,      0],\n",
              "       ...,\n",
              "       [205245,     10,      4,      0],\n",
              "       [     0,     20,      1,      1],\n",
              "       [     0,      1,      1,      1]], dtype=int32)>"
            ]
          },
          "metadata": {},
          "execution_count": 25
        }
      ]
    },
    {
      "cell_type": "code",
      "source": [
        "x = np.zeros((30000, 4)) \n",
        "x[:z.shape[0]] = z"
      ],
      "metadata": {
        "id": "wX6ofrmSqy4r"
      },
      "execution_count": null,
      "outputs": []
    },
    {
      "cell_type": "code",
      "source": [
        "x"
      ],
      "metadata": {
        "colab": {
          "base_uri": "https://localhost:8080/"
        },
        "id": "cBBc_nOjrBfb",
        "outputId": "31cd870b-41d9-4af8-c30a-5b6523a8c976"
      },
      "execution_count": null,
      "outputs": [
        {
          "output_type": "execute_result",
          "data": {
            "text/plain": [
              "array([[205345.,    131.,      1.,      0.],\n",
              "       [205345.,    141.,      1.,      0.],\n",
              "       [205345.,     71.,      1.,      0.],\n",
              "       ...,\n",
              "       [     0.,      0.,      0.,      0.],\n",
              "       [     0.,      0.,      0.,      0.],\n",
              "       [     0.,      0.,      0.,      0.]])"
            ]
          },
          "metadata": {},
          "execution_count": 28
        }
      ]
    },
    {
      "cell_type": "code",
      "source": [
        "np.pad(z.numpy(), 30000-z.shape[0])"
      ],
      "metadata": {
        "id": "H39ab6jxmb5O"
      },
      "execution_count": null,
      "outputs": []
    },
    {
      "cell_type": "code",
      "source": [
        "buy_train[0].ravel().reshape(-1, 4)"
      ],
      "metadata": {
        "colab": {
          "base_uri": "https://localhost:8080/"
        },
        "id": "z4vfEBxe6lSq",
        "outputId": "69a63942-87ae-4065-9a21-1908ea7b85f8"
      },
      "execution_count": null,
      "outputs": [
        {
          "output_type": "execute_result",
          "data": {
            "text/plain": [
              "array([[ 0.17651882, -0.51345483, -2.0278076 , -0.15562812],\n",
              "       [ 0.16347119, -0.51345483, -2.0278076 , -0.15562812],\n",
              "       [ 0.14716164, -0.51345483, -2.0278076 , -0.15562812],\n",
              "       ...,\n",
              "       [ 0.18010692, -0.35890328, -0.31955649, -0.15562812],\n",
              "       [ 0.18010692, -0.34981201, -2.0278076 , -0.15562812],\n",
              "       [ 0.17325691, -0.51042441,  0.53456906, -0.15562812]])"
            ]
          },
          "metadata": {},
          "execution_count": 39
        }
      ]
    },
    {
      "cell_type": "code",
      "source": [
        "buy_tf[buy_tf[:, 0]==1500][:, 1:]"
      ],
      "metadata": {
        "id": "-nT0A8wH5Gx4"
      },
      "execution_count": null,
      "outputs": []
    },
    {
      "cell_type": "code",
      "source": [
        "standardize_data(temp.numpy()).tolist()"
      ],
      "metadata": {
        "colab": {
          "base_uri": "https://localhost:8080/"
        },
        "id": "XeoOHNSO5jM4",
        "outputId": "dc03249d-134a-4528-ad9e-6659e24c7679"
      },
      "execution_count": null,
      "outputs": [
        {
          "output_type": "execute_result",
          "data": {
            "text/plain": [
              "array([[ 0.25780876, -0.38966533, -2.01977826, -0.24160243],\n",
              "       [ 0.25780876, -0.36918983, -2.01977826, -0.24160243],\n",
              "       [ 0.25780876, -0.51251836, -2.01977826, -0.24160243],\n",
              "       ...,\n",
              "       [ 0.25566969, -0.63741893,  0.56809198, -0.24160243],\n",
              "       [-4.13466635, -0.61694343, -2.01977826,  4.13903116],\n",
              "       [-4.13466635, -0.65584689, -2.01977826,  4.13903116]])"
            ]
          },
          "metadata": {},
          "execution_count": 53
        }
      ]
    },
    {
      "cell_type": "code",
      "source": [
        "def data_generator(thislist):\n",
        "  for data in thislist:\n",
        "    yield data"
      ],
      "metadata": {
        "id": "Z-XwPsTc70Cj"
      },
      "execution_count": null,
      "outputs": []
    },
    {
      "cell_type": "code",
      "source": [],
      "metadata": {
        "id": "sbFRRiSe8XmK"
      },
      "execution_count": null,
      "outputs": []
    },
    {
      "cell_type": "code",
      "source": [
        "next(data_generator(buy_train))"
      ],
      "metadata": {
        "colab": {
          "base_uri": "https://localhost:8080/"
        },
        "id": "9sX06oR88FvD",
        "outputId": "65e7460f-52ec-4222-caab-50d033a81139"
      },
      "execution_count": null,
      "outputs": [
        {
          "output_type": "execute_result",
          "data": {
            "text/plain": [
              "array([[ 0.17651882, -0.51345483, -2.0278076 , -0.15562812],\n",
              "       [ 0.16347119, -0.51345483, -2.0278076 , -0.15562812],\n",
              "       [ 0.14716164, -0.51345483, -2.0278076 , -0.15562812],\n",
              "       ...,\n",
              "       [ 0.18010692, -0.35890328, -0.31955649, -0.15562812],\n",
              "       [ 0.18010692, -0.34981201, -2.0278076 , -0.15562812],\n",
              "       [ 0.17325691, -0.51042441,  0.53456906, -0.15562812]])"
            ]
          },
          "metadata": {},
          "execution_count": 61
        }
      ]
    },
    {
      "cell_type": "code",
      "source": [
        "def data_generator():\n",
        "    while True:\n",
        "        length = np.random.randint(2, 10) #Variable length sequences\n",
        "        x_train = np.random.random((1, length, 2)) #batch, seq, features\n",
        "        y_train = np.random.random((1,1)) #batch, score\n",
        "        yield x_train, y_train"
      ],
      "metadata": {
        "id": "dXwpB2DX7Bk5"
      },
      "execution_count": null,
      "outputs": []
    },
    {
      "cell_type": "code",
      "source": [
        "tf.stack([temp, buy_tf[buy_tf[:, 0]==1500][:, 1:]], axis=1)"
      ],
      "metadata": {
        "colab": {
          "base_uri": "https://localhost:8080/",
          "height": 323
        },
        "id": "pXkaCsEC4l35",
        "outputId": "66cf08bb-3b60-4052-8ddb-810b2f5ff52e"
      },
      "execution_count": null,
      "outputs": [
        {
          "output_type": "error",
          "ename": "InvalidArgumentError",
          "evalue": "ignored",
          "traceback": [
            "\u001b[0;31m---------------------------------------------------------------------------\u001b[0m",
            "\u001b[0;31mInvalidArgumentError\u001b[0m                      Traceback (most recent call last)",
            "\u001b[0;32m<ipython-input-49-9557f33f2f3c>\u001b[0m in \u001b[0;36m<module>\u001b[0;34m\u001b[0m\n\u001b[0;32m----> 1\u001b[0;31m \u001b[0mtf\u001b[0m\u001b[0;34m.\u001b[0m\u001b[0mstack\u001b[0m\u001b[0;34m(\u001b[0m\u001b[0;34m[\u001b[0m\u001b[0mtemp\u001b[0m\u001b[0;34m,\u001b[0m \u001b[0mbuy_tf\u001b[0m\u001b[0;34m[\u001b[0m\u001b[0mbuy_tf\u001b[0m\u001b[0;34m[\u001b[0m\u001b[0;34m:\u001b[0m\u001b[0;34m,\u001b[0m \u001b[0;36m0\u001b[0m\u001b[0;34m]\u001b[0m\u001b[0;34m==\u001b[0m\u001b[0;36m1500\u001b[0m\u001b[0;34m]\u001b[0m\u001b[0;34m[\u001b[0m\u001b[0;34m:\u001b[0m\u001b[0;34m,\u001b[0m \u001b[0;36m1\u001b[0m\u001b[0;34m:\u001b[0m\u001b[0;34m]\u001b[0m\u001b[0;34m]\u001b[0m\u001b[0;34m,\u001b[0m \u001b[0maxis\u001b[0m\u001b[0;34m=\u001b[0m\u001b[0;36m1\u001b[0m\u001b[0;34m)\u001b[0m\u001b[0;34m\u001b[0m\u001b[0;34m\u001b[0m\u001b[0m\n\u001b[0m",
            "\u001b[0;32m/usr/local/lib/python3.8/dist-packages/tensorflow/python/util/traceback_utils.py\u001b[0m in \u001b[0;36merror_handler\u001b[0;34m(*args, **kwargs)\u001b[0m\n\u001b[1;32m    151\u001b[0m     \u001b[0;32mexcept\u001b[0m \u001b[0mException\u001b[0m \u001b[0;32mas\u001b[0m \u001b[0me\u001b[0m\u001b[0;34m:\u001b[0m\u001b[0;34m\u001b[0m\u001b[0;34m\u001b[0m\u001b[0m\n\u001b[1;32m    152\u001b[0m       \u001b[0mfiltered_tb\u001b[0m \u001b[0;34m=\u001b[0m \u001b[0m_process_traceback_frames\u001b[0m\u001b[0;34m(\u001b[0m\u001b[0me\u001b[0m\u001b[0;34m.\u001b[0m\u001b[0m__traceback__\u001b[0m\u001b[0;34m)\u001b[0m\u001b[0;34m\u001b[0m\u001b[0;34m\u001b[0m\u001b[0m\n\u001b[0;32m--> 153\u001b[0;31m       \u001b[0;32mraise\u001b[0m \u001b[0me\u001b[0m\u001b[0;34m.\u001b[0m\u001b[0mwith_traceback\u001b[0m\u001b[0;34m(\u001b[0m\u001b[0mfiltered_tb\u001b[0m\u001b[0;34m)\u001b[0m \u001b[0;32mfrom\u001b[0m \u001b[0;32mNone\u001b[0m\u001b[0;34m\u001b[0m\u001b[0;34m\u001b[0m\u001b[0m\n\u001b[0m\u001b[1;32m    154\u001b[0m     \u001b[0;32mfinally\u001b[0m\u001b[0;34m:\u001b[0m\u001b[0;34m\u001b[0m\u001b[0;34m\u001b[0m\u001b[0m\n\u001b[1;32m    155\u001b[0m       \u001b[0;32mdel\u001b[0m \u001b[0mfiltered_tb\u001b[0m\u001b[0;34m\u001b[0m\u001b[0;34m\u001b[0m\u001b[0m\n",
            "\u001b[0;32m/usr/local/lib/python3.8/dist-packages/tensorflow/python/framework/ops.py\u001b[0m in \u001b[0;36mraise_from_not_ok_status\u001b[0;34m(e, name)\u001b[0m\n\u001b[1;32m   7162\u001b[0m \u001b[0;32mdef\u001b[0m \u001b[0mraise_from_not_ok_status\u001b[0m\u001b[0;34m(\u001b[0m\u001b[0me\u001b[0m\u001b[0;34m,\u001b[0m \u001b[0mname\u001b[0m\u001b[0;34m)\u001b[0m\u001b[0;34m:\u001b[0m\u001b[0;34m\u001b[0m\u001b[0;34m\u001b[0m\u001b[0m\n\u001b[1;32m   7163\u001b[0m   \u001b[0me\u001b[0m\u001b[0;34m.\u001b[0m\u001b[0mmessage\u001b[0m \u001b[0;34m+=\u001b[0m \u001b[0;34m(\u001b[0m\u001b[0;34m\" name: \"\u001b[0m \u001b[0;34m+\u001b[0m \u001b[0mname\u001b[0m \u001b[0;32mif\u001b[0m \u001b[0mname\u001b[0m \u001b[0;32mis\u001b[0m \u001b[0;32mnot\u001b[0m \u001b[0;32mNone\u001b[0m \u001b[0;32melse\u001b[0m \u001b[0;34m\"\"\u001b[0m\u001b[0;34m)\u001b[0m\u001b[0;34m\u001b[0m\u001b[0;34m\u001b[0m\u001b[0m\n\u001b[0;32m-> 7164\u001b[0;31m   \u001b[0;32mraise\u001b[0m \u001b[0mcore\u001b[0m\u001b[0;34m.\u001b[0m\u001b[0m_status_to_exception\u001b[0m\u001b[0;34m(\u001b[0m\u001b[0me\u001b[0m\u001b[0;34m)\u001b[0m \u001b[0;32mfrom\u001b[0m \u001b[0;32mNone\u001b[0m  \u001b[0;31m# pylint: disable=protected-access\u001b[0m\u001b[0;34m\u001b[0m\u001b[0;34m\u001b[0m\u001b[0m\n\u001b[0m\u001b[1;32m   7165\u001b[0m \u001b[0;34m\u001b[0m\u001b[0m\n\u001b[1;32m   7166\u001b[0m \u001b[0;34m\u001b[0m\u001b[0m\n",
            "\u001b[0;31mInvalidArgumentError\u001b[0m: Shapes of all inputs must match: values[0].shape = [2756,4] != values[1].shape = [13095,4] [Op:Pack] name: stack"
          ]
        }
      ]
    },
    {
      "cell_type": "code",
      "source": [
        "temp"
      ],
      "metadata": {
        "colab": {
          "base_uri": "https://localhost:8080/"
        },
        "id": "lsaVD6W-4OyR",
        "outputId": "fb642718-2390-4c3b-c368-0bbab668292b"
      },
      "execution_count": null,
      "outputs": [
        {
          "output_type": "execute_result",
          "data": {
            "text/plain": [
              "<tf.Tensor: shape=(2756, 4), dtype=int32, numpy=\n",
              "array([[205345,    131,      1,      0],\n",
              "       [205345,    141,      1,      0],\n",
              "       [205345,     71,      1,      0],\n",
              "       ...,\n",
              "       [205245,     10,      4,      0],\n",
              "       [     0,     20,      1,      1],\n",
              "       [     0,      1,      1,      1]], dtype=int32)>"
            ]
          },
          "metadata": {},
          "execution_count": 46
        }
      ]
    },
    {
      "cell_type": "code",
      "source": [
        "a = [0]\n",
        "b = [0, 1, 1]\n",
        "c = [0, 1] \n",
        "np.array([a, b, c])"
      ],
      "metadata": {
        "colab": {
          "base_uri": "https://localhost:8080/"
        },
        "id": "DEMRGKHH3bEg",
        "outputId": "3ffb8aec-91e9-4de6-ca73-d8967faada71"
      },
      "execution_count": null,
      "outputs": [
        {
          "output_type": "stream",
          "name": "stderr",
          "text": [
            "<ipython-input-41-136b13c9110d>:4: VisibleDeprecationWarning: Creating an ndarray from ragged nested sequences (which is a list-or-tuple of lists-or-tuples-or ndarrays with different lengths or shapes) is deprecated. If you meant to do this, you must specify 'dtype=object' when creating the ndarray.\n",
            "  np.array([a, b, c])\n"
          ]
        },
        {
          "output_type": "execute_result",
          "data": {
            "text/plain": [
              "array([list([0]), list([0, 1, 1]), list([0, 1])], dtype=object)"
            ]
          },
          "metadata": {},
          "execution_count": 41
        }
      ]
    },
    {
      "cell_type": "code",
      "source": [
        "buy_train.ravel()"
      ],
      "metadata": {
        "id": "2Pg_Qejh2lbz"
      },
      "execution_count": null,
      "outputs": []
    },
    {
      "cell_type": "code",
      "source": [
        "list(map(lambda x: x.shape[0], buy_train))"
      ],
      "metadata": {
        "id": "Ry_J82Qbs4mV"
      },
      "execution_count": null,
      "outputs": []
    },
    {
      "cell_type": "markdown",
      "source": [
        "## Sell"
      ],
      "metadata": {
        "id": "EafswJ0VzZoj"
      }
    },
    {
      "cell_type": "code",
      "source": [
        "sell = allsides[allsides[:, 0] == 'S'][:, 1:]\n",
        "sell_tf = tf.convert_to_tensor(sell, dtype=tf.int32)\n",
        "\n",
        "sell_train = list()\n",
        "s = 0\n",
        "for i in trading_time:\n",
        "  temp = sell_tf[sell_tf[:, 0]==i][:, 1:]\n",
        "  x = np.zeros((50000, 4))\n",
        "  # print(i) \n",
        "  x[:temp.shape[0]] = standardize_data(temp.numpy())\n",
        "  if i != 915:\n",
        "    s = np.vstack((s, x))\n",
        "  else:\n",
        "    s = x\n",
        "  sell_train.append(x)\n",
        "s"
      ],
      "metadata": {
        "colab": {
          "base_uri": "https://localhost:8080/"
        },
        "id": "6D3wcgBRwYa5",
        "outputId": "82b38d02-513f-44a3-a386-a673a4c7c682"
      },
      "execution_count": null,
      "outputs": [
        {
          "output_type": "execute_result",
          "data": {
            "text/plain": [
              "array([[-0.04892266, -0.99540861, -1.40304264, -0.11168795],\n",
              "       [-0.05089866, -1.11888468, -1.40304264, -0.11168795],\n",
              "       [-0.050734  , -1.11888468, -1.40304264, -0.11168795],\n",
              "       ...,\n",
              "       [ 0.        ,  0.        ,  0.        ,  0.        ],\n",
              "       [ 0.        ,  0.        ,  0.        ,  0.        ],\n",
              "       [ 0.        ,  0.        ,  0.        ,  0.        ]])"
            ]
          },
          "metadata": {},
          "execution_count": 8
        }
      ]
    },
    {
      "cell_type": "markdown",
      "source": [
        "## r2"
      ],
      "metadata": {
        "id": "S2VTH62WGQAJ"
      }
    },
    {
      "cell_type": "code",
      "source": [
        "s.reshape(-1, 120000, 4)"
      ],
      "metadata": {
        "id": "fvtrmjpixq_a"
      },
      "execution_count": null,
      "outputs": []
    },
    {
      "cell_type": "code",
      "source": [
        "sell_train = np.asarray(sell_train)\n",
        "sell_train"
      ],
      "metadata": {
        "id": "IN1yZZqytVvW"
      },
      "execution_count": null,
      "outputs": []
    },
    {
      "cell_type": "code",
      "source": [
        "# sell_train = list()\n",
        "# for i in trading_time:\n",
        "#   temp = sell_tf[sell_tf[:, 0]==i][:, 1:]\n",
        "#   sell_train.append(standardize_data(temp.numpy()))\n",
        "# sell_train"
      ],
      "metadata": {
        "id": "VgEI53c2tVsk"
      },
      "execution_count": null,
      "outputs": []
    },
    {
      "cell_type": "code",
      "source": [
        "list(map(lambda x: x.shape[0], sell_train))"
      ],
      "metadata": {
        "id": "oJyVmq3ztVx_"
      },
      "execution_count": null,
      "outputs": []
    },
    {
      "cell_type": "markdown",
      "source": [
        "# trade data"
      ],
      "metadata": {
        "id": "-v0m8fhurZbr"
      }
    },
    {
      "cell_type": "code",
      "source": [
        "trade_file = f'/content/drive/MyDrive/Colab Notebooks/FA/HIGHFREQ-DATA/trade_data/{stock.upper()}.trade'\n",
        "trade_df = pd.read_csv(trade_file, sep='|', header=None)\n",
        "trade_df.columns =['record', 'segment', 'trade_no', \n",
        "                    'trade_time', 'series', 'trade_price', \n",
        "                    'trade_qty', 'buy_order_no', 'buy_algo', \n",
        "                    'client', 'sell_order_no', 'sell_algo']\n",
        "jiffy = 65536\n",
        "ist = 330*60 # this is to be added in local machine (5:30 = 330*60 sec)\n",
        "trade_df['time'] = trade_df['trade_time'].apply(lambda x: datetime.fromtimestamp(x/jiffy))#.strftime('%Y-%m-%d %H:%M:%S'))\n",
        "# trade_df['min'] = trade_df['trade_time'].apply(lambda x: datetime.fromtimestamp(x/jiffy-ist).strftime('%H:%M:%S'))\n",
        "# trade_df['sec'] = pd.to_datetime(trade_df['time']).dt.strftime('%H%M%S').astype('int')\n",
        "trade_df['trade_price'] = trade_df['trade_price']/100 \n",
        "trade_df['min'] = pd.to_datetime(trade_df['time']).dt.strftime('%H%M').astype('int')\n",
        "trade_df['price_*_qty'] = trade_df['trade_qty'] * trade_df['trade_price']\n",
        "\n",
        "\n",
        "timeframe = 'min'\n",
        "trade_np = trade_df[[timeframe, 'price_*_qty', 'trade_qty']].values\n",
        "rows, row_idx = np.unique(trade_np[:, 0], return_index=True)\n",
        "wpvtt = np.zeros((rows.shape[0], 4), dtype=np.float32)\n",
        "for i, (r, id1, id2) in enumerate(zip(rows, row_idx, row_idx[1:])):\n",
        "    wpvtt[i, 0] = r\n",
        "    wpvtt[i, 1] = trade_np[id1:id2, 1:2].T.sum()/trade_np[id1:id2, 2:].T.sum()\n",
        "    wpvtt[i, 2] = trade_np[id1:id2, 2:].T.sum()\n",
        "    wpvtt[i, 3] = trade_np[id1:id2, 2:].shape[0]\n",
        "\n",
        "temp = trade_df.groupby(timeframe).get_group(trade_df[timeframe].unique()[-1])[['trade_qty', 'price_*_qty']].sum()\n",
        "wpvtt[-1, 0] = trade_df[timeframe].unique()[-1]\n",
        "wpvtt[-1, 1] = temp[1]/temp[0]\n",
        "wpvtt[-1, 2] = temp[0]\n",
        "wpvtt[-1, 3] = trade_df.groupby(timeframe).get_group(trade_df[timeframe].unique()[-1])[['trade_qty', 'price_*_qty']].shape[0]\n",
        "wpvtt\n",
        "\n",
        "\n",
        "train = pd.DataFrame(wpvtt)\n",
        "train[4] = train[1].pct_change()\n",
        "train.dropna(inplace=True)\n",
        "# (train[4] == 0).sum()\n",
        "train['ch'] = 0\n",
        "train['ch'][train[4]>0] = 1\n",
        "# train['ch'][train[4]<0] = -1\n",
        "train['ch']\n",
        "\n",
        "t = train[[0, 'ch']].dropna()\n",
        "trade_train = t['ch'][t[0]<1541][1:].values"
      ],
      "metadata": {
        "id": "0UyhDthgrb0T",
        "colab": {
          "base_uri": "https://localhost:8080/"
        },
        "outputId": "2c48b87a-aedb-484e-a724-acbb313dbf61"
      },
      "execution_count": null,
      "outputs": [
        {
          "output_type": "stream",
          "name": "stderr",
          "text": [
            "<ipython-input-4-48406b84b9e8>:40: SettingWithCopyWarning: \n",
            "A value is trying to be set on a copy of a slice from a DataFrame\n",
            "\n",
            "See the caveats in the documentation: https://pandas.pydata.org/pandas-docs/stable/user_guide/indexing.html#returning-a-view-versus-a-copy\n",
            "  train['ch'][train[4]>0] = 1\n"
          ]
        }
      ]
    },
    {
      "cell_type": "code",
      "source": [
        "wpvtt"
      ],
      "metadata": {
        "colab": {
          "base_uri": "https://localhost:8080/"
        },
        "id": "U055yTiTvs_a",
        "outputId": "322828f3-3f64-42c9-a333-1c076b090235"
      },
      "execution_count": null,
      "outputs": [
        {
          "output_type": "execute_result",
          "data": {
            "text/plain": [
              "array([[  907.    ,  3270.    ,  8979.    ,   331.    ],\n",
              "       [  915.    ,  3281.2898, 78999.    ,  2215.    ],\n",
              "       [  916.    ,  3280.2935, 35982.    ,  1145.    ],\n",
              "       ...,\n",
              "       [ 1548.    ,  3308.8   ,    10.    ,     1.    ],\n",
              "       [ 1556.    ,  3308.8   ,    23.    ,     2.    ],\n",
              "       [ 1558.    ,  3308.8   ,     3.    ,     1.    ]], dtype=float32)"
            ]
          },
          "metadata": {},
          "execution_count": 5
        }
      ]
    },
    {
      "cell_type": "code",
      "source": [
        "import matplotlib.pyplot as plt\n",
        "\n",
        "plt.figure(figsize=(8,8), dpi=150)\n",
        "plt.plot(wpvtt[:, 1], label='TCS')\n",
        "plt.title('Price calculated from trade data')\n",
        "plt.xlabel('Sample Number')\n",
        "plt.ylabel('Price')\n",
        "plt.legend()\n",
        "plt.show()"
      ],
      "metadata": {
        "colab": {
          "base_uri": "https://localhost:8080/",
          "height": 1000
        },
        "id": "TMEjrhp-ATc9",
        "outputId": "8a49a922-b969-4a8a-d12d-7a116b41e8d7"
      },
      "execution_count": null,
      "outputs": [
        {
          "output_type": "display_data",
          "data": {
            "text/plain": [
              "<Figure size 1200x1200 with 1 Axes>"
            ],
            "image/png": "[encoded data removed]"
          },
          "metadata": {
            "needs_background": "light"
          }
        }
      ]
    },
    {
      "cell_type": "code",
      "source": [
        "trade_df.shape[0]"
      ],
      "metadata": {
        "colab": {
          "base_uri": "https://localhost:8080/"
        },
        "id": "ZaJCbsTUOgFA",
        "outputId": "e404de68-e821-4354-a8a9-cfa233f0355f"
      },
      "execution_count": null,
      "outputs": [
        {
          "output_type": "execute_result",
          "data": {
            "text/plain": [
              "456106"
            ]
          },
          "metadata": {},
          "execution_count": 13
        }
      ]
    },
    {
      "cell_type": "code",
      "source": [
        "trade_train = list()\n",
        "for i in trading_time:\n",
        "  trade_train.append(wpvtt[wpvtt[:, 0] == i][:, 1][0])\n",
        "# trade_train "
      ],
      "metadata": {
        "id": "r9-wYyTHt8WD"
      },
      "execution_count": null,
      "outputs": []
    },
    {
      "cell_type": "code",
      "source": [
        "trade_train = np.array(trade_train)"
      ],
      "metadata": {
        "id": "XAATReXKt8yW"
      },
      "execution_count": null,
      "outputs": []
    },
    {
      "cell_type": "markdown",
      "source": [
        "## r3"
      ],
      "metadata": {
        "id": "ncp2fV1bGl21"
      }
    },
    {
      "cell_type": "code",
      "source": [
        "t1 = trade_df.groupby('min').get_group(917)\n",
        "t1['price_*_qty'].sum()/t1['trade_qty'].sum()"
      ],
      "metadata": {
        "colab": {
          "base_uri": "https://localhost:8080/"
        },
        "id": "ZTWpsXc4JNCs",
        "outputId": "972ba705-f4be-4277-e8d3-ca690fc764f6"
      },
      "execution_count": null,
      "outputs": [
        {
          "output_type": "execute_result",
          "data": {
            "text/plain": [
              "299.01177289907145"
            ]
          },
          "metadata": {},
          "execution_count": 13
        }
      ]
    },
    {
      "cell_type": "code",
      "source": [
        "for i in wpvtt:\n",
        "  print(i[0], i[1])"
      ],
      "metadata": {
        "id": "UKDG7HPVKXZV"
      },
      "execution_count": null,
      "outputs": []
    },
    {
      "cell_type": "code",
      "source": [],
      "metadata": {
        "id": "9-aDt25iLWlV"
      },
      "execution_count": null,
      "outputs": []
    },
    {
      "cell_type": "code",
      "source": [
        "trade_train.reshape(375, 1, 1)"
      ],
      "metadata": {
        "id": "64aLrFaI1mqH"
      },
      "execution_count": null,
      "outputs": []
    },
    {
      "cell_type": "markdown",
      "source": [
        "# model"
      ],
      "metadata": {
        "id": "3OMcZ74hrcMD"
      }
    },
    {
      "cell_type": "code",
      "source": [
        "import tensorflow as tf\n",
        "from tensorflow import keras\n",
        "from keras import Model, Input\n",
        "from keras.models import Sequential\n",
        "from keras.layers import Dense, Dropout, LSTM, Flatten, Reshape, TimeDistributed, \\\n",
        "Conv2D, MaxPooling2D, Conv1D, MaxPooling1D, concatenate\n",
        "from tensorflow.keras.optimizers import Adam"
      ],
      "metadata": {
        "id": "2e4dWGXWrdkF"
      },
      "execution_count": null,
      "outputs": []
    },
    {
      "cell_type": "markdown",
      "source": [
        "## Price Prediction"
      ],
      "metadata": {
        "id": "KnrBxkaKNc_N"
      }
    },
    {
      "cell_type": "code",
      "source": [
        "#--------------- in this one we predict directly the prices------------------ \n",
        "inputA = Input(shape=(50000, 4), name='buy')\n",
        "inputB = Input(shape=(50000, 4), name='sell')\n",
        "\n",
        "buy = Conv1D(64, 3, activation=\"relu\")(inputA)\n",
        "buy = MaxPooling1D(pool_size=2)(buy)\n",
        "buy = Conv1D(64, 3, activation=\"relu\")(buy)\n",
        "buy = MaxPooling1D(pool_size=2)(buy)\n",
        "buy = Conv1D(64, 3, activation=\"relu\")(buy)\n",
        "buy = MaxPooling1D(pool_size=2)(buy)\n",
        "buy = Model(inputs=inputA, outputs=buy)\n",
        "\n",
        "sell = Conv1D(64, 3, activation=\"relu\")(inputB)\n",
        "sell = MaxPooling1D(pool_size=2)(sell)\n",
        "sell = Conv1D(64, 3, activation=\"relu\")(sell)\n",
        "sell = MaxPooling1D(pool_size=2)(sell)\n",
        "sell = Conv1D(64, 3, activation=\"relu\")(sell)\n",
        "sell = MaxPooling1D(pool_size=2)(sell)\n",
        "sell = Model(inputs=inputB, outputs=sell)\n",
        "\n",
        "combined = concatenate([buy.output, sell.output])\n",
        "\n",
        "final = LSTM(128, return_sequences=True)(combined)\n",
        "final = LSTM(128, return_sequences=True)(final)\n",
        "final = LSTM(128, return_sequences=False)(final)\n",
        "final = Dense(128, activation=tf.keras.activations.tanh)(final)\n",
        "# final = Dense(128, activation=\"relu\")(final)\n",
        "final = Dense(128, activation=tf.keras.activations.tanh)(final)\n",
        "final = Dense(128, activation=tf.keras.activations.tanh)(final)\n",
        "final = Dense(1, name='final')(final)\n",
        "\n",
        "model = Model(inputs=[buy.input, sell.input], outputs=final)"
      ],
      "metadata": {
        "id": "omwPNMMquijz"
      },
      "execution_count": null,
      "outputs": []
    },
    {
      "cell_type": "code",
      "source": [
        "model.summary()"
      ],
      "metadata": {
        "colab": {
          "base_uri": "https://localhost:8080/"
        },
        "id": "O78JZuYuuKm2",
        "outputId": "120f6568-dcd8-4984-833d-b38547ad2e6e"
      },
      "execution_count": null,
      "outputs": [
        {
          "output_type": "stream",
          "name": "stdout",
          "text": [
            "Model: \"model_2\"\n",
            "__________________________________________________________________________________________________\n",
            " Layer (type)                   Output Shape         Param #     Connected to                     \n",
            "==================================================================================================\n",
            " buy (InputLayer)               [(None, 50000, 4)]   0           []                               \n",
            "                                                                                                  \n",
            " sell (InputLayer)              [(None, 50000, 4)]   0           []                               \n",
            "                                                                                                  \n",
            " conv1d (Conv1D)                (None, 49998, 64)    832         ['buy[0][0]']                    \n",
            "                                                                                                  \n",
            " conv1d_3 (Conv1D)              (None, 49998, 64)    832         ['sell[0][0]']                   \n",
            "                                                                                                  \n",
            " max_pooling1d (MaxPooling1D)   (None, 24999, 64)    0           ['conv1d[0][0]']                 \n",
            "                                                                                                  \n",
            " max_pooling1d_3 (MaxPooling1D)  (None, 24999, 64)   0           ['conv1d_3[0][0]']               \n",
            "                                                                                                  \n",
            " conv1d_1 (Conv1D)              (None, 24997, 64)    12352       ['max_pooling1d[0][0]']          \n",
            "                                                                                                  \n",
            " conv1d_4 (Conv1D)              (None, 24997, 64)    12352       ['max_pooling1d_3[0][0]']        \n",
            "                                                                                                  \n",
            " max_pooling1d_1 (MaxPooling1D)  (None, 12498, 64)   0           ['conv1d_1[0][0]']               \n",
            "                                                                                                  \n",
            " max_pooling1d_4 (MaxPooling1D)  (None, 12498, 64)   0           ['conv1d_4[0][0]']               \n",
            "                                                                                                  \n",
            " conv1d_2 (Conv1D)              (None, 12496, 64)    12352       ['max_pooling1d_1[0][0]']        \n",
            "                                                                                                  \n",
            " conv1d_5 (Conv1D)              (None, 12496, 64)    12352       ['max_pooling1d_4[0][0]']        \n",
            "                                                                                                  \n",
            " max_pooling1d_2 (MaxPooling1D)  (None, 6248, 64)    0           ['conv1d_2[0][0]']               \n",
            "                                                                                                  \n",
            " max_pooling1d_5 (MaxPooling1D)  (None, 6248, 64)    0           ['conv1d_5[0][0]']               \n",
            "                                                                                                  \n",
            " concatenate (Concatenate)      (None, 6248, 128)    0           ['max_pooling1d_2[0][0]',        \n",
            "                                                                  'max_pooling1d_5[0][0]']        \n",
            "                                                                                                  \n",
            " lstm (LSTM)                    (None, 6248, 128)    131584      ['concatenate[0][0]']            \n",
            "                                                                                                  \n",
            " lstm_1 (LSTM)                  (None, 6248, 128)    131584      ['lstm[0][0]']                   \n",
            "                                                                                                  \n",
            " lstm_2 (LSTM)                  (None, 128)          131584      ['lstm_1[0][0]']                 \n",
            "                                                                                                  \n",
            " dense (Dense)                  (None, 128)          16512       ['lstm_2[0][0]']                 \n",
            "                                                                                                  \n",
            " dense_1 (Dense)                (None, 128)          16512       ['dense[0][0]']                  \n",
            "                                                                                                  \n",
            " dense_2 (Dense)                (None, 128)          16512       ['dense_1[0][0]']                \n",
            "                                                                                                  \n",
            " final (Dense)                  (None, 1)            129         ['dense_2[0][0]']                \n",
            "                                                                                                  \n",
            "==================================================================================================\n",
            "Total params: 495,489\n",
            "Trainable params: 495,489\n",
            "Non-trainable params: 0\n",
            "__________________________________________________________________________________________________\n"
          ]
        }
      ]
    },
    {
      "cell_type": "code",
      "source": [
        "keras.utils.plot_model(model, \"multi_input_and_output_model.png\", show_shapes=True)"
      ],
      "metadata": {
        "colab": {
          "base_uri": "https://localhost:8080/",
          "height": 1000
        },
        "id": "Q4d_8PQluKqG",
        "outputId": "85a4e36f-fa6a-4dca-f223-91aa88823ef3"
      },
      "execution_count": null,
      "outputs": [
        {
          "output_type": "execute_result",
          "data": {
            "image/png": "[encoded data removed]",
            "text/plain": [
              "<IPython.core.display.Image object>"
            ]
          },
          "metadata": {},
          "execution_count": 45
        }
      ]
    },
    {
      "cell_type": "code",
      "source": [
        "opt = Adam(learning_rate=1e-3, decay=1e-3 / 200)\n",
        "# model.compile(loss=\"mean_absolute_percentage_error\", optimizer=opt)\n",
        "model.compile(loss=\"mse\", optimizer=opt)"
      ],
      "metadata": {
        "id": "-fJfXWzW1EOY"
      },
      "execution_count": null,
      "outputs": []
    },
    {
      "cell_type": "code",
      "source": [
        "# history = model.fit(x={\"buy\": b.reshape(-1, 50000, 4), \"sell\": s.reshape(-1, 50000, 4)}, y={\"final\": trade_train}, epochs=10)\n",
        "history = model.fit(x=[b.reshape(-1, 50000, 4), s.reshape(-1, 50000, 4)], y=trade_train, epochs=10)"
      ],
      "metadata": {
        "colab": {
          "base_uri": "https://localhost:8080/"
        },
        "id": "y-co6pGKuKud",
        "outputId": "c776e35e-b0a8-47cd-b2cf-b201a0fa1f4c"
      },
      "execution_count": null,
      "outputs": [
        {
          "output_type": "stream",
          "name": "stdout",
          "text": [
            "Epoch 1/10\n",
            "12/12 [==============================] - 16s 982ms/step - loss: 0.2032\n",
            "Epoch 2/10\n",
            "12/12 [==============================] - 12s 991ms/step - loss: 0.2065\n",
            "Epoch 3/10\n",
            "12/12 [==============================] - 12s 984ms/step - loss: 0.2012\n",
            "Epoch 4/10\n",
            "12/12 [==============================] - 12s 990ms/step - loss: 0.1958\n",
            "Epoch 5/10\n",
            "12/12 [==============================] - 13s 1s/step - loss: 0.1979\n",
            "Epoch 6/10\n",
            "12/12 [==============================] - 12s 992ms/step - loss: 0.1944\n",
            "Epoch 7/10\n",
            "12/12 [==============================] - 12s 986ms/step - loss: 0.1945\n",
            "Epoch 8/10\n",
            "12/12 [==============================] - 12s 985ms/step - loss: 0.1947\n",
            "Epoch 9/10\n",
            "12/12 [==============================] - 12s 984ms/step - loss: 0.1954\n",
            "Epoch 10/10\n",
            "12/12 [==============================] - 12s 978ms/step - loss: 0.1943\n"
          ]
        }
      ]
    },
    {
      "cell_type": "code",
      "source": [
        "b.reshape(-1, 50000, 4)[0].reshape(1, 50000, 4)"
      ],
      "metadata": {
        "colab": {
          "base_uri": "https://localhost:8080/"
        },
        "id": "Igz79nlaK374",
        "outputId": "27c61100-5688-42de-8d4c-4f36aa0357b3"
      },
      "execution_count": null,
      "outputs": [
        {
          "output_type": "execute_result",
          "data": {
            "text/plain": [
              "(50000, 4)"
            ]
          },
          "metadata": {},
          "execution_count": 23
        }
      ]
    },
    {
      "cell_type": "code",
      "source": [
        "model.predict({'buy':b.reshape(-1, 50000, 4)[0].reshape(1, 50000, 4), 'sell':s.reshape(-1, 50000, 4)[0].reshape(1, 50000, 4)})"
      ],
      "metadata": {
        "colab": {
          "base_uri": "https://localhost:8080/"
        },
        "id": "zEZPSrdlKtZR",
        "outputId": "d402496a-dd33-4956-a73b-f101a049a415"
      },
      "execution_count": null,
      "outputs": [
        {
          "output_type": "stream",
          "name": "stdout",
          "text": [
            "1/1 [==============================] - 1s 1s/step\n"
          ]
        },
        {
          "output_type": "execute_result",
          "data": {
            "text/plain": [
              "array([[30.148903]], dtype=float32)"
            ]
          },
          "metadata": {},
          "execution_count": 22
        }
      ]
    },
    {
      "cell_type": "code",
      "source": [
        "model.save('j.h5')"
      ],
      "metadata": {
        "id": "3EuvPobw6kCz"
      },
      "execution_count": null,
      "outputs": []
    },
    {
      "cell_type": "code",
      "source": [
        "tf.convert_to_tensor(buy_train[0])"
      ],
      "metadata": {
        "colab": {
          "base_uri": "https://localhost:8080/"
        },
        "id": "DNEI02Pm17So",
        "outputId": "af358b92-9b17-472a-8ebe-45ce2eb0401b"
      },
      "execution_count": null,
      "outputs": [
        {
          "output_type": "execute_result",
          "data": {
            "text/plain": [
              "<tf.Tensor: shape=(15858, 4), dtype=float64, numpy=\n",
              "array([[ 0.17651882, -0.51345483, -2.0278076 , -0.15562812],\n",
              "       [ 0.16347119, -0.51345483, -2.0278076 , -0.15562812],\n",
              "       [ 0.14716164, -0.51345483, -2.0278076 , -0.15562812],\n",
              "       ...,\n",
              "       [ 0.18010692, -0.35890328, -0.31955649, -0.15562812],\n",
              "       [ 0.18010692, -0.34981201, -2.0278076 , -0.15562812],\n",
              "       [ 0.17325691, -0.51042441,  0.53456906, -0.15562812]])>"
            ]
          },
          "metadata": {},
          "execution_count": 66
        }
      ]
    },
    {
      "cell_type": "markdown",
      "source": [
        "## Change Prediction"
      ],
      "metadata": {
        "id": "GWppsaHwNiR1"
      }
    },
    {
      "cell_type": "code",
      "source": [
        "#--------------- in this one we predict change of prices------------------ \n",
        "inputA = Input(shape=(50000, 4), name='buy')\n",
        "inputB = Input(shape=(50000, 4), name='sell')\n",
        "\n",
        "buy = Conv1D(64, 3, activation=\"relu\")(inputA)\n",
        "buy = MaxPooling1D(pool_size=2)(buy)\n",
        "buy = Dropout(0.2)(buy)\n",
        "buy = Conv1D(64, 3, activation=\"relu\")(buy)\n",
        "buy = MaxPooling1D(pool_size=2)(buy)\n",
        "buy = Dropout(0.2)(buy)\n",
        "buy = Conv1D(64, 3, activation=\"relu\")(buy)\n",
        "buy = MaxPooling1D(pool_size=2)(buy)\n",
        "buy = Dropout(0.2)(buy)\n",
        "buy = Model(inputs=inputA, outputs=buy)\n",
        "\n",
        "sell = Conv1D(64, 3, activation=\"relu\")(inputB)\n",
        "sell = MaxPooling1D(pool_size=2)(sell)\n",
        "sell = Dropout(0.2)(sell)\n",
        "sell = Conv1D(64, 3, activation=\"relu\")(sell)\n",
        "sell = MaxPooling1D(pool_size=2)(sell)\n",
        "sell = Dropout(0.2)(sell)\n",
        "sell = Conv1D(64, 3, activation=\"relu\")(sell)\n",
        "sell = MaxPooling1D(pool_size=2)(sell)\n",
        "sell = Dropout(0.2)(sell)\n",
        "sell = Model(inputs=inputB, outputs=sell)\n",
        "\n",
        "combined = concatenate([buy.output, sell.output])\n",
        "\n",
        "final = LSTM(128, return_sequences=True)(combined)\n",
        "final = Dropout(0.2)(final)\n",
        "final = LSTM(128, return_sequences=True)(final)\n",
        "final = Dropout(0.2)(final)\n",
        "final = LSTM(128, return_sequences=False)(final)\n",
        "final = Dense(128, activation=tf.keras.activations.tanh)(final)\n",
        "final = Dropout(0.2)(final)\n",
        "# final = Dense(128, activation=\"relu\")(final)\n",
        "final = Dense(128, activation=tf.keras.activations.tanh)(final)\n",
        "final = Dropout(0.2)(final)\n",
        "final = Dense(128, activation=tf.keras.activations.tanh)(final)\n",
        "final = Dropout(0.2)(final)\n",
        "final = Dense(1, activation='sigmoid', name='final')(final)\n",
        "\n",
        "model = Model(inputs=[buy.input, sell.input], outputs=final)"
      ],
      "metadata": {
        "id": "UTqp1NGX99ih"
      },
      "execution_count": null,
      "outputs": []
    },
    {
      "cell_type": "code",
      "source": [
        "model.summary()"
      ],
      "metadata": {
        "colab": {
          "base_uri": "https://localhost:8080/"
        },
        "id": "-j0EtcXHNhzt",
        "outputId": "06b5f196-fe2f-43f3-eab4-ccd2d0614878"
      },
      "execution_count": null,
      "outputs": [
        {
          "output_type": "stream",
          "name": "stdout",
          "text": [
            "Model: \"model_2\"\n",
            "__________________________________________________________________________________________________\n",
            " Layer (type)                   Output Shape         Param #     Connected to                     \n",
            "==================================================================================================\n",
            " buy (InputLayer)               [(None, 50000, 4)]   0           []                               \n",
            "                                                                                                  \n",
            " sell (InputLayer)              [(None, 50000, 4)]   0           []                               \n",
            "                                                                                                  \n",
            " conv1d (Conv1D)                (None, 49998, 64)    832         ['buy[0][0]']                    \n",
            "                                                                                                  \n",
            " conv1d_3 (Conv1D)              (None, 49998, 64)    832         ['sell[0][0]']                   \n",
            "                                                                                                  \n",
            " max_pooling1d (MaxPooling1D)   (None, 24999, 64)    0           ['conv1d[0][0]']                 \n",
            "                                                                                                  \n",
            " max_pooling1d_3 (MaxPooling1D)  (None, 24999, 64)   0           ['conv1d_3[0][0]']               \n",
            "                                                                                                  \n",
            " dropout (Dropout)              (None, 24999, 64)    0           ['max_pooling1d[0][0]']          \n",
            "                                                                                                  \n",
            " dropout_3 (Dropout)            (None, 24999, 64)    0           ['max_pooling1d_3[0][0]']        \n",
            "                                                                                                  \n",
            " conv1d_1 (Conv1D)              (None, 24997, 64)    12352       ['dropout[0][0]']                \n",
            "                                                                                                  \n",
            " conv1d_4 (Conv1D)              (None, 24997, 64)    12352       ['dropout_3[0][0]']              \n",
            "                                                                                                  \n",
            " max_pooling1d_1 (MaxPooling1D)  (None, 12498, 64)   0           ['conv1d_1[0][0]']               \n",
            "                                                                                                  \n",
            " max_pooling1d_4 (MaxPooling1D)  (None, 12498, 64)   0           ['conv1d_4[0][0]']               \n",
            "                                                                                                  \n",
            " dropout_1 (Dropout)            (None, 12498, 64)    0           ['max_pooling1d_1[0][0]']        \n",
            "                                                                                                  \n",
            " dropout_4 (Dropout)            (None, 12498, 64)    0           ['max_pooling1d_4[0][0]']        \n",
            "                                                                                                  \n",
            " conv1d_2 (Conv1D)              (None, 12496, 64)    12352       ['dropout_1[0][0]']              \n",
            "                                                                                                  \n",
            " conv1d_5 (Conv1D)              (None, 12496, 64)    12352       ['dropout_4[0][0]']              \n",
            "                                                                                                  \n",
            " max_pooling1d_2 (MaxPooling1D)  (None, 6248, 64)    0           ['conv1d_2[0][0]']               \n",
            "                                                                                                  \n",
            " max_pooling1d_5 (MaxPooling1D)  (None, 6248, 64)    0           ['conv1d_5[0][0]']               \n",
            "                                                                                                  \n",
            " dropout_2 (Dropout)            (None, 6248, 64)     0           ['max_pooling1d_2[0][0]']        \n",
            "                                                                                                  \n",
            " dropout_5 (Dropout)            (None, 6248, 64)     0           ['max_pooling1d_5[0][0]']        \n",
            "                                                                                                  \n",
            " concatenate (Concatenate)      (None, 6248, 128)    0           ['dropout_2[0][0]',              \n",
            "                                                                  'dropout_5[0][0]']              \n",
            "                                                                                                  \n",
            " lstm (LSTM)                    (None, 6248, 128)    131584      ['concatenate[0][0]']            \n",
            "                                                                                                  \n",
            " dropout_6 (Dropout)            (None, 6248, 128)    0           ['lstm[0][0]']                   \n",
            "                                                                                                  \n",
            " lstm_1 (LSTM)                  (None, 6248, 128)    131584      ['dropout_6[0][0]']              \n",
            "                                                                                                  \n",
            " dropout_7 (Dropout)            (None, 6248, 128)    0           ['lstm_1[0][0]']                 \n",
            "                                                                                                  \n",
            " lstm_2 (LSTM)                  (None, 128)          131584      ['dropout_7[0][0]']              \n",
            "                                                                                                  \n",
            " dense (Dense)                  (None, 128)          16512       ['lstm_2[0][0]']                 \n",
            "                                                                                                  \n",
            " dropout_8 (Dropout)            (None, 128)          0           ['dense[0][0]']                  \n",
            "                                                                                                  \n",
            " dense_1 (Dense)                (None, 128)          16512       ['dropout_8[0][0]']              \n",
            "                                                                                                  \n",
            " dropout_9 (Dropout)            (None, 128)          0           ['dense_1[0][0]']                \n",
            "                                                                                                  \n",
            " dense_2 (Dense)                (None, 128)          16512       ['dropout_9[0][0]']              \n",
            "                                                                                                  \n",
            " dropout_10 (Dropout)           (None, 128)          0           ['dense_2[0][0]']                \n",
            "                                                                                                  \n",
            " final (Dense)                  (None, 1)            129         ['dropout_10[0][0]']             \n",
            "                                                                                                  \n",
            "==================================================================================================\n",
            "Total params: 495,489\n",
            "Trainable params: 495,489\n",
            "Non-trainable params: 0\n",
            "__________________________________________________________________________________________________\n"
          ]
        }
      ]
    },
    {
      "cell_type": "code",
      "source": [
        "keras.utils.plot_model(model, \"multi_input_and_output_model.png\", show_shapes=True)"
      ],
      "metadata": {
        "colab": {
          "base_uri": "https://localhost:8080/",
          "height": 1000
        },
        "id": "xZF5xNULPK84",
        "outputId": "133604ee-e2d7-4188-e877-61396675f4d8"
      },
      "execution_count": null,
      "outputs": [
        {
          "output_type": "execute_result",
          "data": {
            "image/png": "[encoded data removed]",
            "text/plain": [
              "<IPython.core.display.Image object>"
            ]
          },
          "metadata": {},
          "execution_count": 19
        }
      ]
    },
    {
      "cell_type": "code",
      "source": [
        "opt = Adam(learning_rate=1e-3, decay=1e-3 / 200)\n",
        "model.compile(loss=\"binary_crossentropy\", optimizer=opt, metrics=['acc'])"
      ],
      "metadata": {
        "id": "pMrd7FYpPNwe"
      },
      "execution_count": null,
      "outputs": []
    },
    {
      "cell_type": "code",
      "source": [
        "history = model.fit(x=[b.reshape(-1, 50000, 4), s.reshape(-1, 50000, 4)], y=trade_train, epochs=10)"
      ],
      "metadata": {
        "colab": {
          "base_uri": "https://localhost:8080/"
        },
        "id": "rh507ywZPc01",
        "outputId": "87216575-6411-4bfb-ed09-b27f14d3a6d5"
      },
      "execution_count": null,
      "outputs": [
        {
          "output_type": "stream",
          "name": "stdout",
          "text": [
            "Epoch 1/10\n",
            "12/12 [==============================] - 30s 1s/step - loss: 0.6955 - acc: 0.5013\n",
            "Epoch 2/10\n",
            "12/12 [==============================] - 12s 1s/step - loss: 0.6972 - acc: 0.4853\n",
            "Epoch 3/10\n",
            "12/12 [==============================] - 12s 1s/step - loss: 0.6960 - acc: 0.4933\n",
            "Epoch 4/10\n",
            "12/12 [==============================] - 14s 1s/step - loss: 0.6939 - acc: 0.5280\n",
            "Epoch 5/10\n",
            "12/12 [==============================] - 13s 1s/step - loss: 0.6945 - acc: 0.4800\n",
            "Epoch 6/10\n",
            "12/12 [==============================] - 12s 1s/step - loss: 0.6939 - acc: 0.4907\n",
            "Epoch 7/10\n",
            "12/12 [==============================] - 12s 986ms/step - loss: 0.6956 - acc: 0.4827\n",
            "Epoch 8/10\n",
            "12/12 [==============================] - 12s 997ms/step - loss: 0.6958 - acc: 0.5173\n",
            "Epoch 9/10\n",
            "12/12 [==============================] - 13s 1s/step - loss: 0.6969 - acc: 0.4667\n",
            "Epoch 10/10\n",
            "12/12 [==============================] - 12s 990ms/step - loss: 0.6945 - acc: 0.4827\n"
          ]
        }
      ]
    },
    {
      "cell_type": "markdown",
      "source": [
        "RESULTS\n",
        "\n",
        "Epoch 1/10\n",
        "12/12 [==============================] - 30s 1s/step - loss: 0.6955 - acc: 0.5013\n",
        "\n",
        "Epoch 2/10\n",
        "12/12 [==============================] - 12s 1s/step - loss: 0.6972 - acc: 0.4853\n",
        "\n",
        "Epoch 3/10\n",
        "12/12 [==============================] - 12s 1s/step - loss: 0.6960 - acc: 0.4933\n",
        "\n",
        "Epoch 4/10\n",
        "12/12 [==============================] - 14s 1s/step - loss: 0.6939 - acc: 0.5280\n",
        "\n",
        "Epoch 5/10\n",
        "12/12 [==============================] - 13s 1s/step - loss: 0.6945 - acc: 0.4800\n",
        "\n",
        "Epoch 6/10\n",
        "12/12 [==============================] - 12s 1s/step - loss: 0.6939 - acc: 0.4907\n",
        "\n",
        "Epoch 7/10\n",
        "12/12 [==============================] - 12s 986ms/step - loss: 0.6956 - acc: 0.4827\n",
        "\n",
        "Epoch 8/10\n",
        "12/12 [==============================] - 12s 997ms/step - loss: 0.6958 - acc: 0.5173\n",
        "\n",
        "Epoch 9/10\n",
        "12/12 [==============================] - 13s 1s/step - loss: 0.6969 - acc: 0.4667\n",
        "\n",
        "Epoch 10/10\n",
        "12/12 [==============================] - 12s 990ms/step - loss: 0.6945 - acc: 0.4827\n",
        "\n"
      ],
      "metadata": {
        "id": "c4pJTOU__kf4"
      }
    },
    {
      "cell_type": "markdown",
      "source": [
        "## Combined Demand And Supply"
      ],
      "metadata": {
        "id": "PfmO1t1SoYvY"
      }
    },
    {
      "cell_type": "code",
      "source": [
        "bs = np.stack((b.reshape(-1, 50000, 4), s.reshape(-1, 50000, 4)), axis=1)\n",
        "bs.shape"
      ],
      "metadata": {
        "colab": {
          "base_uri": "https://localhost:8080/"
        },
        "id": "IMSuVxuAA07T",
        "outputId": "22866ddf-faf1-48a5-8a9e-c8d7ad72147e"
      },
      "execution_count": null,
      "outputs": [
        {
          "output_type": "execute_result",
          "data": {
            "text/plain": [
              "(375, 2, 50000, 4)"
            ]
          },
          "metadata": {},
          "execution_count": 18
        }
      ]
    },
    {
      "cell_type": "code",
      "source": [
        "from sklearn.decomposition import PCA\n",
        "pca_b = b.copy()\n",
        "pca_s = s.copy()\n",
        "\n",
        "pca = PCA(n_components=4)\n",
        "pca_b = pca.fit_transform(pca_b)\n",
        "pca_s = pca.fit_transform(pca_s)\n",
        "\n",
        "bbss = np.hstack((pca_b.reshape(-1, 50000, 4), pca_s.reshape(-1, 50000, 4)))\n",
        "bbss.shape"
      ],
      "metadata": {
        "colab": {
          "base_uri": "https://localhost:8080/"
        },
        "id": "tVxsTaVtKTwF",
        "outputId": "14fc495d-37d9-4cde-a8c9-1f969472a2cc"
      },
      "execution_count": null,
      "outputs": [
        {
          "output_type": "execute_result",
          "data": {
            "text/plain": [
              "array([[-0.06377079, -0.55164953, -1.45981454, -0.20329746],\n",
              "       [-0.0606409 , -0.64082461, -1.45981454, -0.20329746],\n",
              "       [-0.05255536, -0.47258096, -1.45981454, -0.20329746],\n",
              "       ...,\n",
              "       [ 0.        ,  0.        ,  0.        ,  0.        ],\n",
              "       [ 0.        ,  0.        ,  0.        ,  0.        ],\n",
              "       [ 0.        ,  0.        ,  0.        ,  0.        ]])"
            ]
          },
          "metadata": {},
          "execution_count": 11
        }
      ]
    },
    {
      "cell_type": "code",
      "source": [
        "pca = PCA(n_components=4)\n",
        "pca_b = pca.fit_transform(pca_b)\n",
        "pca_s = pca.fit_transform(pca_s)"
      ],
      "metadata": {
        "id": "ZqEcDYU2K_v8"
      },
      "execution_count": null,
      "outputs": []
    },
    {
      "cell_type": "code",
      "source": [
        "bbss = np.hstack((pca_b.reshape(-1, 50000, 4), pca_s.reshape(-1, 50000, 4)))\n",
        "bbss.shape"
      ],
      "metadata": {
        "colab": {
          "base_uri": "https://localhost:8080/"
        },
        "id": "gChl8d-QEACV",
        "outputId": "349dea00-449e-4034-d01f-f4bdebcdc198"
      },
      "execution_count": null,
      "outputs": [
        {
          "output_type": "execute_result",
          "data": {
            "text/plain": [
              "(375, 100000, 4)"
            ]
          },
          "metadata": {},
          "execution_count": 13
        }
      ]
    },
    {
      "cell_type": "code",
      "source": [
        "#--------------- in this one we predict change of prices in one model------------------ \n",
        "model = Sequential()\n",
        "model.add(Conv1D(128, 5, activation='relu', input_shape=(100000, 4)))\n",
        "model.add(MaxPooling1D(pool_size=2))\n",
        "model.add(Dropout(0.2))\n",
        "model.add(Conv1D(128, 5, activation='relu'))\n",
        "model.add(MaxPooling1D(pool_size=2))\n",
        "model.add(Dropout(0.2))\n",
        "model.add(Conv1D(128, 5, activation='relu'))\n",
        "model.add(MaxPooling1D(pool_size=2))\n",
        "model.add(Dropout(0.2))\n",
        "model.add(LSTM(units=64, return_sequences = True))\n",
        "model.add(Dropout(0.2))\n",
        "model.add(LSTM(units=64, return_sequences = False))\n",
        "model.add(Dropout(0.2))\n",
        "model.add(Dense(64, activation=tf.keras.activations.tanh))\n",
        "model.add(Dropout(0.2))\n",
        "model.add(Dense(64, activation=tf.keras.activations.tanh))\n",
        "model.add(Dropout(0.2))\n",
        "model.add(Dense(1, activation='sigmoid', name='final'))\n",
        "model.summary()\n",
        "\n",
        "# model.compile(optimizer='adam', loss='binary_crossentropy', metrics=['acc'])"
      ],
      "metadata": {
        "colab": {
          "base_uri": "https://localhost:8080/"
        },
        "id": "m6Uwj2xaow8F",
        "outputId": "1f7043ab-ad1a-43c2-a471-242fe10fa92c"
      },
      "execution_count": null,
      "outputs": [
        {
          "output_type": "stream",
          "name": "stdout",
          "text": [
            "Model: \"sequential\"\n",
            "_________________________________________________________________\n",
            " Layer (type)                Output Shape              Param #   \n",
            "=================================================================\n",
            " conv1d (Conv1D)             (None, 99996, 128)        2688      \n",
            "                                                                 \n",
            " max_pooling1d (MaxPooling1D  (None, 49998, 128)       0         \n",
            " )                                                               \n",
            "                                                                 \n",
            " dropout (Dropout)           (None, 49998, 128)        0         \n",
            "                                                                 \n",
            " conv1d_1 (Conv1D)           (None, 49994, 128)        82048     \n",
            "                                                                 \n",
            " max_pooling1d_1 (MaxPooling  (None, 24997, 128)       0         \n",
            " 1D)                                                             \n",
            "                                                                 \n",
            " dropout_1 (Dropout)         (None, 24997, 128)        0         \n",
            "                                                                 \n",
            " conv1d_2 (Conv1D)           (None, 24993, 128)        82048     \n",
            "                                                                 \n",
            " max_pooling1d_2 (MaxPooling  (None, 12496, 128)       0         \n",
            " 1D)                                                             \n",
            "                                                                 \n",
            " dropout_2 (Dropout)         (None, 12496, 128)        0         \n",
            "                                                                 \n",
            " lstm (LSTM)                 (None, 12496, 64)         49408     \n",
            "                                                                 \n",
            " dropout_3 (Dropout)         (None, 12496, 64)         0         \n",
            "                                                                 \n",
            " lstm_1 (LSTM)               (None, 64)                33024     \n",
            "                                                                 \n",
            " dropout_4 (Dropout)         (None, 64)                0         \n",
            "                                                                 \n",
            " dense (Dense)               (None, 64)                4160      \n",
            "                                                                 \n",
            " dropout_5 (Dropout)         (None, 64)                0         \n",
            "                                                                 \n",
            " dense_1 (Dense)             (None, 64)                4160      \n",
            "                                                                 \n",
            " dropout_6 (Dropout)         (None, 64)                0         \n",
            "                                                                 \n",
            " final (Dense)               (None, 1)                 65        \n",
            "                                                                 \n",
            "=================================================================\n",
            "Total params: 257,601\n",
            "Trainable params: 257,601\n",
            "Non-trainable params: 0\n",
            "_________________________________________________________________\n"
          ]
        }
      ]
    },
    {
      "cell_type": "code",
      "source": [
        "model.summary()"
      ],
      "metadata": {
        "id": "EH9FPuuRokl5"
      },
      "execution_count": null,
      "outputs": []
    },
    {
      "cell_type": "code",
      "source": [
        "opt = Adam(learning_rate=1e-3, decay=1e-3 / 200)\n",
        "model.compile(loss=\"binary_crossentropy\", optimizer=opt, metrics=['acc'])"
      ],
      "metadata": {
        "id": "P9PyYwmwQBae"
      },
      "execution_count": null,
      "outputs": []
    },
    {
      "cell_type": "code",
      "source": [
        "history = model.fit(x=bbss, y=trade_train, epochs=10)"
      ],
      "metadata": {
        "colab": {
          "base_uri": "https://localhost:8080/"
        },
        "id": "xjb_wueDopXG",
        "outputId": "63bf1576-4067-415c-e179-a76c2319dd9b"
      },
      "execution_count": null,
      "outputs": [
        {
          "output_type": "stream",
          "name": "stdout",
          "text": [
            "Epoch 1/10\n",
            "12/12 [==============================] - 32s 2s/step - loss: 0.6941 - acc: 0.4747\n",
            "Epoch 2/10\n",
            "12/12 [==============================] - 17s 1s/step - loss: 0.6943 - acc: 0.4613\n",
            "Epoch 3/10\n",
            "12/12 [==============================] - 17s 1s/step - loss: 0.6940 - acc: 0.4427\n",
            "Epoch 4/10\n",
            "12/12 [==============================] - 17s 1s/step - loss: 0.6943 - acc: 0.4853\n",
            "Epoch 5/10\n",
            "12/12 [==============================] - 17s 1s/step - loss: 0.6938 - acc: 0.4800\n",
            "Epoch 6/10\n",
            "12/12 [==============================] - 17s 1s/step - loss: 0.6940 - acc: 0.4987\n",
            "Epoch 7/10\n",
            "12/12 [==============================] - 17s 1s/step - loss: 0.6948 - acc: 0.4613\n",
            "Epoch 8/10\n",
            "12/12 [==============================] - 17s 1s/step - loss: 0.6939 - acc: 0.4693\n",
            "Epoch 9/10\n",
            "12/12 [==============================] - 17s 1s/step - loss: 0.6925 - acc: 0.5333\n",
            "Epoch 10/10\n",
            "12/12 [==============================] - 17s 1s/step - loss: 0.6956 - acc: 0.4533\n"
          ]
        }
      ]
    },
    {
      "cell_type": "markdown",
      "source": [
        "RESULTS\n",
        "\n",
        "\n",
        "Epoch 1/10\n",
        "12/12 [==============================] - 25s 2s/step - loss: 0.6945 - acc: 0.4987\n",
        "\n",
        "Epoch 2/10\n",
        "12/12 [==============================] - 17s 1s/step - loss: 0.6933 - acc: 0.5013\n",
        "\n",
        "Epoch 3/10\n",
        "12/12 [==============================] - 19s 2s/step - loss: 0.6930 - acc: 0.4800\n",
        "\n",
        "Epoch 4/10\n",
        "12/12 [==============================] - 20s 2s/step - loss: 0.6933 - acc: 0.5093\n",
        "\n",
        "Epoch 5/10\n",
        "12/12 [==============================] - 17s 1s/step - loss: 0.6930 - acc: 0.5093\n",
        "\n",
        "Epoch 6/10\n",
        "12/12 [==============================] - 18s 2s/step - loss: 0.6956 - acc: 0.4880\n",
        "\n",
        "Epoch 7/10\n",
        "12/12 [==============================] - 18s 1s/step - loss: 0.6936 - acc: 0.4827\n",
        "\n",
        "Epoch 8/10\n",
        "12/12 [==============================] - 17s 1s/step - loss: 0.6939 - acc: 0.4907\n",
        "\n",
        "Epoch 9/10\n",
        "12/12 [==============================] - 17s 1s/step - loss: 0.6930 - acc: 0.5040\n",
        "\n",
        "Epoch 10/10\n",
        "12/12 [==============================] - 17s 1s/step - loss: 0.6935 - acc: 0.4800\n",
        "\n",
        "\n",
        "\n",
        "\n",
        "-------------------------------\n",
        "\n",
        "with PCA\n",
        "\n",
        "\n",
        "Epoch 1/10\n",
        "12/12 [==============================] - 32s 2s/step - loss: 0.6941 - acc: 0.4747\n",
        "\n",
        "Epoch 2/10\n",
        "12/12 [==============================] - 17s 1s/step - loss: 0.6943 - acc: 0.4613\n",
        "\n",
        "Epoch 3/10\n",
        "12/12 [==============================] - 17s 1s/step - loss: 0.6940 - acc: 0.4427\n",
        "\n",
        "Epoch 4/10\n",
        "12/12 [==============================] - 17s 1s/step - loss: 0.6943 - acc: 0.4853\n",
        "\n",
        "Epoch 5/10\n",
        "12/12 [==============================] - 17s 1s/step - loss: 0.6938 - acc: 0.4800\n",
        "\n",
        "Epoch 6/10\n",
        "12/12 [==============================] - 17s 1s/step - loss: 0.6940 - acc: 0.4987\n",
        "\n",
        "Epoch 7/10\n",
        "12/12 [==============================] - 17s 1s/step - loss: 0.6948 - acc: 0.4613\n",
        "\n",
        "Epoch 8/10\n",
        "12/12 [==============================] - 17s 1s/step - loss: 0.6939 - acc: 0.4693\n",
        "\n",
        "Epoch 9/10\n",
        "12/12 [==============================] - 17s 1s/step - loss: 0.6925 - acc: 0.5333\n",
        "\n",
        "Epoch 10/10\n",
        "12/12 [==============================] - 17s 1s/step - loss: 0.6956 - acc: 0.4533"
      ],
      "metadata": {
        "id": "W5cX-aZCIjmh"
      }
    },
    {
      "cell_type": "code",
      "source": [],
      "metadata": {
        "id": "KGAAgKm8E1oi"
      },
      "execution_count": null,
      "outputs": []
    },
    {
      "cell_type": "code",
      "source": [],
      "metadata": {
        "id": "7pPF0EZuFClX"
      },
      "execution_count": null,
      "outputs": []
    },
    {
      "cell_type": "code",
      "source": [],
      "metadata": {
        "id": "AdL4cpOLFDLf"
      },
      "execution_count": null,
      "outputs": []
    },
    {
      "cell_type": "code",
      "source": [],
      "metadata": {
        "id": "jM9ZBNcaFDIn"
      },
      "execution_count": null,
      "outputs": []
    },
    {
      "cell_type": "code",
      "source": [
        "#--------------- in this one we predict change of prices------------------ \n",
        "# inputA = Input(shape=(50000, 4), name='buy')\n",
        "# inputB = Input(shape=(50000, 4), name='sell')\n",
        "\n",
        "# buy = Conv1D(64, 3, activation=\"relu\")(inputA)\n",
        "# buy = MaxPooling1D(pool_size=2)(buy)\n",
        "# buy = Conv1D(64, 3, activation=\"relu\")(buy)\n",
        "# buy = MaxPooling1D(pool_size=2)(buy)\n",
        "# buy = Conv1D(64, 3, activation=\"relu\")(buy)\n",
        "# buy = MaxPooling1D(pool_size=2)(buy)\n",
        "# buy = Model(inputs=inputA, outputs=buy)\n",
        "\n",
        "# sell = Conv1D(64, 3, activation=\"relu\")(inputB)\n",
        "# sell = MaxPooling1D(pool_size=2)(sell)\n",
        "# sell = Conv1D(64, 3, activation=\"relu\")(sell)\n",
        "# sell = MaxPooling1D(pool_size=2)(sell)\n",
        "# sell = Conv1D(64, 3, activation=\"relu\")(sell)\n",
        "# sell = MaxPooling1D(pool_size=2)(sell)\n",
        "# sell = Model(inputs=inputB, outputs=sell)\n",
        "\n",
        "# combined = concatenate([buy.output, sell.output])\n",
        "\n",
        "# final = LSTM(128, return_sequences=True)(combined)\n",
        "# final = LSTM(128, return_sequences=True)(final)\n",
        "# final = LSTM(128, return_sequences=False)(final)\n",
        "# final = Dense(128, activation=tf.keras.activations.tanh)(final)\n",
        "# # final = Dense(128, activation=\"relu\")(final)\n",
        "# final = Dense(128, activation=tf.keras.activations.tanh)(final)\n",
        "# final = Dense(128, activation=tf.keras.activations.tanh)(final)\n",
        "# final = Dense(1, activation='sigmoid', name='final')(final)\n",
        "\n",
        "# model = Model(inputs=[buy.input, sell.input], outputs=final)"
      ],
      "metadata": {
        "id": "kis2Pj5hoYXz"
      },
      "execution_count": null,
      "outputs": []
    }
  ]
}